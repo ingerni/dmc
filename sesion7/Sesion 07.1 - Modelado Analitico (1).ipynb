{
 "cells": [
  {
   "cell_type": "markdown",
   "metadata": {
    "application/vnd.databricks.v1+cell": {
     "cellMetadata": {
      "byteLimit": 2048000,
      "rowLimit": 10000
     },
     "inputWidgets": {},
     "nuid": "68173f91-395a-4ae9-bd5f-56fc5379afe2",
     "showTitle": false,
     "tableResultSettingsMap": {},
     "title": ""
    }
   },
   "source": [
    "### Objetivo del laboratorio\n",
    "Construir un modelo estrella (hechos y dimensiones) a partir del negocio universitario usando Delta Lake y Unity Catalog.\n",
    "\n",
    "**Capas:**\n",
    "- **Bronze**: lee los 4 CSV (estudiantes, cursos, profesores, matriculas) y los escribe como Delta raw.\n",
    "\n",
    "- **Silver**: limpieza y normalización.\n",
    "\n",
    "- **Gold**: construye el **modelo estrella**:\n",
    "\n",
    "  -   `dim_estudiante, dim_curso, dim_profesor, dim_tiempo`\n",
    "  -   `fact_matricula` (FKs + medidas: nota_final, aprobado, creditos_curso)\n",
    "\n",
    "- **Vistas/KPIs:**\n",
    "\n",
    "  -   `vw_kpi_carrera` (alumnos, promedio, créditos)\n",
    "  -   `vw_top_cursos_semestre`\n",
    "  -   `vw_desempeno_profesor`"
   ]
  },
  {
   "cell_type": "code",
   "execution_count": 0,
   "metadata": {
    "application/vnd.databricks.v1+cell": {
     "cellMetadata": {
      "byteLimit": 2048000,
      "rowLimit": 10000
     },
     "inputWidgets": {},
     "nuid": "11eeafc2-2298-4769-b285-7d7d09351291",
     "showTitle": false,
     "tableResultSettingsMap": {},
     "title": ""
    }
   },
   "outputs": [],
   "source": [
    "catalog_name = \"sesion_0701\"\n",
    "schema_bronze = \"bronze\"\n",
    "schema_silver = \"silver\"\n",
    "schema_gold = \"gold\""
   ]
  },
  {
   "cell_type": "code",
   "execution_count": 0,
   "metadata": {
    "application/vnd.databricks.v1+cell": {
     "cellMetadata": {
      "byteLimit": 2048000,
      "rowLimit": 10000
     },
     "inputWidgets": {},
     "nuid": "f4787ff2-8663-452f-b747-dee00716c1af",
     "showTitle": false,
     "tableResultSettingsMap": {},
     "title": ""
    }
   },
   "outputs": [],
   "source": [
    "sql_catalog = f\"\"\"\n",
    "    CREATE CATALOG IF NOT EXISTS {catalog_name}\n",
    "\"\"\"\n",
    "\n",
    "spark.sql(sql_catalog)"
   ]
  },
  {
   "cell_type": "code",
   "execution_count": 0,
   "metadata": {
    "application/vnd.databricks.v1+cell": {
     "cellMetadata": {
      "byteLimit": 2048000,
      "rowLimit": 10000
     },
     "inputWidgets": {},
     "nuid": "f33e7ccb-fe70-4655-a4b3-1695e1292131",
     "showTitle": false,
     "tableResultSettingsMap": {},
     "title": ""
    }
   },
   "outputs": [],
   "source": [
    "sql_bronze = f\"\"\"\n",
    "    CREATE SCHEMA IF NOT EXISTS {catalog_name}.{schema_bronze}\n",
    "\"\"\"\n",
    "\n",
    "spark.sql(sql_bronze)"
   ]
  },
  {
   "cell_type": "code",
   "execution_count": 0,
   "metadata": {
    "application/vnd.databricks.v1+cell": {
     "cellMetadata": {
      "byteLimit": 2048000,
      "rowLimit": 10000
     },
     "inputWidgets": {},
     "nuid": "3a6b131a-74ef-4a4c-a54a-052a5999659a",
     "showTitle": false,
     "tableResultSettingsMap": {},
     "title": ""
    }
   },
   "outputs": [],
   "source": [
    "sql_silver = f\"\"\"\n",
    "    CREATE SCHEMA IF NOT EXISTS {catalog_name}.{schema_silver}\n",
    "\"\"\"\n",
    "\n",
    "spark.sql(sql_silver)"
   ]
  },
  {
   "cell_type": "code",
   "execution_count": 0,
   "metadata": {
    "application/vnd.databricks.v1+cell": {
     "cellMetadata": {
      "byteLimit": 2048000,
      "rowLimit": 10000
     },
     "inputWidgets": {},
     "nuid": "6c18017a-499f-47e8-bf05-961d0c7f3a6c",
     "showTitle": false,
     "tableResultSettingsMap": {},
     "title": ""
    }
   },
   "outputs": [],
   "source": [
    "sql_gold = f\"\"\"\n",
    "    CREATE SCHEMA IF NOT EXISTS {catalog_name}.{schema_gold}\n",
    "\"\"\"\n",
    "\n",
    "spark.sql(sql_gold)"
   ]
  },
  {
   "cell_type": "markdown",
   "metadata": {
    "application/vnd.databricks.v1+cell": {
     "cellMetadata": {
      "byteLimit": 2048000,
      "rowLimit": 10000
     },
     "inputWidgets": {},
     "nuid": "fccbc9e5-5a64-46e2-97bc-e553e84738c7",
     "showTitle": false,
     "tableResultSettingsMap": {},
     "title": ""
    }
   },
   "source": [
    "### Bronze"
   ]
  },
  {
   "cell_type": "code",
   "execution_count": 0,
   "metadata": {
    "application/vnd.databricks.v1+cell": {
     "cellMetadata": {
      "byteLimit": 2048000,
      "rowLimit": 10000
     },
     "inputWidgets": {},
     "nuid": "f7c8bb7e-5e35-46a4-8015-7f61b3ec65df",
     "showTitle": false,
     "tableResultSettingsMap": {},
     "title": ""
    }
   },
   "outputs": [],
   "source": [
    "path_base = \"/Volumes/sesion_0701/default/input/\"\n",
    "\n",
    "path_estudiantes = f\"{path_base}/estudiantes.csv\"\n",
    "path_cursos = f\"{path_base}/cursos.csv\"\n",
    "path_profesores = f\"{path_base}/profesores.csv\"\n",
    "path_matriculas = f\"{path_base}/matriculas.csv\""
   ]
  },
  {
   "cell_type": "code",
   "execution_count": 0,
   "metadata": {
    "application/vnd.databricks.v1+cell": {
     "cellMetadata": {
      "byteLimit": 2048000,
      "rowLimit": 10000
     },
     "inputWidgets": {},
     "nuid": "4653459d-f287-40b9-8705-0e67d46aea8d",
     "showTitle": false,
     "tableResultSettingsMap": {},
     "title": ""
    }
   },
   "outputs": [],
   "source": [
    "estudiantes = spark.read.option(\"header\", True).option(\"inferSchema\", True).csv(path_estudiantes)\n",
    "cursos = spark.read.option(\"header\", True).option(\"inferSchema\", True).csv(path_cursos)\n",
    "profesores = spark.read.option(\"header\", True).option(\"inferSchema\", True).csv(path_profesores)\n",
    "matriculas = spark.read.option(\"header\", True).option(\"inferSchema\", True).csv(path_matriculas)"
   ]
  },
  {
   "cell_type": "code",
   "execution_count": 0,
   "metadata": {
    "application/vnd.databricks.v1+cell": {
     "cellMetadata": {
      "byteLimit": 2048000,
      "rowLimit": 10000
     },
     "inputWidgets": {},
     "nuid": "d0a573a4-eac6-4369-b620-4a97598a6791",
     "showTitle": false,
     "tableResultSettingsMap": {},
     "title": ""
    }
   },
   "outputs": [],
   "source": [
    "estudiantes.write.format(\"delta\").mode(\"overwrite\").saveAsTable(f\"{catalog_name}.{schema_bronze}.estudiantes\")\n",
    "cursos.write.format(\"delta\").mode(\"overwrite\").saveAsTable(f\"{catalog_name}.{schema_bronze}.cursos\")\n",
    "profesores.write.format(\"delta\").mode(\"overwrite\").saveAsTable(f\"{catalog_name}.{schema_bronze}.profesores\")\n",
    "matriculas.write.format(\"delta\").mode(\"overwrite\").saveAsTable(f\"{catalog_name}.{schema_bronze}.matriculas\")"
   ]
  },
  {
   "cell_type": "markdown",
   "metadata": {
    "application/vnd.databricks.v1+cell": {
     "cellMetadata": {
      "byteLimit": 2048000,
      "rowLimit": 10000
     },
     "inputWidgets": {},
     "nuid": "98fa764c-865c-4e8b-a8b2-9cc32a984bb6",
     "showTitle": false,
     "tableResultSettingsMap": {},
     "title": ""
    }
   },
   "source": [
    "### Silver"
   ]
  },
  {
   "cell_type": "code",
   "execution_count": 0,
   "metadata": {
    "application/vnd.databricks.v1+cell": {
     "cellMetadata": {
      "byteLimit": 2048000,
      "rowLimit": 10000
     },
     "inputWidgets": {},
     "nuid": "014c5a01-21db-4c95-9885-460106005675",
     "showTitle": false,
     "tableResultSettingsMap": {},
     "title": ""
    }
   },
   "outputs": [],
   "source": [
    "from pyspark.sql.functions import col, trim, initcap, when, lit, year, month, dayofmonth, concat, concat_ws"
   ]
  },
  {
   "cell_type": "code",
   "execution_count": 0,
   "metadata": {
    "application/vnd.databricks.v1+cell": {
     "cellMetadata": {
      "byteLimit": 2048000,
      "rowLimit": 10000
     },
     "inputWidgets": {},
     "nuid": "11385ca5-70e8-4958-8316-36109885e8d8",
     "showTitle": false,
     "tableResultSettingsMap": {},
     "title": ""
    }
   },
   "outputs": [],
   "source": [
    "silver_estudiantes = (\n",
    "  spark.table(f\"{catalog_name}.{schema_bronze}.estudiantes\")\n",
    "  .withColumn(\"nombre\", initcap(trim(col(\"nombre\"))))\n",
    "  .withColumn(\"apellido\", initcap(trim(col(\"apellido\"))))\n",
    "  .withColumn(\"carrera\", initcap(trim(col(\"carrera\"))))\n",
    "  .withColumn(\"fecha_ingreso\", col(\"fecha_ingreso\").cast(\"date\"))\n",
    "  .dropna(subset=[\"id_estudiante\"])\n",
    "  .dropDuplicates([\"id_estudiante\"])\n",
    ")"
   ]
  },
  {
   "cell_type": "code",
   "execution_count": 0,
   "metadata": {
    "application/vnd.databricks.v1+cell": {
     "cellMetadata": {
      "byteLimit": 2048000,
      "rowLimit": 10000
     },
     "inputWidgets": {},
     "nuid": "bdb5f4b4-a866-4882-9750-3212f8d3b4ca",
     "showTitle": false,
     "tableResultSettingsMap": {},
     "title": ""
    }
   },
   "outputs": [],
   "source": [
    "silver_cursos = (\n",
    "  spark.table(f\"{catalog_name}.{schema_bronze}.cursos\")\n",
    "  .withColumn(\"nombre_curso\", initcap(trim(col(\"nombre_curso\"))))\n",
    "  .withColumn(\"facultad\", initcap(trim(col(\"facultad\"))))\n",
    "  .withColumn(\"creditos\", col(\"creditos\").cast(\"int\"))\n",
    "  .filter(col(\"creditos\") > 0)\n",
    "  .dropna(subset=[\"id_curso\"])\n",
    "  .dropDuplicates([\"id_curso\"])\n",
    ")\n",
    "\n",
    "display(silver_cursos)"
   ]
  },
  {
   "cell_type": "code",
   "execution_count": 0,
   "metadata": {
    "application/vnd.databricks.v1+cell": {
     "cellMetadata": {
      "byteLimit": 2048000,
      "rowLimit": 10000
     },
     "inputWidgets": {},
     "nuid": "61d13d13-6c12-45e0-8a03-7898b837a23d",
     "showTitle": false,
     "tableResultSettingsMap": {},
     "title": ""
    }
   },
   "outputs": [],
   "source": [
    "silver_profesores = (\n",
    "  spark.table(f\"{catalog_name}.{schema_bronze}.profesores\")\n",
    "  .withColumn(\"nombre\", initcap(trim(col(\"nombre\"))))\n",
    "  .withColumn(\"apellido\", initcap(trim(col(\"apellido\"))))\n",
    "  .withColumn(\"facultad\", initcap(trim(col(\"facultad\"))))\n",
    "  .dropna(subset=[\"id_profesor\"])\n",
    "  .dropDuplicates([\"id_profesor\"])\n",
    ")\n",
    "\n",
    "display(silver_profesores)"
   ]
  },
  {
   "cell_type": "code",
   "execution_count": 0,
   "metadata": {
    "application/vnd.databricks.v1+cell": {
     "cellMetadata": {
      "byteLimit": 2048000,
      "rowLimit": 10000
     },
     "inputWidgets": {},
     "nuid": "9c9a171b-11fc-48a1-8aa1-4c8eb428dd6b",
     "showTitle": false,
     "tableResultSettingsMap": {
      "0": {
       "dataGridStateBlob": "{\"version\":1,\"tableState\":{\"columnPinning\":{\"left\":[\"#row_number#\"],\"right\":[]},\"columnSizing\":{},\"columnVisibility\":{}},\"settings\":{\"columns\":{}},\"syncTimestamp\":1756258730892}",
       "filterBlob": null,
       "queryPlanFiltersBlob": null,
       "tableResultIndex": 0
      }
     },
     "title": ""
    }
   },
   "outputs": [],
   "source": [
    "silver_matriculas = (\n",
    "    spark.table(f\"{catalog_name}.{schema_bronze}.matriculas\")\n",
    "    .dropna(subset=[\"id_matricula\", \"id_estudiante\", \"id_curso\"])\n",
    "    .withColumn(\"nota_final\", col(\"nota_final\").cast(\"int\"))\n",
    "    .withColumn(\n",
    "        \"aprobado\",\n",
    "        when(col(\"nota_final\") >= 11, lit(1))\n",
    "        .otherwise(lit(0))\n",
    "    )\n",
    ")\n",
    "\n",
    "display(silver_matriculas)"
   ]
  },
  {
   "cell_type": "code",
   "execution_count": 0,
   "metadata": {
    "application/vnd.databricks.v1+cell": {
     "cellMetadata": {
      "byteLimit": 2048000,
      "rowLimit": 10000
     },
     "inputWidgets": {},
     "nuid": "dada71e6-7a46-4a4c-a0a2-de23fdc4d779",
     "showTitle": false,
     "tableResultSettingsMap": {},
     "title": ""
    }
   },
   "outputs": [],
   "source": [
    "silver_estudiantes.write.format(\"delta\").mode(\"overwrite\").saveAsTable(f\"{catalog_name}.{schema_silver}.estudiantes\")\n",
    "silver_cursos.write.format(\"delta\").mode(\"overwrite\").saveAsTable(f\"{catalog_name}.{schema_silver}.cursos\")\n",
    "silver_profesores.write.format(\"delta\").mode(\"overwrite\").saveAsTable(f\"{catalog_name}.{schema_silver}.profesores\")\n",
    "silver_matriculas.write.format(\"delta\").mode(\"overwrite\").saveAsTable(f\"{catalog_name}.{schema_silver}.matriculas\")"
   ]
  },
  {
   "cell_type": "markdown",
   "metadata": {
    "application/vnd.databricks.v1+cell": {
     "cellMetadata": {
      "byteLimit": 2048000,
      "rowLimit": 10000
     },
     "inputWidgets": {},
     "nuid": "90246163-776b-471b-aa78-533ab5103183",
     "showTitle": false,
     "tableResultSettingsMap": {},
     "title": ""
    }
   },
   "source": [
    "### Gold"
   ]
  },
  {
   "cell_type": "code",
   "execution_count": 0,
   "metadata": {
    "application/vnd.databricks.v1+cell": {
     "cellMetadata": {
      "byteLimit": 2048000,
      "rowLimit": 10000
     },
     "inputWidgets": {},
     "nuid": "2744bb93-9a4f-4a82-9d7b-6e8027a154a2",
     "showTitle": false,
     "tableResultSettingsMap": {
      "0": {
       "dataGridStateBlob": "{\"version\":1,\"tableState\":{\"columnPinning\":{\"left\":[\"#row_number#\"],\"right\":[]},\"columnSizing\":{},\"columnVisibility\":{}},\"settings\":{\"columns\":{}},\"syncTimestamp\":1756262218827}",
       "filterBlob": null,
       "queryPlanFiltersBlob": null,
       "tableResultIndex": 0
      }
     },
     "title": ""
    }
   },
   "outputs": [],
   "source": [
    "dim_tiempo = (\n",
    "    spark.table(f\"{catalog_name}.{schema_silver}.envio_base\")\n",
    "    .select(\n",
    "        col(\"fecha_matricula\").alias(\"fecha\")\n",
    "    ).dropna().distinct()\n",
    "    .withColumn(\"anio\", year(col(\"fecha\")))\n",
    "    .withColumn(\"mes\", month(col(\"fecha\")))\n",
    "    .withColumn(\"dia\", dayofmonth(col(\"fecha\")))\n",
    "    .withColumn(\"semestre\", concat_ws(\"-\",col(\"anio\"), when(col(\"mes\") <=7, lit(\"01\")).otherwise(lit(\"02\"))))\n",
    "    .withColumn(\"id_tiempo\", (col(\"anio\")*10000 + col(\"mes\")*100 + col(\"dia\")).cast(\"int\"))\n",
    ")\n",
    "\n",
    "display(dim_tiempo)"
   ]
  },
  {
   "cell_type": "code",
   "execution_count": 0,
   "metadata": {
    "application/vnd.databricks.v1+cell": {
     "cellMetadata": {
      "byteLimit": 2048000,
      "rowLimit": 10000
     },
     "collapsed": true,
     "inputWidgets": {},
     "nuid": "fa7d838f-f046-4376-accc-2eb25eed37c2",
     "showTitle": false,
     "tableResultSettingsMap": {},
     "title": ""
    }
   },
   "outputs": [],
   "source": [
    "dim_estudiante = (\n",
    "    spark.table(f\"{catalog_name}.{schema_silver}.estudiantes\")\n",
    "    .dropDuplicates([\"id_estudiante\"])\n",
    ")\n",
    "\n",
    "display(dim_estudiante)"
   ]
  },
  {
   "cell_type": "code",
   "execution_count": 0,
   "metadata": {
    "application/vnd.databricks.v1+cell": {
     "cellMetadata": {
      "byteLimit": 2048000,
      "rowLimit": 10000
     },
     "collapsed": true,
     "inputWidgets": {},
     "nuid": "82366026-2448-4fac-89ad-8f97501832b3",
     "showTitle": false,
     "tableResultSettingsMap": {},
     "title": ""
    }
   },
   "outputs": [],
   "source": [
    "dim_cursos = (\n",
    "    spark.table(f\"{catalog_name}.{schema_silver}.cursos\")\n",
    "    .dropDuplicates([\"id_curso\"])\n",
    ")\n",
    "\n",
    "display(dim_cursos)"
   ]
  },
  {
   "cell_type": "code",
   "execution_count": 0,
   "metadata": {
    "application/vnd.databricks.v1+cell": {
     "cellMetadata": {
      "byteLimit": 2048000,
      "rowLimit": 10000
     },
     "inputWidgets": {},
     "nuid": "14ace514-f71c-4680-93c7-4ef00eebc8c9",
     "showTitle": false,
     "tableResultSettingsMap": {},
     "title": ""
    }
   },
   "outputs": [],
   "source": [
    "dim_profesor = (\n",
    "    spark.table(f\"{catalog_name}.{schema_silver}.profesores\")\n",
    "    .dropDuplicates([\"id_profesor\"])\n",
    ")\n",
    "\n",
    "display(dim_profesor)"
   ]
  },
  {
   "cell_type": "code",
   "execution_count": 0,
   "metadata": {
    "application/vnd.databricks.v1+cell": {
     "cellMetadata": {
      "byteLimit": 2048000,
      "rowLimit": 10000
     },
     "inputWidgets": {},
     "nuid": "c92f37ad-3485-4c9d-9147-27fb2397b57a",
     "showTitle": false,
     "tableResultSettingsMap": {
      "0": {
       "dataGridStateBlob": "{\"version\":1,\"tableState\":{\"columnPinning\":{\"left\":[\"#row_number#\"],\"right\":[]},\"columnSizing\":{},\"columnVisibility\":{}},\"settings\":{\"columns\":{}},\"syncTimestamp\":1756263568869}",
       "filterBlob": null,
       "queryPlanFiltersBlob": null,
       "tableResultIndex": 0
      }
     },
     "title": ""
    }
   },
   "outputs": [],
   "source": [
    "fact_matriculas = (\n",
    "    spark.table(f\"{catalog_name}.{schema_silver}.matriculas\").alias(\"m\")\n",
    "    .join(\n",
    "        dim_tiempo.alias(\"t\"),\n",
    "        col(\"m.fecha_matricula\") == col(\"t.fecha\"),\n",
    "        \"left\"\n",
    "    )\n",
    "    .join(\n",
    "        dim_cursos.alias(\"c\"),\n",
    "        col(\"m.id_curso\") == col(\"c.id_curso\"),\n",
    "        \"left\"\n",
    "    )\n",
    "    .select(\n",
    "        col(\"m.id_matricula\"),\n",
    "        col(\"t.id_tiempo\"),\n",
    "        col(\"m.id_curso\"),\n",
    "        col(\"m.id_estudiante\"),\n",
    "        col(\"m.id_profesor\"),\n",
    "        col(\"c.creditos\").alias(\"creditos_curso\"),\n",
    "        col(\"m.nota_final\"),\n",
    "        col(\"m.aprobado\")\n",
    "    )\n",
    ")\n",
    "\n",
    "display(fact_matriculas)"
   ]
  },
  {
   "cell_type": "code",
   "execution_count": 0,
   "metadata": {
    "application/vnd.databricks.v1+cell": {
     "cellMetadata": {
      "byteLimit": 2048000,
      "rowLimit": 10000
     },
     "inputWidgets": {},
     "nuid": "afcab890-d411-49b0-9716-50eabaa770cd",
     "showTitle": false,
     "tableResultSettingsMap": {},
     "title": ""
    }
   },
   "outputs": [],
   "source": [
    "dim_tiempo.write.format(\"delta\").mode(\"overwrite\").saveAsTable(f\"{catalog_name}.{schema_gold}.dim_tiempo\")\n",
    "dim_estudiante.write.format(\"delta\").mode(\"overwrite\").saveAsTable(f\"{catalog_name}.{schema_gold}.dim_estudiante\")\n",
    "dim_cursos.write.format(\"delta\").mode(\"overwrite\").saveAsTable(f\"{catalog_name}.{schema_gold}.dim_cursos\")\n",
    "dim_profesor.write.format(\"delta\").mode(\"overwrite\").saveAsTable(f\"{catalog_name}.{schema_gold}.dim_profesor\")\n",
    "fact_matriculas.write.format(\"delta\").mode(\"overwrite\").saveAsTable(f\"{catalog_name}.{schema_gold}.fact_matriculas\")"
   ]
  },
  {
   "cell_type": "code",
   "execution_count": 0,
   "metadata": {
    "application/vnd.databricks.v1+cell": {
     "cellMetadata": {},
     "inputWidgets": {},
     "nuid": "e43bccaa-eb8e-4172-932e-72b2d1362f90",
     "showTitle": false,
     "tableResultSettingsMap": {},
     "title": ""
    }
   },
   "outputs": [],
   "source": [
    "%sql\n",
    "\n",
    "Sele...."
   ]
  },
  {
   "cell_type": "code",
   "execution_count": 0,
   "metadata": {
    "application/vnd.databricks.v1+cell": {
     "cellMetadata": {},
     "collapsed": true,
     "inputWidgets": {},
     "nuid": "a700fb7c-8bb9-4a4b-b124-55ff66c8d4f9",
     "showTitle": false,
     "tableResultSettingsMap": {},
     "title": ""
    }
   },
   "outputs": [],
   "source": [
    "spark.sql(\"select.....\")"
   ]
  },
  {
   "cell_type": "code",
   "execution_count": 0,
   "metadata": {
    "application/vnd.databricks.v1+cell": {
     "cellMetadata": {},
     "inputWidgets": {},
     "nuid": "02ee0816-7b1d-4312-a271-125f29c63aeb",
     "showTitle": false,
     "tableResultSettingsMap": {},
     "title": ""
    }
   },
   "outputs": [],
   "source": [
    "%sql\n",
    "\n",
    "CREATE OR REPLACE VIEW IF NOT EXISTS sesion_0701.gold.vw_kpi_carrera\n",
    "AS\n"
   ]
  },
  {
   "cell_type": "code",
   "execution_count": 0,
   "metadata": {
    "application/vnd.databricks.v1+cell": {
     "cellMetadata": {
      "byteLimit": 2048000,
      "rowLimit": 10000
     },
     "inputWidgets": {},
     "nuid": "4a948a5d-0d45-410f-8c89-e7b27aba30cc",
     "showTitle": false,
     "tableResultSettingsMap": {},
     "title": ""
    }
   },
   "outputs": [],
   "source": [
    "spark.sql(f\"\"\"\n",
    "    CREATE OR REPLACE VIEW {catalog_name}.{schema_gold}.vw_kpi_carrera\n",
    "    AS\n",
    "    SELECT \n",
    "    de.carrera,\n",
    "    COUNT(DISTINCT fm.id_estudiante) AS cantidad_alumnos,\n",
    "    AVG(fm.nota_final) AS promedio_notas,\n",
    "    SUM(fm.creditos_curso) AS creditos_totales\n",
    "    FROM {catalog_name}.{schema_gold}.fact_matriculas fm\n",
    "    LEFT JOIN {catalog_name}.{schema_gold}.dim_estudiante de ON fm.id_estudiante = de.id_estudiante\n",
    "    GROUP BY de.carrera\n",
    "\"\"\") "
   ]
  },
  {
   "cell_type": "code",
   "execution_count": 0,
   "metadata": {
    "application/vnd.databricks.v1+cell": {
     "cellMetadata": {
      "byteLimit": 2048000,
      "implicitDf": true,
      "rowLimit": 10000
     },
     "inputWidgets": {},
     "nuid": "9d093dc7-308b-411d-914e-444df9b0a5be",
     "showTitle": false,
     "tableResultSettingsMap": {
      "0": {
       "dataGridStateBlob": "{\"version\":1,\"tableState\":{\"columnPinning\":{\"left\":[\"#row_number#\"],\"right\":[]},\"columnSizing\":{},\"columnVisibility\":{}},\"settings\":{\"columns\":{}},\"syncTimestamp\":1756264736654}",
       "filterBlob": null,
       "queryPlanFiltersBlob": null,
       "tableResultIndex": 0
      }
     },
     "title": ""
    }
   },
   "outputs": [],
   "source": [
    "%sql\n",
    "\n",
    "select * from sesion_0701.gold.vw_kpi_carrera"
   ]
  }
 ],
 "metadata": {
  "application/vnd.databricks.v1+notebook": {
   "computePreferences": {
    "hardware": {
     "accelerator": null,
     "gpuPoolId": null,
     "memory": null
    }
   },
   "dashboards": [],
   "environmentMetadata": {
    "base_environment": "",
    "environment_version": "2"
   },
   "inputWidgetPreferences": null,
   "language": "python",
   "notebookMetadata": {
    "mostRecentlyExecutedCommandWithImplicitDF": {
     "commandId": 6063727385969113,
     "dataframes": [
      "_sqldf"
     ]
    },
    "pythonIndentUnit": 4
   },
   "notebookName": "Sesion 07.1 - Modelado Analitico (1)",
   "widgets": {}
  },
  "language_info": {
   "name": "python"
  }
 },
 "nbformat": 4,
 "nbformat_minor": 0
}
