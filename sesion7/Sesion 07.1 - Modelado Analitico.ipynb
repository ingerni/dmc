{
 "cells": [
  {
   "cell_type": "markdown",
   "metadata": {
    "application/vnd.databricks.v1+cell": {
     "cellMetadata": {},
     "inputWidgets": {},
     "nuid": "68173f91-395a-4ae9-bd5f-56fc5379afe2",
     "showTitle": false,
     "tableResultSettingsMap": {},
     "title": ""
    }
   },
   "source": [
    "### Objetivo del laboratorio\n",
    "Construir un modelo estrella (hechos y dimensiones) a partir del negocio universitario usando Delta Lake y Unity Catalog.\n",
    "\n",
    "**Capas:**\n",
    "- **Bronze**: lee los 4 CSV (estudiantes, cursos, profesores, matriculas) y los escribe como Delta raw.\n",
    "\n",
    "- **Silver**: limpieza y normalización.\n",
    "\n",
    "- **Gold**: construye el **modelo estrella**:\n",
    "\n",
    "  -   `dim_estudiante, dim_curso, dim_profesor, dim_tiempo`\n",
    "  -   `fact_matricula` (FKs + medidas: nota_final, aprobado, creditos_curso)\n",
    "\n",
    "- **Vistas/KPIs:**\n",
    "\n",
    "  -   `vw_kpi_carrera` (alumnos, promedio, créditos)\n",
    "  -   `vw_top_cursos_semestre`\n",
    "  -   `vw_desempeno_profesor`"
   ]
  },
  {
   "cell_type": "code",
   "execution_count": 0,
   "metadata": {
    "application/vnd.databricks.v1+cell": {
     "cellMetadata": {
      "byteLimit": 2048000,
      "rowLimit": 10000
     },
     "inputWidgets": {},
     "nuid": "d9910547-be52-44dc-ab2d-f823e82674d8",
     "showTitle": false,
     "tableResultSettingsMap": {},
     "title": ""
    }
   },
   "outputs": [],
   "source": [
    "catalog_name = \"sesion7\"\n",
    "schema_bronze = \"bronze\"\n",
    "schema_silver = \"silver\"\n",
    "schema_gold = \"gold\""
   ]
  },
  {
   "cell_type": "code",
   "execution_count": 0,
   "metadata": {
    "application/vnd.databricks.v1+cell": {
     "cellMetadata": {
      "byteLimit": 2048000,
      "rowLimit": 10000
     },
     "inputWidgets": {},
     "nuid": "66e11f5b-8416-4f6a-8908-a4ccb9ddc5a7",
     "showTitle": false,
     "tableResultSettingsMap": {},
     "title": ""
    }
   },
   "outputs": [],
   "source": [
    "sql_catalog = f\"\"\"\n",
    "    CREATE SCHEMA IF NOT EXISTS {catalog_name}.{schema_bronze}\n",
    "\"\"\"\n",
    "spark.sql(sql_catalog)\n",
    "spark.sql(sql_bronze)"
   ]
  },
  {
   "cell_type": "code",
   "execution_count": 0,
   "metadata": {
    "application/vnd.databricks.v1+cell": {
     "cellMetadata": {
      "byteLimit": 2048000,
      "rowLimit": 10000
     },
     "inputWidgets": {},
     "nuid": "b83aa54f-0ded-45ee-a65b-000994616c3e",
     "showTitle": false,
     "tableResultSettingsMap": {},
     "title": ""
    }
   },
   "outputs": [],
   "source": [
    "sql_catalog = f\"\"\"\n",
    "    CREATE SCHEMA IF NOT EXISTS {catalog_name}.{schema_silver}\n",
    "\"\"\"\n",
    "spark.sql(sql_silver)"
   ]
  },
  {
   "cell_type": "code",
   "execution_count": 0,
   "metadata": {
    "application/vnd.databricks.v1+cell": {
     "cellMetadata": {
      "byteLimit": 2048000,
      "rowLimit": 10000
     },
     "inputWidgets": {},
     "nuid": "1c900435-ba1f-4bc5-b1a6-4931d96b8cff",
     "showTitle": false,
     "tableResultSettingsMap": {},
     "title": ""
    }
   },
   "outputs": [],
   "source": [
    "sql_catalog = f\"\"\"\n",
    "    CREATE SCHEMA IF NOT EXISTS {catalog_name}.{schema_gold}\n",
    "\"\"\"\n",
    "spark.sql(sql_gold)"
   ]
  },
  {
   "cell_type": "code",
   "execution_count": 0,
   "metadata": {
    "application/vnd.databricks.v1+cell": {
     "cellMetadata": {},
     "inputWidgets": {},
     "nuid": "32a27f4a-10ba-4534-abcd-7c9b729da398",
     "showTitle": false,
     "tableResultSettingsMap": {},
     "title": ""
    }
   },
   "outputs": [],
   "source": [
    "path_base = \"Vo\"\n",
    "\n",
    "path_estudiantes\n",
    "path_cursos\n",
    "path_profesores\n",
    "path_matriculas"
   ]
  }
 ],
 "metadata": {
  "application/vnd.databricks.v1+notebook": {
   "computePreferences": {
    "hardware": {
     "accelerator": null,
     "gpuPoolId": null,
     "memory": null
    }
   },
   "dashboards": [],
   "environmentMetadata": {
    "base_environment": "",
    "environment_version": "2"
   },
   "inputWidgetPreferences": null,
   "language": "python",
   "notebookMetadata": {
    "pythonIndentUnit": 4
   },
   "notebookName": "Sesion 07.1 - Modelado Analitico",
   "widgets": {}
  },
  "language_info": {
   "name": "python"
  }
 },
 "nbformat": 4,
 "nbformat_minor": 0
}
