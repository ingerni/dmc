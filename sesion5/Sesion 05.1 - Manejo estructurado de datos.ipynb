{
 "cells": [
  {
   "cell_type": "markdown",
   "metadata": {
    "application/vnd.databricks.v1+cell": {
     "cellMetadata": {},
     "inputWidgets": {},
     "nuid": "0c6fdeac-858c-402c-8412-bdb661c418a2",
     "showTitle": false,
     "tableResultSettingsMap": {},
     "title": ""
    }
   },
   "source": [
    "### Objetivo del laboratorio\n",
    "Aplicar técnicas de limpieza, transformación y manejo estructurado de datos utilizando Spark DataFrames en Databricks, sobre un caso realista del negocio de farmacias. Los alumnos aprenderán a:\n",
    "\n",
    "- Identificar y depurar datos inválidos o incompletos.\n",
    "- Crear columnas derivadas con funciones nativas de Spark.\n",
    "- Realizar agregaciones y uniones eficientes entre múltiples fuentes.\n",
    "- Eliminar duplicados para asegurar la integridad de la información.\n",
    "- Guardar los resultados en formato Delta dentro de Unity Catalog siguiendo buenas prácticas de gobernanza y control de acceso."
   ]
  },
  {
   "cell_type": "markdown",
   "metadata": {
    "application/vnd.databricks.v1+cell": {
     "cellMetadata": {},
     "inputWidgets": {},
     "nuid": "a5aa47b0-a51c-4067-b316-b455af44678d",
     "showTitle": false,
     "tableResultSettingsMap": {},
     "title": ""
    }
   },
   "source": [
    "### Procedimiento\n",
    "\n",
    "1. Creamos catalogo y schema\n",
    "2. Definimos rutas de origen\n",
    "3. Leemos archivos de origen\n",
    "4. Limpiamos a los diferentes datasets\n",
    "5. Creamos columnas derivadas\n",
    "6. Aplicamos joins para generar nuevos datasets\n",
    "7. Aplicamos agregaciones para nuevos datasets\n",
    "8. Escribimos en formato delta"
   ]
  },
  {
   "cell_type": "code",
   "execution_count": 0,
   "metadata": {
    "application/vnd.databricks.v1+cell": {
     "cellMetadata": {},
     "inputWidgets": {},
     "nuid": "086c3476-806e-476c-b6bd-b86d57a180ab",
     "showTitle": false,
     "tableResultSettingsMap": {},
     "title": ""
    }
   },
   "outputs": [],
   "source": [
    "%sql\n",
    "CREATE CATALOG sesion5"
   ]
  },
  {
   "cell_type": "code",
   "execution_count": 0,
   "metadata": {
    "application/vnd.databricks.v1+cell": {
     "cellMetadata": {
      "byteLimit": 2048000,
      "rowLimit": 10000
     },
     "inputWidgets": {},
     "nuid": "47609126-304a-47ff-a112-bfabb6be7f25",
     "showTitle": false,
     "tableResultSettingsMap": {},
     "title": ""
    }
   },
   "outputs": [],
   "source": [
    "catalog = \"sesion5\"\n",
    "schema_name = \"gold_farmacias\"\n",
    "spark.sql(f\"CREATE CATALOG IF NOT EXISTS {catalog}\")\n",
    "spark.sql(f\"CREATE SCHEMA IF NOT EXISTS {catalog}.{schema_name}\")"
   ]
  },
  {
   "cell_type": "code",
   "execution_count": 0,
   "metadata": {
    "application/vnd.databricks.v1+cell": {
     "cellMetadata": {},
     "inputWidgets": {},
     "nuid": "9db04094-91b7-49dd-826b-8160a440ae25",
     "showTitle": false,
     "tableResultSettingsMap": {},
     "title": ""
    }
   },
   "outputs": [],
   "source": [
    "df_clientes = spark.read.option(\"header\", True).csv(\"/FileStore/tables/clientes.csv\")df_clientes.write.mode(\"overwrite\")"
   ]
  }
 ],
 "metadata": {
  "application/vnd.databricks.v1+notebook": {
   "computePreferences": {
    "hardware": {
     "accelerator": null,
     "gpuPoolId": null,
     "memory": "HIGH"
    }
   },
   "dashboards": [],
   "environmentMetadata": {
    "base_environment": "",
    "environment_version": "2"
   },
   "inputWidgetPreferences": null,
   "language": "python",
   "notebookMetadata": {
    "pythonIndentUnit": 4
   },
   "notebookName": "Sesion 05.1 - Manejo estructurado de datos",
   "widgets": {}
  },
  "language_info": {
   "name": "python"
  }
 },
 "nbformat": 4,
 "nbformat_minor": 0
}
