{
 "cells": [
  {
   "cell_type": "markdown",
   "metadata": {
    "application/vnd.databricks.v1+cell": {
     "cellMetadata": {},
     "inputWidgets": {},
     "nuid": "0c6fdeac-858c-402c-8412-bdb661c418a2",
     "showTitle": false,
     "tableResultSettingsMap": {},
     "title": ""
    }
   },
   "source": [
    "### Objetivo del laboratorio\n",
    "Aplicar técnicas de limpieza, transformación y manejo estructurado de datos utilizando Spark DataFrames en Databricks, sobre un caso realista del negocio de farmacias. Los alumnos aprenderán a:\n",
    "\n",
    "- Identificar y depurar datos inválidos o incompletos.\n",
    "- Crear columnas derivadas con funciones nativas de Spark.\n",
    "- Realizar agregaciones y uniones eficientes entre múltiples fuentes.\n",
    "- Eliminar duplicados para asegurar la integridad de la información.\n",
    "- Guardar los resultados en formato Delta dentro de Unity Catalog siguiendo buenas prácticas de gobernanza y control de acceso."
   ]
  },
  {
   "cell_type": "markdown",
   "metadata": {
    "application/vnd.databricks.v1+cell": {
     "cellMetadata": {},
     "inputWidgets": {},
     "nuid": "a5aa47b0-a51c-4067-b316-b455af44678d",
     "showTitle": false,
     "tableResultSettingsMap": {},
     "title": ""
    }
   },
   "source": [
    "### Procedimiento\n",
    "\n",
    "1. Creamos catalogo y schema\n",
    "2. Definimos rutas de origen\n",
    "3. Leemos archivos de origen\n",
    "4. Limpiamos a los diferentes datasets\n",
    "5. Creamos columnas derivadas\n",
    "6. Aplicamos joins para generar nuevos datasets\n",
    "7. Aplicamos agregaciones para nuevos datasets\n",
    "8. Escribimos en formato delta"
   ]
  },
  {
   "cell_type": "code",
   "execution_count": 0,
   "metadata": {
    "application/vnd.databricks.v1+cell": {
     "cellMetadata": {
      "byteLimit": 2048000,
      "rowLimit": 10000
     },
     "inputWidgets": {},
     "nuid": "a4190cf6-2580-4046-9e9d-7040e08a29a0",
     "showTitle": false,
     "tableResultSettingsMap": {},
     "title": ""
    }
   },
   "outputs": [],
   "source": [
    "from pyspark.sql.functions import lower, col, trim, when, coalesce, lit, round, to_date, year, month, sum, countDistinct, avg\n",
    "from pyspark.sql.types import DoubleType"
   ]
  },
  {
   "cell_type": "code",
   "execution_count": 0,
   "metadata": {
    "application/vnd.databricks.v1+cell": {
     "cellMetadata": {
      "byteLimit": 2048000,
      "implicitDf": true,
      "rowLimit": 10000
     },
     "inputWidgets": {},
     "nuid": "d7291156-890d-446b-8bc5-f43312d5c356",
     "showTitle": false,
     "tableResultSettingsMap": {},
     "title": ""
    }
   },
   "outputs": [],
   "source": [
    "%sql\n",
    "CREATE CATALOG gold_farmacias"
   ]
  },
  {
   "cell_type": "code",
   "execution_count": 0,
   "metadata": {
    "application/vnd.databricks.v1+cell": {
     "cellMetadata": {
      "byteLimit": 2048000,
      "rowLimit": 10000
     },
     "inputWidgets": {},
     "nuid": "cc2eeeed-52af-4134-a683-57460595cd7e",
     "showTitle": false,
     "tableResultSettingsMap": {},
     "title": ""
    }
   },
   "outputs": [],
   "source": [
    "catalog = \"dmc\"\n",
    "schema_name = \"gold_farmacias\"\n",
    "\n",
    "spark.sql(f\"CREATE CATALOG IF NOT EXISTS {catalog}\")\n",
    "spark.sql(f\"CREATE SCHEMA IF NOT EXISTS {catalog}.{schema_name}\")"
   ]
  },
  {
   "cell_type": "code",
   "execution_count": 0,
   "metadata": {
    "application/vnd.databricks.v1+cell": {
     "cellMetadata": {
      "byteLimit": 2048000,
      "rowLimit": 10000
     },
     "inputWidgets": {},
     "nuid": "be74d946-1095-497d-875a-7b3061f0debe",
     "showTitle": false,
     "tableResultSettingsMap": {},
     "title": ""
    }
   },
   "outputs": [],
   "source": [
    "path_clientes = \"/Volumes/dmc/gold_farmacias/source/Sesion_05/clientes.csv\"\n",
    "path_productos = \"/Volumes/dmc/gold_farmacias/source/Sesion_05/productos.csv\"\n",
    "path_sucursales = \"/Volumes/dmc/gold_farmacias/source/Sesion_05/sucursales.csv\"\n",
    "path_ventas = \"/Volumes/dmc/gold_farmacias/source/Sesion_05/ventas.csv\"\n",
    "\n",
    "df_clientes = spark.read.option(\"header\", True).option(\"inferSchema\", True).csv(path_clientes)\n",
    "df_productos = spark.read.option(\"header\", True).option(\"inferSchema\", True).csv(path_productos)\n",
    "df_sucursales = spark.read.option(\"header\", True).option(\"inferSchema\", True).csv(path_sucursales)\n",
    "df_ventas = spark.read.option(\"header\", True).option(\"inferSchema\", True).csv(path_ventas)"
   ]
  },
  {
   "cell_type": "code",
   "execution_count": 0,
   "metadata": {
    "application/vnd.databricks.v1+cell": {
     "cellMetadata": {
      "byteLimit": 2048000,
      "rowLimit": 10000
     },
     "inputWidgets": {},
     "nuid": "a0113a25-4b0f-4479-84be-15fecfc3076d",
     "showTitle": false,
     "tableResultSettingsMap": {},
     "title": ""
    }
   },
   "outputs": [],
   "source": [
    "df_productos_clean = (\n",
    "    df_productos\n",
    "    .withColumn(\"nombre_producto\", trim(lower(col(\"nombre_producto\"))))\n",
    ")"
   ]
  },
  {
   "cell_type": "code",
   "execution_count": 0,
   "metadata": {
    "application/vnd.databricks.v1+cell": {
     "cellMetadata": {
      "byteLimit": 2048000,
      "rowLimit": 10000
     },
     "inputWidgets": {},
     "nuid": "33a48140-4ff3-443c-b66d-06ab357e00e8",
     "showTitle": false,
     "tableResultSettingsMap": {},
     "title": ""
    }
   },
   "outputs": [],
   "source": [
    "df_clientes_clean = (\n",
    "    df_clientes\n",
    "    .withColumn(\"email\", when(col(\"email\").contains(\"@\"), col(\"email\")))\n",
    "    .withColumn(\"email\", coalesce(col(\"email\"), lit(\"-\")))\n",
    ")"
   ]
  },
  {
   "cell_type": "code",
   "execution_count": 0,
   "metadata": {
    "application/vnd.databricks.v1+cell": {
     "cellMetadata": {
      "byteLimit": 2048000,
      "rowLimit": 10000
     },
     "inputWidgets": {},
     "nuid": "2aedd36c-52a2-4c76-8ee9-83e597b85bf1",
     "showTitle": false,
     "tableResultSettingsMap": {},
     "title": ""
    }
   },
   "outputs": [],
   "source": [
    "df_ventas_clean = (\n",
    "    df_ventas\n",
    "    .dropna(subset=[\"cantidad\"])\n",
    "    .filter(col(\"precio_unitario\") > 0)\n",
    ")"
   ]
  },
  {
   "cell_type": "markdown",
   "metadata": {
    "application/vnd.databricks.v1+cell": {
     "cellMetadata": {},
     "inputWidgets": {},
     "nuid": "905e2725-0b20-47a2-9d56-df114865290e",
     "showTitle": false,
     "tableResultSettingsMap": {},
     "title": ""
    }
   },
   "source": [
    "![](/Volumes/dmc/gold_farmacias/source/Diagrama_AdventureWorksLT_01.png)"
   ]
  },
  {
   "cell_type": "markdown",
   "metadata": {
    "application/vnd.databricks.v1+cell": {
     "cellMetadata": {},
     "inputWidgets": {},
     "nuid": "1b352944-a038-4d8d-bafd-1f7a27d07c0a",
     "showTitle": false,
     "tableResultSettingsMap": {},
     "title": ""
    }
   },
   "source": []
  },
  {
   "cell_type": "code",
   "execution_count": 0,
   "metadata": {
    "application/vnd.databricks.v1+cell": {
     "cellMetadata": {
      "byteLimit": 2048000,
      "rowLimit": 10000
     },
     "inputWidgets": {},
     "nuid": "4aa58e6b-fadc-47d1-b651-c0ceb21a1112",
     "showTitle": false,
     "tableResultSettingsMap": {},
     "title": ""
    }
   },
   "outputs": [],
   "source": [
    "df_ventas_procesada = (\n",
    "    df_ventas_clean\n",
    "    .withColumn(\"monto_total\", round(col(\"cantidad\").cast(DoubleType()) * col(\"precio_unitario\").cast(\"double\"), 2))\n",
    "    .withColumn(\"fecha_venta\", to_date(col(\"fecha_venta\")))\n",
    "    .withColumn(\"anio_venta\", year(col(\"fecha_venta\")))\n",
    "    .withColumn(\"mes_venta\", month(col(\"fecha_venta\")))\n",
    ")"
   ]
  },
  {
   "cell_type": "code",
   "execution_count": 0,
   "metadata": {
    "application/vnd.databricks.v1+cell": {
     "cellMetadata": {
      "byteLimit": 2048000,
      "rowLimit": 10000
     },
     "inputWidgets": {},
     "nuid": "d5df44c6-1f09-4d68-a393-b822df225b64",
     "showTitle": false,
     "tableResultSettingsMap": {},
     "title": ""
    }
   },
   "outputs": [],
   "source": [
    "df_join = (\n",
    "    df_ventas_procesada.alias(\"vp\")\n",
    "    .join(\n",
    "        df_clientes_clean.alias(\"cc\").select(\"id_cliente\", \"nombre\", \"apellido\", \"email\"),\n",
    "        col(\"vp.id_cliente\") == col(\"cc.id_cliente\"),\n",
    "        \"left\"\n",
    "    )\n",
    "    .join(\n",
    "        df_productos_clean.alias(\"pc\").select(\"id_producto\", \"nombre_producto\", \"categoria\", \"marca\", \"costo_unitario\"),\n",
    "        col(\"vp.id_producto\") == col(\"pc.id_producto\"),\n",
    "        \"left\"\n",
    "    )\n",
    "    .join(\n",
    "        df_sucursales.alias(\"s\").select(\"id_sucursal\", \"ciudad\", \"distrito\", \"nombre_sucursal\"),\n",
    "        col(\"vp.id_sucursal\") == col(\"s.id_sucursal\"),\n",
    "        \"left\"\n",
    "    )\n",
    "    .select(\n",
    "        col(\"vp.id_venta\").alias(\"id_venta\"),\n",
    "        col(\"vp.fecha_venta\").alias(\"fecha_venta\"),\n",
    "        col(\"vp.id_cliente\").alias(\"id_cliente\"),\n",
    "        col(\"cc.nombre\").alias(\"nombre\"),\n",
    "        col(\"cc.apellido\").alias(\"apellido\"),\n",
    "        col(\"cc.email\").alias(\"email\"),\n",
    "        col(\"vp.id_producto\").alias(\"id_producto\"),\n",
    "        col(\"pc.nombre_producto\").alias(\"nombre_producto\"),\n",
    "        col(\"pc.categoria\").alias(\"categoria\"),\n",
    "        col(\"pc.marca\").alias(\"marca\"),\n",
    "        col(\"pc.costo_unitario\").alias(\"costo_unitario\"),\n",
    "        col(\"vp.id_sucursal\").alias(\"id_sucursal\"),\n",
    "        col(\"s.ciudad\").alias(\"ciudad\"),\n",
    "        col(\"s.distrito\").alias(\"distrito\"),\n",
    "        col(\"s.nombre_sucursal\").alias(\"nombre_sucursal\"),\n",
    "        col(\"vp.cantidad\").alias(\"cantidad\"),\n",
    "        col(\"vp.precio_unitario\").alias(\"precio_unitario\"),\n",
    "        col(\"vp.monto_total\").alias(\"monto_total\"),\n",
    "        # (col(\"vp.cantidad\") * col(\"vp.precio_unitario\")).alias(\"monto_total_2\"),\n",
    "        col(\"vp.anio_venta\").alias(\"anio_venta\"),\n",
    "        col(\"vp.mes_venta\").alias(\"mes_venta\")        \n",
    "    )\n",
    ").dropDuplicates([\"id_venta\"])"
   ]
  },
  {
   "cell_type": "code",
   "execution_count": 0,
   "metadata": {
    "application/vnd.databricks.v1+cell": {
     "cellMetadata": {
      "byteLimit": 2048000,
      "rowLimit": 10000
     },
     "inputWidgets": {},
     "nuid": "6b948d36-93ff-437e-ad79-cd2e828c415c",
     "showTitle": false,
     "tableResultSettingsMap": {},
     "title": ""
    }
   },
   "outputs": [],
   "source": [
    "df_categoria_ticket = (\n",
    "    df_join\n",
    "    .withColumn(\"categoria_ticket\", \n",
    "                when(col(\"monto_total\") >= 200, lit(\"Alto\"))\n",
    "                .when(col(\"monto_total\") >= 80, lit(\"Medio\"))\n",
    "                .otherwise(lit(\"Bajo\"))\n",
    "    )\n",
    ")"
   ]
  },
  {
   "cell_type": "code",
   "execution_count": 0,
   "metadata": {
    "application/vnd.databricks.v1+cell": {
     "cellMetadata": {
      "byteLimit": 2048000,
      "rowLimit": 10000
     },
     "inputWidgets": {},
     "nuid": "4206b3bb-db2f-48ab-8fe1-2cb37e199611",
     "showTitle": false,
     "tableResultSettingsMap": {},
     "title": ""
    }
   },
   "outputs": [],
   "source": [
    "df_ventas_ciudad_anio = (\n",
    "    df_join\n",
    "    .groupBy(\"ciudad\", \"anio_venta\")\n",
    "    .agg(\n",
    "        sum(\"monto_total\").alias(\"venta_total\"),\n",
    "        countDistinct(\"id_venta\").alias(\"num_ventas\")\n",
    "    )\n",
    ")"
   ]
  },
  {
   "cell_type": "code",
   "execution_count": 0,
   "metadata": {
    "application/vnd.databricks.v1+cell": {
     "cellMetadata": {
      "byteLimit": 2048000,
      "rowLimit": 10000
     },
     "inputWidgets": {},
     "nuid": "096c4d9d-2e22-413f-81b6-3d8a282dd89f",
     "showTitle": false,
     "tableResultSettingsMap": {},
     "title": ""
    }
   },
   "outputs": [],
   "source": [
    "df_ventas_cliente = (\n",
    "    df_join\n",
    "    .groupBy(\"id_cliente\")\n",
    "    .agg(\n",
    "        avg(\"monto_total\").alias(\"venta_promedio\"),\n",
    "        countDistinct(\"id_venta\").alias(\"num_ventas\")\n",
    "    )\n",
    ")"
   ]
  },
  {
   "cell_type": "code",
   "execution_count": 0,
   "metadata": {
    "application/vnd.databricks.v1+cell": {
     "cellMetadata": {
      "byteLimit": 2048000,
      "rowLimit": 10000
     },
     "inputWidgets": {},
     "nuid": "6aa395f7-d6a2-4fc0-99ce-e30c038dc7c9",
     "showTitle": false,
     "tableResultSettingsMap": {},
     "title": ""
    }
   },
   "outputs": [],
   "source": [
    "df_categoria_ventas = (\n",
    "    df_categoria_ticket\n",
    "    .groupBy(\"categoria_ticket\")\n",
    "    .agg(\n",
    "        sum(\"monto_total\").alias(\"ventas\"),\n",
    "        countDistinct(\"id_venta\").alias(\"num_ventas\")\n",
    "    )\n",
    ")"
   ]
  },
  {
   "cell_type": "code",
   "execution_count": 0,
   "metadata": {
    "application/vnd.databricks.v1+cell": {
     "cellMetadata": {
      "byteLimit": 2048000,
      "rowLimit": 10000
     },
     "inputWidgets": {},
     "nuid": "07836cc0-b92f-4660-99b3-082ad583257b",
     "showTitle": false,
     "tableResultSettingsMap": {},
     "title": ""
    }
   },
   "outputs": [],
   "source": [
    "tbl_detalle = f\"{catalog}.{schema_name}.ventas_detalle\"\n",
    "tbl_ciudad = f\"{catalog}.{schema_name}.ventas_ciudad_anio\"\n",
    "tbl_promedio = f\"{catalog}.{schema_name}.ventas_promedio\"\n",
    "tbl_categoria = f\"{catalog}.{schema_name}.ventas_categoria\""
   ]
  },
  {
   "cell_type": "code",
   "execution_count": 0,
   "metadata": {
    "application/vnd.databricks.v1+cell": {
     "cellMetadata": {
      "byteLimit": 2048000,
      "rowLimit": 10000
     },
     "inputWidgets": {},
     "nuid": "a4bc67c9-e422-4c10-8d42-5e24fea761cb",
     "showTitle": false,
     "tableResultSettingsMap": {},
     "title": ""
    }
   },
   "outputs": [],
   "source": [
    "df_join.write.format(\"delta\").mode(\"overwrite\").saveAsTable(tbl_detalle)"
   ]
  },
  {
   "cell_type": "code",
   "execution_count": 0,
   "metadata": {
    "application/vnd.databricks.v1+cell": {
     "cellMetadata": {
      "byteLimit": 2048000,
      "rowLimit": 10000
     },
     "inputWidgets": {},
     "nuid": "e33a7af3-4312-4dfa-aa51-9465cfca4f4e",
     "showTitle": false,
     "tableResultSettingsMap": {},
     "title": ""
    }
   },
   "outputs": [],
   "source": [
    "df_join.write.format(\"delta\").mode(\"overwrite\").partitionBy(\"anio_venta\", \"mes_venta\").save(\"/Volumes/dmc/gold_farmacias/source/ventas_detalle/\")"
   ]
  },
  {
   "cell_type": "code",
   "execution_count": 0,
   "metadata": {
    "application/vnd.databricks.v1+cell": {
     "cellMetadata": {
      "byteLimit": 2048000,
      "rowLimit": 10000
     },
     "inputWidgets": {},
     "nuid": "f61ab429-a09f-4ecf-b319-a5c20ccc5372",
     "showTitle": false,
     "tableResultSettingsMap": {},
     "title": ""
    }
   },
   "outputs": [],
   "source": [
    "df_ventas_ciudad_anio.write.format(\"delta\").mode(\"overwrite\").saveAsTable(tbl_ciudad)"
   ]
  },
  {
   "cell_type": "code",
   "execution_count": 0,
   "metadata": {
    "application/vnd.databricks.v1+cell": {
     "cellMetadata": {
      "byteLimit": 2048000,
      "rowLimit": 10000
     },
     "inputWidgets": {},
     "nuid": "92dd9b43-88d9-4c50-afdf-d22f58f9e74e",
     "showTitle": false,
     "tableResultSettingsMap": {},
     "title": ""
    }
   },
   "outputs": [],
   "source": [
    "df_ventas_cliente.write.format(\"delta\").mode(\"overwrite\").saveAsTable(tbl_promedio)"
   ]
  },
  {
   "cell_type": "code",
   "execution_count": 0,
   "metadata": {
    "application/vnd.databricks.v1+cell": {
     "cellMetadata": {
      "byteLimit": 2048000,
      "rowLimit": 10000
     },
     "inputWidgets": {},
     "nuid": "0b117f88-5d97-4992-9def-508808bd6be2",
     "showTitle": false,
     "tableResultSettingsMap": {},
     "title": ""
    }
   },
   "outputs": [],
   "source": [
    "df_categoria_ventas.write.format(\"delta\").mode(\"overwrite\").saveAsTable(tbl_categoria)"
   ]
  },
  {
   "cell_type": "code",
   "execution_count": 0,
   "metadata": {
    "application/vnd.databricks.v1+cell": {
     "cellMetadata": {
      "byteLimit": 2048000,
      "implicitDf": true,
      "rowLimit": 10000
     },
     "collapsed": true,
     "inputWidgets": {},
     "nuid": "acbe5c11-c72c-441b-b434-5f7a89088186",
     "showTitle": false,
     "tableResultSettingsMap": {},
     "title": ""
    }
   },
   "outputs": [],
   "source": [
    "%sql\n",
    "select * from dmc.gold_farmacias.ventas_detalle"
   ]
  },
  {
   "cell_type": "code",
   "execution_count": 0,
   "metadata": {
    "application/vnd.databricks.v1+cell": {
     "cellMetadata": {
      "byteLimit": 2048000,
      "implicitDf": true,
      "rowLimit": 10000
     },
     "collapsed": true,
     "inputWidgets": {},
     "nuid": "6f4f3cf4-d44d-403d-b117-6daa5904c350",
     "showTitle": false,
     "tableResultSettingsMap": {},
     "title": ""
    }
   },
   "outputs": [],
   "source": [
    "%sql\n",
    "select * from dmc.gold_farmacias.ventas_ciudad_anio"
   ]
  },
  {
   "cell_type": "code",
   "execution_count": 0,
   "metadata": {
    "application/vnd.databricks.v1+cell": {
     "cellMetadata": {
      "byteLimit": 2048000,
      "implicitDf": true,
      "rowLimit": 10000
     },
     "collapsed": true,
     "inputWidgets": {},
     "nuid": "090f11c3-f16f-4704-bfdf-4db2c259882a",
     "showTitle": false,
     "tableResultSettingsMap": {},
     "title": ""
    }
   },
   "outputs": [],
   "source": [
    "%sql\n",
    "select * from dmc.gold_farmacias.ventas_promedio"
   ]
  },
  {
   "cell_type": "code",
   "execution_count": 0,
   "metadata": {
    "application/vnd.databricks.v1+cell": {
     "cellMetadata": {
      "byteLimit": 2048000,
      "implicitDf": true,
      "rowLimit": 10000
     },
     "collapsed": true,
     "inputWidgets": {},
     "nuid": "13c13259-b0aa-42e6-83bc-8eee7caf0d0c",
     "showTitle": false,
     "tableResultSettingsMap": {},
     "title": ""
    }
   },
   "outputs": [],
   "source": [
    "%sql\n",
    "select * from dmc.gold_farmacias.ventas_categoria"
   ]
  }
 ],
 "metadata": {
  "application/vnd.databricks.v1+notebook": {
   "computePreferences": {
    "hardware": {
     "accelerator": null,
     "gpuPoolId": null,
     "memory": null
    }
   },
   "dashboards": [],
   "environmentMetadata": {
    "base_environment": "",
    "environment_version": "2"
   },
   "inputWidgetPreferences": null,
   "language": "python",
   "notebookMetadata": {
    "mostRecentlyExecutedCommandWithImplicitDF": {
     "commandId": 4964391930516175,
     "dataframes": [
      "_sqldf"
     ]
    },
    "pythonIndentUnit": 4
   },
   "notebookName": "Sesion 05.1 - Manejo estructurado de datos_new",
   "widgets": {}
  },
  "language_info": {
   "name": "python"
  }
 },
 "nbformat": 4,
 "nbformat_minor": 0
}
