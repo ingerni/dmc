{
 "cells": [
  {
   "cell_type": "code",
   "execution_count": 0,
   "metadata": {
    "application/vnd.databricks.v1+cell": {
     "cellMetadata": {
      "byteLimit": 2048000,
      "implicitDf": true,
      "rowLimit": 10000
     },
     "inputWidgets": {},
     "nuid": "74b168d4-be34-4459-bc3a-40a25a39a933",
     "showTitle": false,
     "tableResultSettingsMap": {},
     "title": ""
    }
   },
   "outputs": [],
   "source": [
    "%sql\n",
    "create catalog sesion_11"
   ]
  },
  {
   "cell_type": "code",
   "execution_count": 0,
   "metadata": {
    "application/vnd.databricks.v1+cell": {
     "cellMetadata": {
      "byteLimit": 2048000,
      "implicitDf": true,
      "rowLimit": 10000
     },
     "inputWidgets": {},
     "nuid": "9fd0b884-e0d5-45a0-b12c-ff06cb17298c",
     "showTitle": false,
     "tableResultSettingsMap": {},
     "title": ""
    }
   },
   "outputs": [],
   "source": [
    "%sql\n",
    "create schema sesion_11.auditoria"
   ]
  },
  {
   "cell_type": "code",
   "execution_count": 0,
   "metadata": {
    "application/vnd.databricks.v1+cell": {
     "cellMetadata": {
      "byteLimit": 2048000,
      "implicitDf": true,
      "rowLimit": 10000
     },
     "inputWidgets": {},
     "nuid": "cb89be10-8257-4f68-baba-5bf32206b7e0",
     "showTitle": false,
     "tableResultSettingsMap": {},
     "title": ""
    }
   },
   "outputs": [],
   "source": [
    "%sql\n",
    "create schema sesion_11.gold"
   ]
  },
  {
   "cell_type": "code",
   "execution_count": 0,
   "metadata": {
    "application/vnd.databricks.v1+cell": {
     "cellMetadata": {
      "byteLimit": 2048000,
      "implicitDf": true,
      "rowLimit": 10000
     },
     "inputWidgets": {},
     "nuid": "b37f7b6b-060e-4c9d-b5b2-7f32936f8b82",
     "showTitle": false,
     "tableResultSettingsMap": {},
     "title": ""
    }
   },
   "outputs": [],
   "source": [
    "%sql\n",
    "CREATE TABLE sesion_11.auditoria.ingestion_log (\n",
    "  job_id BIGINT NOT NULL COMMENT 'Job id del workflow',\n",
    "  job_run_id BIGINT NOT NULL COMMENT 'Job run id del workflow',\n",
    "  task_run_id BIGINT NOT NULL COMMENT 'Task run id del workflow',\n",
    "  job_start_time TIMESTAMP NOT NULL COMMENT 'Fecha inicio del workflow',\n",
    "  job_end_time TIMESTAMP NOT NULL COMMENT 'Fecha fin del workflow',\n",
    "  job_duration_seconds BIGINT NOT NULL COMMENT 'Duración del workflow',\n",
    "  job_status STRING NOT NULL COMMENT 'Estado del workflow',\n",
    "  table STRING NOT NULL COMMENT 'Nombre de la tabla',\n",
    "  layer STRING NOT NULL COMMENT 'Capa de la tabla',\n",
    "  rows_in BIGINT NOT NULL COMMENT 'Registros ingresados',\n",
    "  rows_inserted BIGINT NOT NULL COMMENT 'Registros insertados',\n",
    "  rows_updated BIGINT NOT NULL COMMENT 'Registros actualizados',\n",
    "  rows_deleted BIGINT NOT NULL COMMENT 'Registros eliminados',\n",
    "  file_bytes BIGINT NOT NULL COMMENT 'Peso del archivo delta',\n",
    "  merge_duration_seconds BIGINT NOT NULL COMMENT 'Duración de la operación merge',\n",
    "  creation_date TIMESTAMP NOT NULL\n",
    "    DEFAULT CURRENT_TIMESTAMP()\n",
    "    COMMENT 'Fecha de creación de la operación'\n",
    ") USING delta\n",
    "COMMENT 'Tabla que contiene la trazabilidad de una ingesta de datos.'\n",
    "TBLPROPERTIES (\n",
    "  'delta.autoOptimize.autoCompact' = 'True',\n",
    "  'delta.autoOptimize.optimizeWrite' = 'True',\n",
    "  'delta.feature.allowColumnDefaults' = 'supported',\n",
    "  'vorder.enabled' = 'True'\n",
    ")"
   ]
  },
  {
   "cell_type": "code",
   "execution_count": 0,
   "metadata": {
    "application/vnd.databricks.v1+cell": {
     "cellMetadata": {
      "byteLimit": 2048000,
      "rowLimit": 10000
     },
     "inputWidgets": {},
     "nuid": "3b58ffcb-ce88-4e09-bd6f-e34cbc58ba5d",
     "showTitle": false,
     "tableResultSettingsMap": {},
     "title": ""
    }
   },
   "outputs": [],
   "source": [
    "df_ventas = spark.read.csv(\"/Volumes/sesion_11/default/input/ventas_base.csv\")"
   ]
  },
  {
   "cell_type": "code",
   "execution_count": 0,
   "metadata": {
    "application/vnd.databricks.v1+cell": {
     "cellMetadata": {
      "byteLimit": 2048000,
      "rowLimit": 10000
     },
     "inputWidgets": {},
     "nuid": "b40838a4-1c4a-4268-a3c3-7706f4ea516a",
     "showTitle": false,
     "tableResultSettingsMap": {},
     "title": ""
    }
   },
   "outputs": [],
   "source": [
    "#df_ventas.write.format(\"delta\").mode(\"append\").saveAsTable(\"sesion_11.gold.ventas\")\n",
    "df_ventas.write.format(\"delta\").mode(\"overwrite\").options(\"header\",\"true\").saveAsTable(\"sesion_11.gold.ventas\")"
   ]
  },
  {
   "cell_type": "code",
   "execution_count": 0,
   "metadata": {
    "application/vnd.databricks.v1+cell": {
     "cellMetadata": {
      "byteLimit": 2048000,
      "implicitDf": true,
      "rowLimit": 10000
     },
     "inputWidgets": {},
     "nuid": "9e01ce11-7d5e-4fef-babb-8717fef73238",
     "showTitle": false,
     "tableResultSettingsMap": {},
     "title": ""
    }
   },
   "outputs": [],
   "source": [
    "%sql\n",
    "describe history sesion_11.gold.ventas"
   ]
  },
  {
   "cell_type": "code",
   "execution_count": 0,
   "metadata": {
    "application/vnd.databricks.v1+cell": {
     "cellMetadata": {
      "byteLimit": 2048000,
      "rowLimit": 10000
     },
     "inputWidgets": {},
     "nuid": "a201ff25-4b7b-4e2e-a304-c7f7add7ec61",
     "showTitle": false,
     "tableResultSettingsMap": {},
     "title": ""
    }
   },
   "outputs": [],
   "source": [
    "from delta.tables import DeltaTable\n",
    "from pyspark.sql.functions import lit\n",
    "\n",
    "delta_table = DeltaTable.forName(spark, \"sesion_11.gold.ventas\")\n",
    "\n",
    "merge = (\n",
    "    delta_table.alias(\"t\")\n",
    "    .merge(\n",
    "        df_ventas.alias(\"s\"),\n",
    "        lit(False),\n",
    "    )\n",
    "    .whenNotMatchedInsertAll()\n",
    "    .execute()\n",
    ")"
   ]
  }
 ],
 "metadata": {
  "application/vnd.databricks.v1+notebook": {
   "computePreferences": {
    "hardware": {
     "accelerator": null,
     "gpuPoolId": null,
     "memory": "HIGH"
    }
   },
   "dashboards": [],
   "environmentMetadata": {
    "base_environment": "",
    "environment_version": "3"
   },
   "inputWidgetPreferences": null,
   "language": "python",
   "notebookMetadata": {
    "mostRecentlyExecutedCommandWithImplicitDF": {
     "commandId": 5158795905260408,
     "dataframes": [
      "_sqldf"
     ]
    },
    "pythonIndentUnit": 4
   },
   "notebookName": "Sesion 11.1 - Observabilidad y Auditoria",
   "widgets": {}
  },
  "language_info": {
   "name": "python"
  }
 },
 "nbformat": 4,
 "nbformat_minor": 0
}
