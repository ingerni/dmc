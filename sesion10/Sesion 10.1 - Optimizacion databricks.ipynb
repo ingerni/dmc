{
 "cells": [
  {
   "cell_type": "markdown",
   "metadata": {
    "application/vnd.databricks.v1+cell": {
     "cellMetadata": {},
     "inputWidgets": {},
     "nuid": "5b7b1bf7-59e5-4b87-b509-236ff07c509d",
     "showTitle": false,
     "tableResultSettingsMap": {},
     "title": ""
    }
   },
   "source": [
    "## 0) Parámetros (widgets) y Configuración\n",
    "- Crea parámetros con `dbutils.widgets` para rutas y flags.\n",
    "- Activa `Adaptive Query Execution (AQE)` vía `spark.conf`.\n",
    "- Verifica configuraciones clave en `Environment` y plan SQL."
   ]
  },
  {
   "cell_type": "code",
   "execution_count": 0,
   "metadata": {
    "application/vnd.databricks.v1+cell": {
     "cellMetadata": {
      "byteLimit": 2048000,
      "rowLimit": 10000
     },
     "inputWidgets": {},
     "nuid": "dcbea14b-191e-4dd0-a82c-79cb23001cba",
     "showTitle": false,
     "tableResultSettingsMap": {},
     "title": ""
    }
   },
   "outputs": [],
   "source": [
    "# Widgets (se pueden fijar desde la UI también)\n",
    "dbutils.widgets.text(\"base_path\", \"/Volumes/sesion_10/default/storage\", \"base_path\")\n",
    "dbutils.widgets.text(\"table_name\", \"lab_bp_events\", \"table_name\")\n",
    "dbutils.widgets.dropdown(\"enable_aqe\", \"true\", [\"true\",\"false\"], \"enable_aqe\")\n",
    "\n",
    "base_path = dbutils.widgets.get(\"base_path\")\n",
    "table_name = dbutils.widgets.get(\"table_name\")\n",
    "enable_aqe = dbutils.widgets.get(\"enable_aqe\")"
   ]
  },
  {
   "cell_type": "code",
   "execution_count": 0,
   "metadata": {
    "application/vnd.databricks.v1+cell": {
     "cellMetadata": {
      "byteLimit": 2048000,
      "rowLimit": 10000
     },
     "inputWidgets": {},
     "nuid": "3e560114-4979-45e3-a2a4-5e6e6915acf7",
     "showTitle": false,
     "tableResultSettingsMap": {},
     "title": ""
    }
   },
   "outputs": [],
   "source": [
    "print(\"AQE enabled:\", spark.conf.get(\"spark.sql.adaptive.enabled\"))\n",
    "print(\"Broadcast threshold (bytes):\", spark.conf.get(\"spark.sql.autoBroadcastJoinThreshold\"))"
   ]
  },
  {
   "cell_type": "code",
   "execution_count": 0,
   "metadata": {
    "application/vnd.databricks.v1+cell": {
     "cellMetadata": {
      "byteLimit": 2048000,
      "rowLimit": 10000
     },
     "inputWidgets": {},
     "nuid": "ef223c65-1395-41db-a036-5cfb9116eefa",
     "showTitle": false,
     "tableResultSettingsMap": {},
     "title": ""
    }
   },
   "outputs": [],
   "source": [
    "# Configuración de AQE y umbral de broadcast join (ajústalo si tu tabla pequeña cabe en memoria)\n",
    "spark.conf.set(\"spark.sql.adaptive.enabled\", enable_aqe)\n",
    "spark.conf.set(\"spark.sql.adaptive.coalescePartitions.enabled\", \"true\")\n",
    "spark.conf.set(\"spark.sql.adaptive.skewJoin.enabled\", \"true\")\n",
    "spark.conf.set(\"spark.sql.autoBroadcastJoinThreshold\", 20 * 1024 * 1024)  # 20MB\n",
    "\n",
    "print(\"AQE enabled:\", spark.conf.get(\"spark.sql.adaptive.enabled\"))\n",
    "print(\"Broadcast threshold (bytes):\", spark.conf.get(\"spark.sql.autoBroadcastJoinThreshold\"))\n",
    "\n",
    "# Limpia carpeta de trabajo para reproducibilidad\n",
    "dbutils.fs.rm(base_path, True)\n",
    "\n",
    "# Rutas útiles\n",
    "delta_path = f\"{base_path}/delta/events\"\n",
    "dim_path   = f\"{base_path}/delta/dim_small\""
   ]
  },
  {
   "cell_type": "markdown",
   "metadata": {
    "application/vnd.databricks.v1+cell": {
     "cellMetadata": {},
     "inputWidgets": {},
     "nuid": "3c168bfe-b7d5-4917-8db1-14da93c4c5ff",
     "showTitle": false,
     "tableResultSettingsMap": {},
     "title": ""
    }
   },
   "source": [
    "## 1) Estructura y utilidades\n",
    "- Separar el código en **secciones** y **funciones** reutilizables.\n",
    "- Medir tiempos de forma estandarizada."
   ]
  },
  {
   "cell_type": "code",
   "execution_count": 0,
   "metadata": {
    "application/vnd.databricks.v1+cell": {
     "cellMetadata": {
      "byteLimit": 2048000,
      "rowLimit": 10000
     },
     "inputWidgets": {},
     "nuid": "a72462a8-ad3b-4c53-b1e8-801badf29c88",
     "showTitle": false,
     "tableResultSettingsMap": {},
     "title": ""
    }
   },
   "outputs": [],
   "source": [
    "import time\n",
    "from pyspark.sql.functions import *\n",
    "from pyspark.sql.types import *\n",
    "\n",
    "def tic():\n",
    "    return time.time()\n",
    "\n",
    "def toc(t0, label=\"Elapsed\"):\n",
    "    dt = time.time() - t0\n",
    "    print(f\"{label}: {dt:0.2f} s\")\n",
    "    return dt"
   ]
  },
  {
   "cell_type": "markdown",
   "metadata": {
    "application/vnd.databricks.v1+cell": {
     "cellMetadata": {},
     "inputWidgets": {},
     "nuid": "0e258ed5-3a51-46e9-b5d8-867979e83758",
     "showTitle": false,
     "tableResultSettingsMap": {},
     "title": ""
    }
   },
   "source": [
    "## 2) Datos de ejemplo\n",
    "- Generamos ~50M registros sintéticos con distribución simple."
   ]
  },
  {
   "cell_type": "code",
   "execution_count": 0,
   "metadata": {
    "application/vnd.databricks.v1+cell": {
     "cellMetadata": {
      "byteLimit": 2048000,
      "rowLimit": 10000
     },
     "inputWidgets": {},
     "nuid": "c85ef411-872f-45a2-ac16-d7837530b89e",
     "showTitle": false,
     "tableResultSettingsMap": {},
     "title": ""
    }
   },
   "outputs": [],
   "source": [
    "N = 50_000_000  # tamaño manejable\n",
    "cities = [\"Lima\",\"Arequipa\",\"Cusco\",\"Trujillo\",\"Piura\"]\n",
    "kinds  = [\"web\",\"app\",\"store\"]\n",
    "\n",
    "t0 = tic()\n",
    "\n",
    "events = (\n",
    "    spark.range(N).selectExpr(\n",
    "        \"id as event_id\",\n",
    "        \"cast(rand()*100000 as int) as user_id\",\n",
    "        \"date_sub(current_date(), cast(rand()*90 as int)) as event_date\",\n",
    "        \"cast(rand()*100 as int) as amount\",\n",
    "        \"CASE WHEN rand() < 0.45 THEN 'Lima' ELSE element_at(array('Arequipa','Cusco','Trujillo','Piura'), cast(floor(rand()*4)+1 as int)) END as city\",\n",
    "        \"element_at(array('web','app','store'), cast(floor(rand()*3)+1 as int)) as channel\"\n",
    "    )\n",
    ")\n",
    "\n",
    "toc(t0, \"Generación Delta de events\")"
   ]
  },
  {
   "cell_type": "code",
   "execution_count": 0,
   "metadata": {
    "application/vnd.databricks.v1+cell": {
     "cellMetadata": {
      "byteLimit": 2048000,
      "rowLimit": 10000
     },
     "inputWidgets": {},
     "nuid": "9ec4ee77-64fd-4249-862c-43f066a394b4",
     "showTitle": false,
     "tableResultSettingsMap": {},
     "title": ""
    }
   },
   "outputs": [],
   "source": [
    "t0 = tic()\n",
    "\n",
    "events.write.format(\"delta\").mode(\"overwrite\").save(delta_path)\n",
    "\n",
    "toc(t0, \"Escritura Delta de events\")"
   ]
  },
  {
   "cell_type": "code",
   "execution_count": 0,
   "metadata": {
    "application/vnd.databricks.v1+cell": {
     "cellMetadata": {
      "byteLimit": 2048000,
      "rowLimit": 10000
     },
     "inputWidgets": {},
     "nuid": "52059ece-8950-4780-895b-0fccc9a6afa9",
     "showTitle": false,
     "tableResultSettingsMap": {},
     "title": ""
    }
   },
   "outputs": [],
   "source": [
    "t0=tic()\n",
    "\n",
    "delta_path_coalesce = f\"{delta_path}_coalesce\"\n",
    "events.coalesce(1).write.format(\"delta\").mode(\"overwrite\").save(delta_path_coalesce)\n",
    "\n",
    "toc(t0, \"Overwrite Delta con 1 writer\")"
   ]
  },
  {
   "cell_type": "code",
   "execution_count": 0,
   "metadata": {
    "application/vnd.databricks.v1+cell": {
     "cellMetadata": {
      "byteLimit": 2048000,
      "rowLimit": 10000
     },
     "inputWidgets": {},
     "nuid": "beba17d7-c70e-437e-bd99-1d9bb2866315",
     "showTitle": false,
     "tableResultSettingsMap": {},
     "title": ""
    }
   },
   "outputs": [],
   "source": [
    "spark.conf.set(\"spark.sql.parquet.compression.codec\", \"gzip\")  # default es snappy"
   ]
  },
  {
   "cell_type": "code",
   "execution_count": 0,
   "metadata": {
    "application/vnd.databricks.v1+cell": {
     "cellMetadata": {
      "byteLimit": 2048000,
      "rowLimit": 10000
     },
     "inputWidgets": {},
     "nuid": "4671c4ed-6e8a-48dc-984a-cef29e0192b5",
     "showTitle": false,
     "tableResultSettingsMap": {},
     "title": ""
    }
   },
   "outputs": [],
   "source": [
    "t0=tic()\n",
    "\n",
    "delta_path_coalesce_gzip = f\"{delta_path}_coalesce_gzip\"\n",
    "events.coalesce(1).write.format(\"delta\").mode(\"overwrite\").save(delta_path_coalesce_gzip)\n",
    "\n",
    "toc(t0, \"Overwrite Delta con 1 writer y compresion gzip\")"
   ]
  },
  {
   "cell_type": "code",
   "execution_count": 0,
   "metadata": {
    "application/vnd.databricks.v1+cell": {
     "cellMetadata": {
      "byteLimit": 2048000,
      "rowLimit": 10000
     },
     "inputWidgets": {},
     "nuid": "fa3f6492-2485-4867-8c72-2f436ae78e4a",
     "showTitle": false,
     "tableResultSettingsMap": {},
     "title": ""
    }
   },
   "outputs": [],
   "source": [
    "spark.conf.set(\"spark.sql.parquet.compression.codec\", \"snappy\")"
   ]
  },
  {
   "cell_type": "code",
   "execution_count": 0,
   "metadata": {
    "application/vnd.databricks.v1+cell": {
     "cellMetadata": {
      "byteLimit": 2048000,
      "rowLimit": 10000
     },
     "inputWidgets": {},
     "nuid": "3dd343e3-d5cd-4f35-896f-7cf6d63537e4",
     "showTitle": false,
     "tableResultSettingsMap": {},
     "title": ""
    }
   },
   "outputs": [],
   "source": [
    "t0=tic()\n",
    "\n",
    "writers = 16\n",
    "delta_path_repartition = f\"{delta_path}_repartition\"\n",
    "events.repartition(writers).write.format(\"delta\").mode(\"overwrite\").save(delta_path_repartition)\n",
    "\n",
    "toc(t0, \"Overwrite Delta con 16 writer y compresion snappy por defecto\")"
   ]
  },
  {
   "cell_type": "code",
   "execution_count": 0,
   "metadata": {
    "application/vnd.databricks.v1+cell": {
     "cellMetadata": {
      "byteLimit": 2048000,
      "rowLimit": 10000
     },
     "inputWidgets": {},
     "nuid": "b94fe758-114c-46af-8028-3c1314865e85",
     "showTitle": false,
     "tableResultSettingsMap": {},
     "title": ""
    }
   },
   "outputs": [],
   "source": [
    "t0 = tic()\n",
    "\n",
    "dim_small = spark.createDataFrame(\n",
    "    [(c, k) for c in cities for k in kinds],\n",
    "    schema=T.StructType([T.StructField(\"city\", T.StringType()), T.StructField(\"channel\", T.StringType())])\n",
    ").withColumn(\"priority\", (F.rand()*100).cast(\"int\"))\n",
    "\n",
    "dim_small.write.format(\"delta\").mode(\"overwrite\").save(dim_path)\n",
    "\n",
    "toc(t0, \"Generación + escritura Delta de dim_small\")"
   ]
  },
  {
   "cell_type": "code",
   "execution_count": 0,
   "metadata": {
    "application/vnd.databricks.v1+cell": {
     "cellMetadata": {
      "byteLimit": 2048000,
      "rowLimit": 10000
     },
     "inputWidgets": {},
     "nuid": "448c5ac3-c296-4207-9b12-98a7cf38a49e",
     "showTitle": false,
     "tableResultSettingsMap": {},
     "title": ""
    }
   },
   "outputs": [],
   "source": [
    "spark.read.format(\"delta\").load(delta_path).createOrReplaceTempView(\"events\")\n",
    "spark.read.format(\"delta\").load(dim_path).createOrReplaceTempView(\"dim_small\")"
   ]
  },
  {
   "cell_type": "code",
   "execution_count": 0,
   "metadata": {
    "application/vnd.databricks.v1+cell": {
     "cellMetadata": {
      "byteLimit": 2048000,
      "rowLimit": 10000
     },
     "inputWidgets": {},
     "nuid": "bd77ce0b-3e36-4250-a66f-b762ecd84537",
     "showTitle": false,
     "tableResultSettingsMap": {},
     "title": ""
    }
   },
   "outputs": [],
   "source": [
    "t0 = tic()\n",
    "\n",
    "join_shuffle = (\n",
    "    spark.table(\"events\")\n",
    "    .join(spark.table(\"dim_small\"), on=[\"city\", \"channel\"], how=\"left\")\n",
    "    .groupBy(\"city\", \"channel\")\n",
    "    .agg(sum(\"amount\").alias(\"total_amount\"))\n",
    ")\n",
    "join_shuffle.count()\n",
    "\n",
    "toc(t0, \"Join sin broadcast (shuffle)\")"
   ]
  },
  {
   "cell_type": "code",
   "execution_count": 0,
   "metadata": {
    "application/vnd.databricks.v1+cell": {
     "cellMetadata": {
      "byteLimit": 2048000,
      "rowLimit": 10000
     },
     "inputWidgets": {},
     "nuid": "dff7f523-9e1a-4bfd-92a6-dea9c338b2dd",
     "showTitle": false,
     "tableResultSettingsMap": {},
     "title": ""
    }
   },
   "outputs": [],
   "source": [
    "from pyspark.sql.functions import broadcast\n",
    "\n",
    "t0 = tic()\n",
    "dim_b = broadcast(spark.table(\"dim_small\"))\n",
    "join_broadcast = (\n",
    "    spark.table(\"events\")\n",
    "    .join(dim_b, on=[\"city\", \"channel\"], how=\"left\")\n",
    "    .groupBy(\"city\", \"channel\")\n",
    "    .agg(sum(\"amount\").alias(\"total_amount\"))\n",
    ")\n",
    "join_broadcast.count()\n",
    "toc(t0, \"Join con broadcast\")"
   ]
  },
  {
   "cell_type": "code",
   "execution_count": 0,
   "metadata": {
    "application/vnd.databricks.v1+cell": {
     "cellMetadata": {
      "byteLimit": 2048000,
      "rowLimit": 10000
     },
     "inputWidgets": {},
     "nuid": "21657c60-12d5-43f9-821b-2cd1b78c2851",
     "showTitle": false,
     "tableResultSettingsMap": {},
     "title": ""
    }
   },
   "outputs": [],
   "source": [
    "part_path = f\"{base_path}/delta/transactions\"\n",
    "\n",
    "# Simulamos microarchivos: repartition alto = muchos archivos chicos\n",
    "transactions = (\n",
    "  spark.range(50_000_000)  # 50M filas\n",
    "  .withColumn(\"customer_id\", (rand()*1000).cast(\"int\"))\n",
    "  .withColumn(\"product_id\", (rand()*100).cast(\"int\"))\n",
    "  .withColumn(\"amount\", (rand()*100).cast(\"int\"))\n",
    ")"
   ]
  },
  {
   "cell_type": "code",
   "execution_count": 0,
   "metadata": {
    "application/vnd.databricks.v1+cell": {
     "cellMetadata": {
      "byteLimit": 2048000,
      "rowLimit": 10000
     },
     "inputWidgets": {},
     "nuid": "a86371b8-a2ee-4baf-a141-f2bd593675d1",
     "showTitle": false,
     "tableResultSettingsMap": {},
     "title": ""
    }
   },
   "outputs": [],
   "source": [
    "spark.read.format(\"delta\").load(part_path).createOrReplaceTempView(\"transactions\")"
   ]
  },
  {
   "cell_type": "code",
   "execution_count": 0,
   "metadata": {
    "application/vnd.databricks.v1+cell": {
     "cellMetadata": {
      "byteLimit": 2048000,
      "rowLimit": 10000
     },
     "inputWidgets": {},
     "nuid": "1f8f6fd7-2657-4e71-8b3e-d528c3a62fe8",
     "showTitle": false,
     "tableResultSettingsMap": {},
     "title": ""
    }
   },
   "outputs": [],
   "source": [
    "spark.sql(\"\"\"\n",
    "    CREATE TABLE IF NOT EXISTS sesion_10.default.transactions\n",
    "    USING DELTA\n",
    "    AS SELECT * FROM transactions\n",
    "\"\"\")"
   ]
  },
  {
   "cell_type": "code",
   "execution_count": 0,
   "metadata": {
    "application/vnd.databricks.v1+cell": {
     "cellMetadata": {
      "byteLimit": 2048000,
      "rowLimit": 10000
     },
     "inputWidgets": {},
     "nuid": "054ee7c0-e511-4d23-8f1d-e770e0b3f397",
     "showTitle": false,
     "tableResultSettingsMap": {},
     "title": ""
    }
   },
   "outputs": [],
   "source": [
    "t0 = tic()\n",
    "\n",
    "spark.sql(\"SELECT SUM(amount) FROM sesion_10.default.transactions WHERE product_id=42\").show()\n",
    "\n",
    "toc(t0, \"Consulta baseline (sin optimize)\")"
   ]
  },
  {
   "cell_type": "code",
   "execution_count": 0,
   "metadata": {
    "application/vnd.databricks.v1+cell": {
     "cellMetadata": {
      "byteLimit": 2048000,
      "rowLimit": 10000
     },
     "inputWidgets": {},
     "nuid": "209b5843-0ec1-483a-ae8b-4369aa41053a",
     "showTitle": false,
     "tableResultSettingsMap": {},
     "title": ""
    }
   },
   "outputs": [],
   "source": [
    "spark.sql(\"OPTIMIZE sesion_10.default.transactions;\")"
   ]
  },
  {
   "cell_type": "code",
   "execution_count": 0,
   "metadata": {
    "application/vnd.databricks.v1+cell": {
     "cellMetadata": {},
     "inputWidgets": {},
     "nuid": "c9d3171a-64cd-48ff-833b-36aaf92a2a62",
     "showTitle": false,
     "tableResultSettingsMap": {},
     "title": ""
    }
   },
   "outputs": [],
   "source": [
    "t0 = tic()\n",
    "\n",
    "spark.sql(\"SELECT SUM(amount) FROM sesion_10.default.transactions WHERE product_id=42\").show()\n",
    "\n",
    "toc(t0, \"Consulta baseline (sin optimize)\")"
   ]
  },
  {
   "cell_type": "code",
   "execution_count": 0,
   "metadata": {
    "application/vnd.databricks.v1+cell": {
     "cellMetadata": {
      "byteLimit": 2048000,
      "rowLimit": 10000
     },
     "inputWidgets": {},
     "nuid": "20059ef2-c628-4b3b-905a-214d8a7644b0",
     "showTitle": false,
     "tableResultSettingsMap": {},
     "title": ""
    }
   },
   "outputs": [],
   "source": [
    "spark.sql(\"OPTIMIZE sesion_10.default.transactions ZORDER BY (customer_id, product_id);\")"
   ]
  },
  {
   "cell_type": "code",
   "execution_count": 0,
   "metadata": {
    "application/vnd.databricks.v1+cell": {
     "cellMetadata": {
      "byteLimit": 2048000,
      "rowLimit": 10000
     },
     "inputWidgets": {},
     "nuid": "e2709cdb-1495-4f50-b4b9-d2c7084ee86a",
     "showTitle": false,
     "tableResultSettingsMap": {},
     "title": ""
    }
   },
   "outputs": [],
   "source": [
    "t0 = tic()\n",
    "\n",
    "spark.sql(\"SELECT * FROM sesion_10.default.transactions WHERE customer_id=123 AND product_id=42\").count()\n",
    "\n",
    "toc(t0, \"Consulta con ZORDER aplicado\")"
   ]
  },
  {
   "cell_type": "code",
   "execution_count": 0,
   "metadata": {
    "application/vnd.databricks.v1+cell": {
     "cellMetadata": {
      "byteLimit": 2048000,
      "rowLimit": 10000
     },
     "inputWidgets": {},
     "nuid": "e8011c97-833d-49ef-b12d-b85e53089468",
     "showTitle": false,
     "tableResultSettingsMap": {},
     "title": ""
    }
   },
   "outputs": [],
   "source": [
    "spark.sql(\"VACUUM sesion_10.default.transactions RETAIN 168 HOURS;\")"
   ]
  }
 ],
 "metadata": {
  "application/vnd.databricks.v1+notebook": {
   "computePreferences": null,
   "dashboards": [],
   "environmentMetadata": null,
   "inputWidgetPreferences": null,
   "language": "python",
   "notebookMetadata": {
    "pythonIndentUnit": 4
   },
   "notebookName": "Sesion 10.1 - Optimizacion databricks",
   "widgets": {
    "base_path": {
     "currentValue": "/Volumes/sesion_10/default/storage",
     "nuid": "75cb2cff-b0da-48d7-973a-5507f65b4469",
     "typedWidgetInfo": {
      "autoCreated": false,
      "defaultValue": "/Volumes/sesion_10/default/storage",
      "label": "base_path",
      "name": "base_path",
      "options": {
       "widgetDisplayType": "Text",
       "validationRegex": null
      },
      "parameterDataType": "String"
     },
     "widgetInfo": {
      "widgetType": "text",
      "defaultValue": "/Volumes/sesion_10/default/storage",
      "label": "base_path",
      "name": "base_path",
      "options": {
       "widgetType": "text",
       "autoCreated": null,
       "validationRegex": null
      }
     }
    },
    "enable_aqe": {
     "currentValue": "true",
     "nuid": "e41c4d50-fbf0-40a8-8d8f-81974bad6bfc",
     "typedWidgetInfo": {
      "autoCreated": false,
      "defaultValue": "true",
      "label": "enable_aqe",
      "name": "enable_aqe",
      "options": {
       "widgetDisplayType": "Dropdown",
       "choices": [
        "true",
        "false"
       ],
       "fixedDomain": true,
       "multiselect": false
      },
      "parameterDataType": "String"
     },
     "widgetInfo": {
      "widgetType": "dropdown",
      "defaultValue": "true",
      "label": "enable_aqe",
      "name": "enable_aqe",
      "options": {
       "widgetType": "dropdown",
       "autoCreated": null,
       "choices": [
        "true",
        "false"
       ]
      }
     }
    },
    "table_name": {
     "currentValue": "sesion_10.default.lab_bp_events",
     "nuid": "ddcf96d7-e1ff-4a03-8ef4-5bf0e538fa10",
     "typedWidgetInfo": {
      "autoCreated": false,
      "defaultValue": "lab_bp_events",
      "label": "table_name",
      "name": "table_name",
      "options": {
       "widgetDisplayType": "Text",
       "validationRegex": null
      },
      "parameterDataType": "String"
     },
     "widgetInfo": {
      "widgetType": "text",
      "defaultValue": "lab_bp_events",
      "label": "table_name",
      "name": "table_name",
      "options": {
       "widgetType": "text",
       "autoCreated": null,
       "validationRegex": null
      }
     }
    }
   }
  },
  "language_info": {
   "name": "python"
  }
 },
 "nbformat": 4,
 "nbformat_minor": 0
}
