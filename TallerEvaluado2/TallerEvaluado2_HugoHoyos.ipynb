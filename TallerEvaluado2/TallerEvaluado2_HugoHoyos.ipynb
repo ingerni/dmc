{
 "cells": [
  {
   "cell_type": "markdown",
   "metadata": {
    "application/vnd.databricks.v1+cell": {
     "cellMetadata": {},
     "inputWidgets": {},
     "nuid": "9fab8544-477e-40aa-96dc-ab3b56449a3e",
     "showTitle": false,
     "tableResultSettingsMap": {},
     "title": ""
    }
   },
   "source": [
    "### Objetivo del Taller 02\n",
    "\n",
    "Aplicar técnicas de limpieza, transformación y manejo estructurado de datos utilizando Spark DataFrames en Databricks, sobre un caso realista del negocio de un colegio.\n",
    "\n",
    "Contexto y objetivo\n",
    "Este taller evaluado consolida los aprendizajes de la Sesión 04 y 05, y promueve criterios de diseño basados en el negocio. El/la estudiante definirá y justificará las transformaciones según una industria de su elección (p. ej., retail, banca, seguros, telecom, farmacia, educación, logística), y construirá artefactos reproducibles en Databricks."
   ]
  },
  {
   "cell_type": "markdown",
   "metadata": {
    "application/vnd.databricks.v1+cell": {
     "cellMetadata": {},
     "inputWidgets": {},
     "nuid": "b0e59e10-b71d-4502-ab66-5ead948ff3ec",
     "showTitle": false,
     "tableResultSettingsMap": {},
     "title": ""
    }
   },
   "source": [
    "1. Importamos las dependencias"
   ]
  },
  {
   "cell_type": "code",
   "execution_count": 0,
   "metadata": {
    "application/vnd.databricks.v1+cell": {
     "cellMetadata": {
      "byteLimit": 2048000,
      "rowLimit": 10000
     },
     "inputWidgets": {},
     "nuid": "bdda6a74-fbfc-4b0b-962b-1641d17695f0",
     "showTitle": false,
     "tableResultSettingsMap": {},
     "title": ""
    }
   },
   "outputs": [],
   "source": [
    "from pyspark.sql.functions import upper, col, trim, when, coalesce, lit, round, to_date, year, month, sum, countDistinct, avg\n",
    "from pyspark.sql.types import DoubleType"
   ]
  },
  {
   "cell_type": "markdown",
   "metadata": {
    "application/vnd.databricks.v1+cell": {
     "cellMetadata": {},
     "inputWidgets": {},
     "nuid": "1405dbb6-2214-41ea-a79f-946ebb68a283",
     "showTitle": false,
     "tableResultSettingsMap": {},
     "title": ""
    }
   },
   "source": [
    "2. creamos el catalogo y el esquema"
   ]
  },
  {
   "cell_type": "code",
   "execution_count": 0,
   "metadata": {
    "application/vnd.databricks.v1+cell": {
     "cellMetadata": {
      "byteLimit": 2048000,
      "rowLimit": 10000
     },
     "inputWidgets": {},
     "nuid": "fe47a05a-310a-4514-906b-d34325144bea",
     "showTitle": false,
     "tableResultSettingsMap": {},
     "title": ""
    }
   },
   "outputs": [],
   "source": [
    "catalog = \"taller2\"\n",
    "schema_name = \"colegios\"\n",
    "\n",
    "spark.sql(f\"CREATE CATALOG IF NOT EXISTS {catalog}\")\n",
    "spark.sql(f\"CREATE SCHEMA IF NOT EXISTS {catalog}.{schema_name}\")"
   ]
  },
  {
   "cell_type": "markdown",
   "metadata": {
    "application/vnd.databricks.v1+cell": {
     "cellMetadata": {},
     "inputWidgets": {},
     "nuid": "2239db22-2153-4353-b5a2-a7308cd4ef73",
     "showTitle": false,
     "tableResultSettingsMap": {},
     "title": ""
    }
   },
   "source": [
    "3. ingestamos los archivos y definimos los dataframes"
   ]
  },
  {
   "cell_type": "code",
   "execution_count": 0,
   "metadata": {
    "application/vnd.databricks.v1+cell": {
     "cellMetadata": {
      "byteLimit": 2048000,
      "rowLimit": 10000
     },
     "inputWidgets": {},
     "nuid": "29952b93-7491-46b1-8558-8881a4dd9725",
     "showTitle": false,
     "tableResultSettingsMap": {},
     "title": ""
    }
   },
   "outputs": [],
   "source": [
    "path_alumnos = \"/Volumes/taller2/colegios/source/input/alumnos.json\"\n",
    "path_cursos = \"/Volumes/taller2/colegios/source/input/cursos.json\"\n",
    "path_notas = \"/Volumes/taller2/colegios/source/input/notas.json\"\n",
    "path_profesores = \"/Volumes/taller2/colegios/source/input/profesores.json\"\n",
    "\n",
    "df_alumnos = spark.read.option(\"header\", True).option(\"inferSchema\", True).json(path_alumnos)\n",
    "df_cursos = spark.read.option(\"header\", True).option(\"inferSchema\", True).json(path_cursos)\n",
    "df_notas = spark.read.option(\"header\", True).option(\"inferSchema\", True).json(path_notas)\n",
    "df_profesores = spark.read.option(\"header\", True).option(\"inferSchema\", True).json(path_profesores)"
   ]
  },
  {
   "cell_type": "markdown",
   "metadata": {
    "application/vnd.databricks.v1+cell": {
     "cellMetadata": {},
     "inputWidgets": {},
     "nuid": "dc274e48-4866-4551-b3e6-90d7ea2951e5",
     "showTitle": false,
     "tableResultSettingsMap": {},
     "title": ""
    }
   },
   "source": [
    "4. Limpiamos los datos"
   ]
  },
  {
   "cell_type": "code",
   "execution_count": 0,
   "metadata": {
    "application/vnd.databricks.v1+cell": {
     "cellMetadata": {
      "byteLimit": 2048000,
      "rowLimit": 10000
     },
     "inputWidgets": {},
     "nuid": "646c0a96-b90e-49bf-b8e2-d2491d47f0a6",
     "showTitle": false,
     "tableResultSettingsMap": {},
     "title": ""
    }
   },
   "outputs": [],
   "source": [
    "df_alumnos_clean = (\n",
    "    df_alumnos\n",
    "    .withColumn(\"ciudad\", trim(upper(col(\"ciudad\"))))\n",
    ")"
   ]
  },
  {
   "cell_type": "markdown",
   "metadata": {
    "application/vnd.databricks.v1+cell": {
     "cellMetadata": {},
     "inputWidgets": {},
     "nuid": "df5443ac-ddf9-4d18-b4d7-c9c39cee1283",
     "showTitle": false,
     "tableResultSettingsMap": {},
     "title": ""
    }
   },
   "source": [
    "5. Hacemos Join con los demas dataframes"
   ]
  },
  {
   "cell_type": "code",
   "execution_count": 0,
   "metadata": {
    "application/vnd.databricks.v1+cell": {
     "cellMetadata": {
      "byteLimit": 2048000,
      "rowLimit": 10000
     },
     "inputWidgets": {},
     "nuid": "3f723a80-4b85-416e-9107-5303040c6e6e",
     "showTitle": false,
     "tableResultSettingsMap": {},
     "title": ""
    }
   },
   "outputs": [],
   "source": [
    "df_join_cursos = (\n",
    "    df_cursos.alias(\"c\")\n",
    "    .join(\n",
    "        df_profesores.alias(\"p\").select(\"profesor_id\", \"nombre\", \"especialidad\"),\n",
    "        col(\"c.nombre_curso\") == col(\"p.especialidad\"),\n",
    "        \"inner\"\n",
    "    )\n",
    "    .select(\n",
    "        col(\"c.curso_id\").alias(\"Curso_Id\"),\n",
    "        col(\"c.nombre_curso\").alias(\"Curso_Nombre\"),\n",
    "        col(\"p.profesor_id\").alias(\"Profesor_Id\"),\n",
    "        col(\"p.nombre\").alias(\"Profesor\")\n",
    "    )\n",
    ")"
   ]
  },
  {
   "cell_type": "code",
   "execution_count": 0,
   "metadata": {
    "application/vnd.databricks.v1+cell": {
     "cellMetadata": {
      "byteLimit": 2048000,
      "rowLimit": 10000
     },
     "inputWidgets": {},
     "nuid": "fb0ba77d-cefc-4515-80d5-0dfc5145c1dc",
     "showTitle": false,
     "tableResultSettingsMap": {},
     "title": ""
    }
   },
   "outputs": [],
   "source": [
    "df_join = (\n",
    "    df_notas.alias(\"n\")\n",
    "    .join(\n",
    "        df_alumnos_clean.alias(\"ac\").select(\"alumno_id\", \"nombre\", \"grado\", \"seccion\"),\n",
    "        col(\"n.alumno_id\") == col(\"ac.alumno_id\"),\n",
    "        \"inner\"\n",
    "    )\n",
    "    .join(\n",
    "        df_cursos.alias(\"c\").select(\"curso_id\", \"nombre_curso\"),\n",
    "        col(\"n.curso_id\") == col(\"c.curso_id\"),\n",
    "        \"inner\"\n",
    "    )\n",
    "    .join(\n",
    "        df_join_cursos.alias(\"jc\").select(\"Curso_Id\", \"Profesor\"),\n",
    "        col(\"n.curso_id\") == col(\"jc.Curso_Id\"),\n",
    "        \"inner\"\n",
    "    )\n",
    "    .select(\n",
    "        col(\"ac.alumno_id\").alias(\"Alumno_Id\"),\n",
    "        col(\"ac.nombre\").alias(\"Alumno_Nombre\"),\n",
    "        col(\"ac.grado\").alias(\"Alumno_Grado\"),\n",
    "        col(\"ac.seccion\").alias(\"Alumno_Seccion\"),\n",
    "        col(\"c.curso_id\").alias(\"Curso_Id\"),\n",
    "        col(\"c.nombre_curso\").alias(\"Curso_Nombre\"),\n",
    "        col(\"jc.Profesor\").alias(\"Profesor\"),\n",
    "        col(\"n.nota\").alias(\"Nota\")\n",
    "    )       \n",
    "    \n",
    ")"
   ]
  },
  {
   "cell_type": "code",
   "execution_count": 0,
   "metadata": {
    "application/vnd.databricks.v1+cell": {
     "cellMetadata": {
      "byteLimit": 2048000,
      "rowLimit": 10000
     },
     "inputWidgets": {},
     "nuid": "ef1b47dd-f2f2-41cb-8a2d-e9f17edca3ab",
     "showTitle": false,
     "tableResultSettingsMap": {},
     "title": ""
    }
   },
   "outputs": [],
   "source": [
    "df_notas_procesada = (\n",
    "    df_join\n",
    "    .withColumn(\"notas_procesada\", \n",
    "                when(col(\"Nota\") >= 18, lit(\"Nota_Alta\"))\n",
    "                .when(col(\"Nota\") >= 15, lit(\"Nota_Media\"))\n",
    "                .otherwise(lit(\"Nota_Baja\"))\n",
    "    )\n",
    ")"
   ]
  },
  {
   "cell_type": "code",
   "execution_count": 0,
   "metadata": {
    "application/vnd.databricks.v1+cell": {
     "cellMetadata": {
      "byteLimit": 2048000,
      "rowLimit": 10000
     },
     "inputWidgets": {},
     "nuid": "6ac1b3e3-a5f3-4da3-98b7-de8951deed8d",
     "showTitle": false,
     "tableResultSettingsMap": {},
     "title": ""
    }
   },
   "outputs": [],
   "source": [
    "tbl_detalle = f\"{catalog}.{schema_name}.colegio_detalle\""
   ]
  },
  {
   "cell_type": "code",
   "execution_count": 0,
   "metadata": {
    "application/vnd.databricks.v1+cell": {
     "cellMetadata": {
      "byteLimit": 2048000,
      "rowLimit": 10000
     },
     "inputWidgets": {},
     "nuid": "b92223e2-6647-454e-a6fc-fe234ffbc547",
     "showTitle": false,
     "tableResultSettingsMap": {},
     "title": ""
    }
   },
   "outputs": [],
   "source": [
    "df_join.write.format(\"delta\").mode(\"overwrite\").saveAsTable(tbl_detalle)"
   ]
  },
  {
   "cell_type": "code",
   "execution_count": 0,
   "metadata": {
    "application/vnd.databricks.v1+cell": {
     "cellMetadata": {
      "byteLimit": 2048000,
      "implicitDf": true,
      "rowLimit": 10000
     },
     "inputWidgets": {},
     "nuid": "c18d9b21-bb53-4eed-acd9-7c740fc16846",
     "showTitle": false,
     "tableResultSettingsMap": {},
     "title": ""
    }
   },
   "outputs": [],
   "source": [
    "%sql\n",
    "select * from taller2.colegios.colegio_detalle"
   ]
  }
 ],
 "metadata": {
  "application/vnd.databricks.v1+notebook": {
   "computePreferences": {
    "hardware": {
     "accelerator": null,
     "gpuPoolId": null,
     "memory": null
    }
   },
   "dashboards": [],
   "environmentMetadata": {
    "base_environment": "",
    "environment_version": "2"
   },
   "inputWidgetPreferences": null,
   "language": "python",
   "notebookMetadata": {
    "mostRecentlyExecutedCommandWithImplicitDF": {
     "commandId": 7213780146565783,
     "dataframes": [
      "_sqldf"
     ]
    },
    "pythonIndentUnit": 4
   },
   "notebookName": "TallerEvaluado2_HugoHoyos",
   "widgets": {}
  },
  "language_info": {
   "name": "python"
  }
 },
 "nbformat": 4,
 "nbformat_minor": 0
}
