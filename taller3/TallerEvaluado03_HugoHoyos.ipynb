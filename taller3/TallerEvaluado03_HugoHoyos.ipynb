{
 "cells": [
  {
   "cell_type": "markdown",
   "metadata": {
    "application/vnd.databricks.v1+cell": {
     "cellMetadata": {},
     "inputWidgets": {},
     "nuid": "3e1e8714-4569-4344-addf-543b4d523ce0",
     "showTitle": false,
     "tableResultSettingsMap": {},
     "title": ""
    }
   },
   "source": [
    "### Taller Evaluado 03\n",
    "Contexto y objetivo\n",
    "La empresa LogisPerú se dedica al transporte y entrega de paquetes en todo el país. Actualmente, maneja información de clientes, sucursales, rutas y envíos. El área de Data & Analytics requiere consolidar esta información en Databricks, aplicando transformaciones avanzadas, modelado analítico y procesamiento incremental.\n",
    "\n",
    "Objetivo: El estudiante deberá diseñar e implementar un flujo de procesamiento de datos en Databricks que:\n",
    "\n",
    "• Aplique transformaciones con funciones de ventana (ranking, acumulados, variaciones).\n",
    "\n",
    "• Modele un esquema analítico en formato estrella en la capa Gold.\n",
    "\n",
    "• Implemente un proceso incremental con MERGE INTO sobre los envíos, manejando duplicados y actualizaciones.\n",
    "\n",
    "• Registre la trazabilidad en una tabla de auditoría.\n",
    "\n",
    "**Capas:**\n",
    "- **Bronze**: ingesta cruda de los 5 CSV .\n",
    "\n",
    "- **Silver**: llimpieza, transformaciones y deduplicación.\n",
    "\n",
    "- **Gold**: modelo analítico + auditoría."
   ]
  },
  {
   "cell_type": "code",
   "execution_count": 0,
   "metadata": {
    "application/vnd.databricks.v1+cell": {
     "cellMetadata": {
      "byteLimit": 2048000,
      "rowLimit": 10000
     },
     "inputWidgets": {},
     "nuid": "355f64fb-7a8b-40df-ae0c-546294e72393",
     "showTitle": false,
     "tableResultSettingsMap": {},
     "title": ""
    }
   },
   "outputs": [],
   "source": [
    "## ELIMINAR CATALOGO\n",
    "\n",
    "from pyspark.sql import SparkSession\n",
    "\n",
    "# Crear/usar sesión de Spark\n",
    "spark = SparkSession.builder.getOrCreate()\n",
    "\n",
    "# Nombre del catálogo a eliminar\n",
    "catalog_name = \"tallerevaluado03\"\n",
    "\n",
    "# Ejecutar el comando SQL para eliminar el catálogo\n",
    "spark.sql(f\"DROP CATALOG IF EXISTS {catalog_name} CASCADE\") "
   ]
  },
  {
   "cell_type": "code",
   "execution_count": 0,
   "metadata": {
    "application/vnd.databricks.v1+cell": {
     "cellMetadata": {
      "byteLimit": 2048000,
      "rowLimit": 10000
     },
     "inputWidgets": {},
     "nuid": "bcd2c1bf-5fd5-4ead-82fd-47f848aa6963",
     "showTitle": false,
     "tableResultSettingsMap": {},
     "title": ""
    }
   },
   "outputs": [],
   "source": [
    "from pyspark.sql.functions import col, trim, initcap, when, lit, year, month, dayofmonth, concat, concat_ws, current_timestamp, to_date, to_timestamp, row_number, current_date, sha2, expr, count, round, avg, rank, trunc, lag, sum\n",
    "from pyspark.sql.types import StructType, StructField, StringType, IntegerType, TimestampType\n",
    "from pyspark.sql.window import Window\n",
    "from pyspark.sql.utils import AnalysisException\n",
    "from delta.tables import DeltaTable\n",
    "import uuid, datetime"
   ]
  },
  {
   "cell_type": "markdown",
   "metadata": {
    "application/vnd.databricks.v1+cell": {
     "cellMetadata": {},
     "inputWidgets": {},
     "nuid": "f1fdd380-3ae3-4e54-bac3-715b974e3753",
     "showTitle": false,
     "tableResultSettingsMap": {},
     "title": ""
    }
   },
   "source": [
    "## Bronze"
   ]
  },
  {
   "cell_type": "markdown",
   "metadata": {
    "application/vnd.databricks.v1+cell": {
     "cellMetadata": {},
     "inputWidgets": {},
     "nuid": "f65f5a95-75c6-4ca4-a881-7d9583fb9356",
     "showTitle": false,
     "tableResultSettingsMap": {},
     "title": ""
    }
   },
   "source": [
    "#### 1. Creamos el catálogo y los esquemas"
   ]
  },
  {
   "cell_type": "code",
   "execution_count": 0,
   "metadata": {
    "application/vnd.databricks.v1+cell": {
     "cellMetadata": {
      "byteLimit": 2048000,
      "rowLimit": 10000
     },
     "inputWidgets": {},
     "nuid": "7c12f5f2-a565-457e-b435-ce6c77443d76",
     "showTitle": false,
     "tableResultSettingsMap": {},
     "title": ""
    }
   },
   "outputs": [],
   "source": [
    "catalog_name = \"tallerevaluado03\"\n",
    "schema_bronze = \"bronze\"\n",
    "schema_silver = \"silver\"\n",
    "schema_gold = \"gold\""
   ]
  },
  {
   "cell_type": "code",
   "execution_count": 0,
   "metadata": {
    "application/vnd.databricks.v1+cell": {
     "cellMetadata": {
      "byteLimit": 2048000,
      "rowLimit": 10000
     },
     "inputWidgets": {},
     "nuid": "c9bfbf2c-399a-4acb-a9b0-f4ab8262ced0",
     "showTitle": false,
     "tableResultSettingsMap": {},
     "title": ""
    }
   },
   "outputs": [],
   "source": [
    "spark.sql(f\"CREATE CATALOG IF NOT EXISTS {catalog_name}\")"
   ]
  },
  {
   "cell_type": "code",
   "execution_count": 0,
   "metadata": {
    "application/vnd.databricks.v1+cell": {
     "cellMetadata": {
      "byteLimit": 2048000,
      "rowLimit": 10000
     },
     "inputWidgets": {},
     "nuid": "b2a4b300-bb84-456c-98b8-e6a5c0e2addb",
     "showTitle": false,
     "tableResultSettingsMap": {},
     "title": ""
    }
   },
   "outputs": [],
   "source": [
    "spark.sql(f\"CREATE SCHEMA IF NOT EXISTS {catalog_name}.{schema_bronze}\")\n",
    "spark.sql(f\"CREATE SCHEMA IF NOT EXISTS {catalog_name}.{schema_silver}\")\n",
    "spark.sql(f\"CREATE SCHEMA IF NOT EXISTS {catalog_name}.{schema_gold}\")"
   ]
  },
  {
   "cell_type": "code",
   "execution_count": 0,
   "metadata": {
    "application/vnd.databricks.v1+cell": {
     "cellMetadata": {
      "byteLimit": 2048000,
      "rowLimit": 10000
     },
     "inputWidgets": {},
     "nuid": "81e5359b-9fc7-4a3d-a11c-94c8a0431cb2",
     "showTitle": false,
     "tableResultSettingsMap": {},
     "title": ""
    }
   },
   "outputs": [],
   "source": [
    "spark.sql(f\"CREATE VOLUME IF NOT EXISTS {catalog_name}.default.input\")"
   ]
  },
  {
   "cell_type": "code",
   "execution_count": 0,
   "metadata": {
    "application/vnd.databricks.v1+cell": {
     "cellMetadata": {
      "byteLimit": 2048000,
      "rowLimit": 10000
     },
     "collapsed": true,
     "inputWidgets": {},
     "nuid": "327c567d-bf9f-41b0-8d76-d28d1fd8e2a8",
     "showTitle": false,
     "tableResultSettingsMap": {},
     "title": ""
    }
   },
   "outputs": [],
   "source": [
    "spark.sql(f\"\"\"\n",
    "CREATE OR REPLACE TABLE {catalog_name}.{schema_bronze}.clientes_raw(\n",
    "  id_cliente string,\n",
    "  nombre string,\n",
    "  apellido string,\n",
    "  email  string,\n",
    "  segmento string,\n",
    "  fecha_registro  string,\n",
    "  ingest_at timestamp\n",
    ")\n",
    "\"\"\"\n",
    ")"
   ]
  },
  {
   "cell_type": "code",
   "execution_count": 0,
   "metadata": {
    "application/vnd.databricks.v1+cell": {
     "cellMetadata": {
      "byteLimit": 2048000,
      "rowLimit": 10000
     },
     "collapsed": true,
     "inputWidgets": {},
     "nuid": "27f5d13e-0553-49a5-bb9e-f1cd95fd2f71",
     "showTitle": false,
     "tableResultSettingsMap": {},
     "title": ""
    }
   },
   "outputs": [],
   "source": [
    "spark.sql(f\"\"\"\n",
    "CREATE OR REPLACE TABLE {catalog_name}.{schema_bronze}.envios_base_raw(\n",
    "  id_envio string,\n",
    "  id_linea string,\n",
    "  id_cliente string,\n",
    "  id_sucursal string,\n",
    "  id_ruta string,\n",
    "  fecha_envio  string,\n",
    "  estado string,\n",
    "  peso_kg string,\n",
    "  costo_envio string,\n",
    "  updated_at string,\n",
    "  ingest_at timestamp\n",
    ")\n",
    "\"\"\"\n",
    ")"
   ]
  },
  {
   "cell_type": "code",
   "execution_count": 0,
   "metadata": {
    "application/vnd.databricks.v1+cell": {
     "cellMetadata": {
      "byteLimit": 2048000,
      "rowLimit": 10000
     },
     "collapsed": true,
     "inputWidgets": {},
     "nuid": "c57b297f-bbf8-4cde-a677-06feb43e5b95",
     "showTitle": false,
     "tableResultSettingsMap": {},
     "title": ""
    }
   },
   "outputs": [],
   "source": [
    "spark.sql(f\"\"\"\n",
    "CREATE OR REPLACE TABLE {catalog_name}.{schema_bronze}.envios_incremento_raw(\n",
    "  id_envio string,\n",
    "  id_linea string,\n",
    "  id_cliente string,\n",
    "  id_sucursal string,\n",
    "  id_ruta string,\n",
    "  fecha_envio  string,\n",
    "  estado string,\n",
    "  peso_kg string,\n",
    "  costo_envio string,\n",
    "  updated_at string,\n",
    "  ingest_at timestamp\n",
    ")\n",
    "\"\"\"\n",
    ")"
   ]
  },
  {
   "cell_type": "code",
   "execution_count": 0,
   "metadata": {
    "application/vnd.databricks.v1+cell": {
     "cellMetadata": {
      "byteLimit": 2048000,
      "rowLimit": 10000
     },
     "collapsed": true,
     "inputWidgets": {},
     "nuid": "538093fa-a0dc-4aeb-8de5-b6beaf42bff3",
     "showTitle": false,
     "tableResultSettingsMap": {},
     "title": ""
    }
   },
   "outputs": [],
   "source": [
    "spark.sql(f\"\"\"\n",
    "CREATE OR REPLACE TABLE {catalog_name}.{schema_bronze}.rutas_raw(\n",
    "  id_ruta string,\n",
    "  origen string,\n",
    "  destino string,\n",
    "  distancia_km  string,\n",
    "  tiempo_estimado_horas string,\n",
    "  ingest_at timestamp\n",
    ")\n",
    "\"\"\"\n",
    ")"
   ]
  },
  {
   "cell_type": "code",
   "execution_count": 0,
   "metadata": {
    "application/vnd.databricks.v1+cell": {
     "cellMetadata": {
      "byteLimit": 2048000,
      "rowLimit": 10000
     },
     "collapsed": true,
     "inputWidgets": {},
     "nuid": "0a856756-90e8-4745-82f0-36599e7b8126",
     "showTitle": false,
     "tableResultSettingsMap": {},
     "title": ""
    }
   },
   "outputs": [],
   "source": [
    "spark.sql(f\"\"\"\n",
    "CREATE OR REPLACE TABLE {catalog_name}.{schema_bronze}.sucursales_raw(\n",
    "  id_sucursal string,\n",
    "  ciudad string,\n",
    "  distrito  string,\n",
    "  region string,\n",
    "  tipo string,\n",
    "  fecha_apertura string,\n",
    "  ingest_at timestamp\n",
    ")\n",
    "\"\"\"\n",
    ")"
   ]
  },
  {
   "cell_type": "code",
   "execution_count": 0,
   "metadata": {
    "application/vnd.databricks.v1+cell": {
     "cellMetadata": {
      "byteLimit": 2048000,
      "rowLimit": 10000
     },
     "collapsed": true,
     "inputWidgets": {},
     "nuid": "d8c9a79e-2c07-40b7-8a13-cd96354ba381",
     "showTitle": false,
     "tableResultSettingsMap": {},
     "title": ""
    }
   },
   "outputs": [],
   "source": [
    "spark.sql(f\"\"\"\n",
    "CREATE OR REPLACE TABLE {catalog_name}.{schema_silver}.clientes(\n",
    "  id_cliente integer,\n",
    "  nombre string,\n",
    "  apellido string,\n",
    "  email  string,\n",
    "  segmento string,\n",
    "  fecha_registro  date\n",
    ")\n",
    "\"\"\"\n",
    ")"
   ]
  },
  {
   "cell_type": "code",
   "execution_count": 0,
   "metadata": {
    "application/vnd.databricks.v1+cell": {
     "cellMetadata": {
      "byteLimit": 2048000,
      "rowLimit": 10000
     },
     "collapsed": true,
     "inputWidgets": {},
     "nuid": "4560f2fb-26b5-46f0-b600-0f2cb87ca5cc",
     "showTitle": false,
     "tableResultSettingsMap": {},
     "title": ""
    }
   },
   "outputs": [],
   "source": [
    "spark.sql(f\"\"\"\n",
    "CREATE OR REPLACE TABLE {catalog_name}.{schema_silver}.envios_base(\n",
    "  id_envio string,\n",
    "  id_linea integer,\n",
    "  id_cliente integer,\n",
    "  id_sucursal integer,\n",
    "  id_ruta integer,\n",
    "  fecha_envio  date,\n",
    "  estado string,\n",
    "  peso_kg double,\n",
    "  costo_envio double,\n",
    "  updated_at timestamp\n",
    ")\n",
    "\"\"\"\n",
    ")"
   ]
  },
  {
   "cell_type": "code",
   "execution_count": 0,
   "metadata": {
    "application/vnd.databricks.v1+cell": {
     "cellMetadata": {
      "byteLimit": 2048000,
      "rowLimit": 10000
     },
     "collapsed": true,
     "inputWidgets": {},
     "nuid": "adac9525-503d-41dc-9923-300e2fee2d77",
     "showTitle": false,
     "tableResultSettingsMap": {},
     "title": ""
    }
   },
   "outputs": [],
   "source": [
    "spark.sql(f\"\"\"\n",
    "CREATE OR REPLACE TABLE {catalog_name}.{schema_silver}.envios_incremento(\n",
    "  id_envio string,\n",
    "  id_linea integer,\n",
    "  id_cliente integer,\n",
    "  id_sucursal integer,\n",
    "  id_ruta integer,\n",
    "  fecha_envio  date,\n",
    "  estado string,\n",
    "  peso_kg double,\n",
    "  costo_envio double,\n",
    "  updated_at timestamp\n",
    ")\n",
    "\"\"\"\n",
    ")"
   ]
  },
  {
   "cell_type": "code",
   "execution_count": 0,
   "metadata": {
    "application/vnd.databricks.v1+cell": {
     "cellMetadata": {
      "byteLimit": 2048000,
      "rowLimit": 10000
     },
     "collapsed": true,
     "inputWidgets": {},
     "nuid": "1436dff3-24df-461a-9eca-d369e20e360c",
     "showTitle": false,
     "tableResultSettingsMap": {},
     "title": ""
    }
   },
   "outputs": [],
   "source": [
    "spark.sql(f\"\"\"\n",
    "CREATE OR REPLACE TABLE {catalog_name}.{schema_silver}.envios_incremento_dedup(\n",
    "  id_envio string,\n",
    "  id_linea integer,\n",
    "  id_cliente integer,\n",
    "  id_sucursal integer,\n",
    "  id_ruta integer,\n",
    "  fecha_envio  date,\n",
    "  estado string,\n",
    "  peso_kg double,\n",
    "  costo_envio double,\n",
    "  updated_at timestamp\n",
    ")\n",
    "\"\"\"\n",
    ")"
   ]
  },
  {
   "cell_type": "code",
   "execution_count": 0,
   "metadata": {
    "application/vnd.databricks.v1+cell": {
     "cellMetadata": {
      "byteLimit": 2048000,
      "rowLimit": 10000
     },
     "collapsed": true,
     "inputWidgets": {},
     "nuid": "143daf69-5cd8-4a50-85a9-9890c77a4cd7",
     "showTitle": false,
     "tableResultSettingsMap": {},
     "title": ""
    }
   },
   "outputs": [],
   "source": [
    "spark.sql(f\"\"\"\n",
    "CREATE OR REPLACE TABLE {catalog_name}.{schema_silver}.rutas(\n",
    "  id_ruta integer,\n",
    "  origen string,\n",
    "  destino string,\n",
    "  distancia_km  integer,\n",
    "  tiempo_estimado_horas double\n",
    ")\n",
    "\"\"\"\n",
    ")"
   ]
  },
  {
   "cell_type": "code",
   "execution_count": 0,
   "metadata": {
    "application/vnd.databricks.v1+cell": {
     "cellMetadata": {
      "byteLimit": 2048000,
      "rowLimit": 10000
     },
     "collapsed": true,
     "inputWidgets": {},
     "nuid": "f8a26c3b-20ca-4e50-b563-f03be4aa5120",
     "showTitle": false,
     "tableResultSettingsMap": {},
     "title": ""
    }
   },
   "outputs": [],
   "source": [
    "spark.sql(f\"\"\"\n",
    "CREATE OR REPLACE TABLE {catalog_name}.{schema_silver}.sucursales(\n",
    "  id_sucursal integer,\n",
    "  ciudad string,\n",
    "  distrito  string,\n",
    "  region string,\n",
    "  tipo string,\n",
    "  fecha_apertura date\n",
    ")\n",
    "\"\"\"\n",
    ")"
   ]
  },
  {
   "cell_type": "markdown",
   "metadata": {
    "application/vnd.databricks.v1+cell": {
     "cellMetadata": {},
     "inputWidgets": {},
     "nuid": "e2a0c72c-a455-46da-ac00-d1c7f494f02a",
     "showTitle": false,
     "tableResultSettingsMap": {},
     "title": ""
    }
   },
   "source": [
    "#### 2. Ingestamos la data a Bronze"
   ]
  },
  {
   "cell_type": "code",
   "execution_count": 0,
   "metadata": {
    "application/vnd.databricks.v1+cell": {
     "cellMetadata": {
      "byteLimit": 2048000,
      "rowLimit": 10000
     },
     "inputWidgets": {},
     "nuid": "533ef575-8a73-4669-be33-b27a97cd46ab",
     "showTitle": false,
     "tableResultSettingsMap": {},
     "title": ""
    }
   },
   "outputs": [],
   "source": [
    "path_base = \"/Volumes/tallerevaluado03/default/input/\"\n",
    "\n",
    "path_clientes = f\"{path_base}/clientes.csv\"\n",
    "path_envios_base = f\"{path_base}/envios_base.csv\"\n",
    "path_envios_incremento = f\"{path_base}/envios_incremento.csv\"\n",
    "path_rutas = f\"{path_base}/rutas.csv\"\n",
    "path_sucursales = f\"{path_base}/sucursales.csv\""
   ]
  },
  {
   "cell_type": "code",
   "execution_count": 0,
   "metadata": {
    "application/vnd.databricks.v1+cell": {
     "cellMetadata": {
      "byteLimit": 2048000,
      "rowLimit": 10000
     },
     "inputWidgets": {},
     "nuid": "7beef2fe-7306-4b35-bd4d-95beeb7a3098",
     "showTitle": false,
     "tableResultSettingsMap": {},
     "title": ""
    }
   },
   "outputs": [],
   "source": [
    "clientes_raw = spark.read.option(\"header\", True).csv(path_clientes).withColumn(\"ingest_at\", current_timestamp())\n",
    "envios_base_raw = spark.read.option(\"header\", True).csv(path_envios_base).withColumn(\"ingest_at\", current_timestamp())\n",
    "envios_incremento_raw = spark.read.option(\"header\", True).csv(path_envios_incremento).withColumn(\"ingest_at\", current_timestamp())\n",
    "rutas_raw = spark.read.option(\"header\", True).csv(path_rutas).withColumn(\"ingest_at\", current_timestamp())\n",
    "sucursales_raw = spark.read.option(\"header\", True).csv(path_sucursales).withColumn(\"ingest_at\", current_timestamp())"
   ]
  },
  {
   "cell_type": "code",
   "execution_count": 0,
   "metadata": {
    "application/vnd.databricks.v1+cell": {
     "cellMetadata": {
      "byteLimit": 2048000,
      "rowLimit": 10000
     },
     "inputWidgets": {},
     "nuid": "dd2af4c6-8b1b-465b-9eee-8b9d34b7ac44",
     "showTitle": false,
     "tableResultSettingsMap": {},
     "title": ""
    }
   },
   "outputs": [],
   "source": [
    "clientes_raw.write.format(\"delta\").mode(\"overwrite\").saveAsTable(f\"{catalog_name}.{schema_bronze}.clientes_raw\")\n",
    "envios_base_raw.write.format(\"delta\").mode(\"overwrite\").saveAsTable(f\"{catalog_name}.{schema_bronze}.envios_base_raw\")\n",
    "envios_incremento_raw.write.format(\"delta\").mode(\"overwrite\").saveAsTable(f\"{catalog_name}.{schema_bronze}.envios_incremento_raw\")\n",
    "rutas_raw.write.format(\"delta\").mode(\"overwrite\").saveAsTable(f\"{catalog_name}.{schema_bronze}.rutas_raw\")\n",
    "sucursales_raw.write.format(\"delta\").mode(\"overwrite\").saveAsTable(f\"{catalog_name}.{schema_bronze}.sucursales_raw\")"
   ]
  },
  {
   "cell_type": "code",
   "execution_count": 0,
   "metadata": {
    "application/vnd.databricks.v1+cell": {
     "cellMetadata": {
      "byteLimit": 2048000,
      "rowLimit": 10000
     },
     "collapsed": true,
     "inputWidgets": {},
     "nuid": "7542f0a0-68e0-47ff-a93a-27b891d581e8",
     "showTitle": false,
     "tableResultSettingsMap": {},
     "title": ""
    }
   },
   "outputs": [],
   "source": [
    "display(spark.table(f\"{catalog_name}.{schema_bronze}.clientes_raw\"))\n",
    "display(spark.table(f\"{catalog_name}.{schema_bronze}.envios_base_raw\")) \n",
    "display(spark.table(f\"{catalog_name}.{schema_bronze}.envios_incremento_raw\")) \n",
    "display(spark.table(f\"{catalog_name}.{schema_bronze}.rutas_raw\")) \n",
    "display(spark.table(f\"{catalog_name}.{schema_bronze}.sucursales_raw\"))"
   ]
  },
  {
   "cell_type": "code",
   "execution_count": 0,
   "metadata": {
    "application/vnd.databricks.v1+cell": {
     "cellMetadata": {
      "byteLimit": 2048000,
      "implicitDf": true,
      "rowLimit": 10000
     },
     "collapsed": true,
     "inputWidgets": {},
     "nuid": "579211d9-c5b2-4d6e-9eb1-a5d7b45c5e95",
     "showTitle": false,
     "tableResultSettingsMap": {},
     "title": ""
    }
   },
   "outputs": [],
   "source": [
    "%sql\n",
    "select * from tallerevaluado03.bronze.clientes_raw"
   ]
  },
  {
   "cell_type": "code",
   "execution_count": 0,
   "metadata": {
    "application/vnd.databricks.v1+cell": {
     "cellMetadata": {
      "byteLimit": 2048000,
      "implicitDf": true,
      "rowLimit": 10000
     },
     "collapsed": true,
     "inputWidgets": {},
     "nuid": "c8c06f72-3a6a-49df-811f-39deb80b2584",
     "showTitle": false,
     "tableResultSettingsMap": {},
     "title": ""
    }
   },
   "outputs": [],
   "source": [
    "%sql select * from tallerevaluado03.bronze.envios_base_raw "
   ]
  },
  {
   "cell_type": "code",
   "execution_count": 0,
   "metadata": {
    "application/vnd.databricks.v1+cell": {
     "cellMetadata": {
      "byteLimit": 2048000,
      "implicitDf": true,
      "rowLimit": 10000
     },
     "collapsed": true,
     "inputWidgets": {},
     "nuid": "be739ae2-750b-4b08-baf8-bac864049e26",
     "showTitle": false,
     "tableResultSettingsMap": {},
     "title": ""
    }
   },
   "outputs": [],
   "source": [
    "%sql select * from tallerevaluado03.bronze.envios_incremento_raw "
   ]
  },
  {
   "cell_type": "code",
   "execution_count": 0,
   "metadata": {
    "application/vnd.databricks.v1+cell": {
     "cellMetadata": {
      "byteLimit": 2048000,
      "implicitDf": true,
      "rowLimit": 10000
     },
     "collapsed": true,
     "inputWidgets": {},
     "nuid": "56d97565-7654-455a-9c8b-b3bebd606160",
     "showTitle": false,
     "tableResultSettingsMap": {},
     "title": ""
    }
   },
   "outputs": [],
   "source": [
    "%sql select * from tallerevaluado03.bronze.rutas_raw "
   ]
  },
  {
   "cell_type": "code",
   "execution_count": 0,
   "metadata": {
    "application/vnd.databricks.v1+cell": {
     "cellMetadata": {
      "byteLimit": 2048000,
      "implicitDf": true,
      "rowLimit": 10000
     },
     "collapsed": true,
     "inputWidgets": {},
     "nuid": "dfe91fc0-3b46-45ac-94ca-1f1390573d6c",
     "showTitle": false,
     "tableResultSettingsMap": {},
     "title": ""
    }
   },
   "outputs": [],
   "source": [
    "%sql select * from tallerevaluado03.bronze.sucursales_raw "
   ]
  },
  {
   "cell_type": "markdown",
   "metadata": {
    "application/vnd.databricks.v1+cell": {
     "cellMetadata": {},
     "inputWidgets": {},
     "nuid": "c12efba9-70a2-4f7e-b901-6735ffed7ca1",
     "showTitle": false,
     "tableResultSettingsMap": {},
     "title": ""
    }
   },
   "source": [
    "## Silver"
   ]
  },
  {
   "cell_type": "markdown",
   "metadata": {
    "application/vnd.databricks.v1+cell": {
     "cellMetadata": {},
     "inputWidgets": {},
     "nuid": "47408537-53b8-48d4-a784-18e3c503d9a1",
     "showTitle": false,
     "tableResultSettingsMap": {},
     "title": ""
    }
   },
   "source": [
    "#### 3. Limpieza, transformaciones y deduplicación."
   ]
  },
  {
   "cell_type": "code",
   "execution_count": 0,
   "metadata": {
    "application/vnd.databricks.v1+cell": {
     "cellMetadata": {
      "byteLimit": 2048000,
      "rowLimit": 10000
     },
     "inputWidgets": {},
     "nuid": "c7350c0d-ea58-450d-ae00-998bec5e837a",
     "showTitle": false,
     "tableResultSettingsMap": {},
     "title": ""
    }
   },
   "outputs": [],
   "source": [
    "silver_clientes = (\n",
    "  clientes_raw\n",
    "  clientes_raw.write.format(\"delta\").mode(\"overwrite\").saveAsTable(f\"{catalog_name}.{schema_bronze}.clientes_raw\")\n",
    "  .withColumn(\"id_cliente\", col(\"id_cliente\").cast(\"int\"))\n",
    "  .withColumn(\"nombre\", initcap(trim(col(\"nombre\"))).cast(\"string\"))\n",
    "  .withColumn(\"apellido\", initcap(trim(col(\"apellido\"))).cast(\"string\"))\n",
    "  .withColumn(\"email\", trim(col(\"email\")).cast(\"string\"))\n",
    "  .withColumn(\"segmento\", trim(col(\"segmento\")).cast(\"string\"))\n",
    "  .withColumn(\"fecha_registro\", to_date(col(\"fecha_registro\")))\n",
    "  .dropna(subset=[\"id_cliente\"])\n",
    "  .dropDuplicates([\"id_cliente\"])\n",
    "  .drop(\"ingest_at\")\n",
    ")"
   ]
  },
  {
   "cell_type": "code",
   "execution_count": 0,
   "metadata": {
    "application/vnd.databricks.v1+cell": {
     "cellMetadata": {
      "byteLimit": 2048000,
      "rowLimit": 10000
     },
     "collapsed": true,
     "inputWidgets": {},
     "nuid": "115140b8-6889-4d9c-ad2c-79a32945004b",
     "showTitle": false,
     "tableResultSettingsMap": {},
     "title": ""
    }
   },
   "outputs": [],
   "source": [
    "silver_envios_base = (\n",
    "  envios_base_raw\n",
    "  .withColumn(\"id_envio\", col(\"id_envio\").cast(\"string\"))\n",
    "  .withColumn(\"id_linea\", col(\"id_linea\").cast(\"int\"))\n",
    "  .withColumn(\"id_cliente\", col(\"id_cliente\").cast(\"int\"))\n",
    "  .withColumn(\"id_sucursal\", col(\"id_sucursal\").cast(\"int\"))\n",
    "  .withColumn(\"id_ruta\", col(\"id_ruta\").cast(\"int\"))\n",
    "  .withColumn(\"fecha_envio\", to_date(col(\"fecha_envio\")))\n",
    "  .withColumn(\"estado\", trim(col(\"estado\")).cast(\"string\"))\n",
    "  .withColumn(\"peso_kg\", col(\"peso_kg\").cast(\"double\"))\n",
    "  .withColumn(\"costo_envio\", col(\"costo_envio\").cast(\"double\"))\n",
    "  .withColumn(\"updated_at\", to_timestamp(col(\"updated_at\")))\n",
    "  .dropna(subset=[\"id_envio\"])\n",
    "  .dropDuplicates([\"id_envio\"])\n",
    "  .drop(\"ingest_at\")\n",
    ")"
   ]
  },
  {
   "cell_type": "code",
   "execution_count": 0,
   "metadata": {
    "application/vnd.databricks.v1+cell": {
     "cellMetadata": {
      "byteLimit": 2048000,
      "rowLimit": 10000
     },
     "collapsed": true,
     "inputWidgets": {},
     "nuid": "db01b212-1daf-4946-809f-3b7cde958dd4",
     "showTitle": false,
     "tableResultSettingsMap": {},
     "title": ""
    }
   },
   "outputs": [],
   "source": [
    "silver_envios_incremento = (\n",
    "  envios_incremento_raw\n",
    "  .withColumn(\"id_envio\", col(\"id_envio\").cast(\"string\"))\n",
    "  .withColumn(\"id_linea\", col(\"id_linea\").cast(\"int\"))\n",
    "  .withColumn(\"id_cliente\", col(\"id_cliente\").cast(\"int\"))\n",
    "  .withColumn(\"id_sucursal\", col(\"id_sucursal\").cast(\"int\"))\n",
    "  .withColumn(\"id_ruta\", col(\"id_ruta\").cast(\"int\"))\n",
    "  .withColumn(\"fecha_envio\", to_date(col(\"fecha_envio\")))\n",
    "  .withColumn(\"estado\", trim(col(\"estado\")).cast(\"string\"))\n",
    "  .withColumn(\"peso_kg\", col(\"peso_kg\").cast(\"double\"))\n",
    "  .withColumn(\"costo_envio\", col(\"costo_envio\").cast(\"double\"))\n",
    "  .withColumn(\"updated_at\", to_timestamp(col(\"updated_at\")))\n",
    "  .dropna(subset=[\"id_envio\"])\n",
    "  .dropDuplicates([\"id_envio\"])\n",
    "  .drop(\"ingest_at\")\n",
    ")"
   ]
  },
  {
   "cell_type": "code",
   "execution_count": 0,
   "metadata": {
    "application/vnd.databricks.v1+cell": {
     "cellMetadata": {
      "byteLimit": 2048000,
      "rowLimit": 10000
     },
     "inputWidgets": {},
     "nuid": "3aa6030e-aef6-4743-a805-8df1cea866a7",
     "showTitle": false,
     "tableResultSettingsMap": {},
     "title": ""
    }
   },
   "outputs": [],
   "source": [
    "silver_envios_incremento_dedup = (\n",
    "  silver_envios_incremento\n",
    "  .withColumn(\"id_envio\", col(\"id_envio\").cast(\"string\"))\n",
    "  .withColumn(\"id_linea\", col(\"id_linea\").cast(\"int\"))\n",
    "  .withColumn(\"id_cliente\", col(\"id_cliente\").cast(\"int\"))\n",
    "  .withColumn(\"id_sucursal\", col(\"id_sucursal\").cast(\"int\"))\n",
    "  .withColumn(\"id_ruta\", col(\"id_ruta\").cast(\"int\"))\n",
    "  .withColumn(\"fecha_envio\", to_date(col(\"fecha_envio\")))\n",
    "  .withColumn(\"anio\", year(col(\"fecha_envio\")))\n",
    "  .withColumn(\"mes\", month(col(\"fecha_envio\")))\n",
    "  .withColumn(\"estado\", trim(col(\"estado\")).cast(\"string\"))\n",
    "  .withColumn(\"peso_kg\", col(\"peso_kg\").cast(\"double\"))\n",
    "  .withColumn(\"costo_envio\", col(\"costo_envio\").cast(\"double\"))\n",
    "  .withColumn(\"updated_at\", to_timestamp(col(\"updated_at\")))\n",
    ")"
   ]
  },
  {
   "cell_type": "code",
   "execution_count": 0,
   "metadata": {
    "application/vnd.databricks.v1+cell": {
     "cellMetadata": {
      "byteLimit": 2048000,
      "rowLimit": 10000
     },
     "collapsed": true,
     "inputWidgets": {},
     "nuid": "6398ceba-a9ea-4989-a989-a3a5388b1745",
     "showTitle": false,
     "tableResultSettingsMap": {},
     "title": ""
    }
   },
   "outputs": [],
   "source": [
    "silver_rutas = (\n",
    "  rutas_raw\n",
    "  .withColumn(\"id_ruta\", col(\"id_ruta\").cast(\"int\"))\n",
    "  .withColumn(\"origen\", initcap(trim(col(\"origen\"))).cast(\"string\"))\n",
    "  .withColumn(\"destino\", initcap(trim(col(\"destino\"))).cast(\"string\"))\n",
    "  .withColumn(\"distancia_km\", col(\"distancia_km\").cast(\"int\"))\n",
    "  .withColumn(\"tiempo_estimado_horas\", col(\"tiempo_estimado_horas\").cast(\"double\"))\n",
    "  .dropna(subset=[\"id_ruta\"])\n",
    "  .dropDuplicates([\"id_ruta\"])\n",
    "  .drop(\"ingest_at\")\n",
    ")"
   ]
  },
  {
   "cell_type": "code",
   "execution_count": 0,
   "metadata": {
    "application/vnd.databricks.v1+cell": {
     "cellMetadata": {
      "byteLimit": 2048000,
      "rowLimit": 10000
     },
     "collapsed": true,
     "inputWidgets": {},
     "nuid": "092fbdc4-5188-433d-ae07-6b11866a3c78",
     "showTitle": false,
     "tableResultSettingsMap": {},
     "title": ""
    }
   },
   "outputs": [],
   "source": [
    "silver_sucursales = (\n",
    "  sucursales_raw\n",
    "  .withColumn(\"id_sucursal\", col(\"id_sucursal\").cast(\"int\"))\n",
    "  .withColumn(\"ciudad\", initcap(trim(col(\"ciudad\"))).cast(\"string\"))\n",
    "  .withColumn(\"distrito\", initcap(trim(col(\"distrito\"))).cast(\"string\"))\n",
    "  .withColumn(\"region\", initcap(trim(col(\"region\"))).cast(\"string\"))\n",
    "  .withColumn(\"tipo\", initcap(trim(col(\"tipo\"))).cast(\"string\"))\n",
    "  .withColumn(\"fecha_apertura\", to_date(col(\"fecha_apertura\")))\n",
    "  .dropna(subset=[\"id_sucursal\"])\n",
    "  .dropDuplicates([\"id_sucursal\"])\n",
    "  .drop(\"ingest_at\")\n",
    ")"
   ]
  },
  {
   "cell_type": "code",
   "execution_count": 0,
   "metadata": {
    "application/vnd.databricks.v1+cell": {
     "cellMetadata": {
      "byteLimit": 2048000,
      "rowLimit": 10000
     },
     "collapsed": true,
     "inputWidgets": {},
     "nuid": "428067fa-2364-474d-8aee-a2379cf57e12",
     "showTitle": false,
     "tableResultSettingsMap": {},
     "title": ""
    }
   },
   "outputs": [],
   "source": [
    "display(silver_clientes)\n",
    "display(silver_envios_base)\n",
    "display(silver_envios_incremento)\n",
    "display(silver_envios_incremento_dedup)\n",
    "display(silver_rutas)\n",
    "display(silver_sucursales)"
   ]
  },
  {
   "cell_type": "markdown",
   "metadata": {
    "application/vnd.databricks.v1+cell": {
     "cellMetadata": {},
     "inputWidgets": {},
     "nuid": "2e34ca09-0f33-4cba-8bc8-fe4a8f654bbe",
     "showTitle": false,
     "tableResultSettingsMap": {},
     "title": ""
    }
   },
   "source": [
    "#### Aplicando Dedup, Merge y Ranking"
   ]
  },
  {
   "cell_type": "code",
   "execution_count": 0,
   "metadata": {
    "application/vnd.databricks.v1+cell": {
     "cellMetadata": {
      "byteLimit": 2048000,
      "rowLimit": 10000
     },
     "inputWidgets": {},
     "nuid": "2ae98297-db32-454b-991c-198bd396c791",
     "showTitle": false,
     "tableResultSettingsMap": {},
     "title": ""
    }
   },
   "outputs": [],
   "source": [
    "windows_dedup = Window.partitionBy(\"id_envio\", \"id_linea\").orderBy(col(\"updated_at\").desc())\n",
    "\n",
    "silver_envios_incremento_dedup = (\n",
    "    silver_envios_incremento\n",
    "    .withColumn(\"dedup\", row_number().over(windows_dedup))\n",
    "    .filter(col(\"dedup\") == 1)\n",
    "    .drop(\"dedup\")\n",
    ")"
   ]
  },
  {
   "cell_type": "code",
   "execution_count": 0,
   "metadata": {
    "application/vnd.databricks.v1+cell": {
     "cellMetadata": {
      "byteLimit": 2048000,
      "rowLimit": 10000
     },
     "inputWidgets": {},
     "nuid": "7ba84dca-4d4a-4e65-9887-af3dd04fb6b7",
     "showTitle": false,
     "tableResultSettingsMap": {},
     "title": ""
    }
   },
   "outputs": [],
   "source": [
    "target = DeltaTable.forName(spark, f\"{catalog_name}.{schema_silver}.envios_base\")\n",
    "\n",
    "merge = (\n",
    "    target.alias(\"m\")\n",
    "    .merge(\n",
    "        silver_envios_incremento_dedup.alias(\"in\"),\n",
    "        (col(\"m.id_envio\") == col(\"in.id_envio\")) &\n",
    "        (col(\"m.id_linea\") == col(\"in.id_linea\"))\n",
    "    )\n",
    "    .whenMatchedUpdate(\n",
    "        condition= \"in.updated_at > m.updated_at\",\n",
    "        set = {\n",
    "            \"id_cliente\": col(\"in.id_cliente\"),\n",
    "            \"id_sucursal\": col(\"in.id_sucursal\"),\n",
    "            \"id_ruta\": col(\"in.id_ruta\"),\n",
    "            \"fecha_envio\": col(\"in.fecha_envio\"),\n",
    "            \"estado\": col(\"in.estado\"),\n",
    "            \"peso_kg\": col(\"in.peso_kg\"),\n",
    "            \"costo_envio\": col(\"in.costo_envio\"),\n",
    "            \"updated_at\": col(\"in.updated_at\")\n",
    "        }\n",
    "    )\n",
    "    .whenNotMatchedInsert(\n",
    "        values = {\n",
    "            \"id_envio\": col(\"in.id_envio\"),\n",
    "            \"id_linea\": col(\"in.id_linea\"),\n",
    "            \"id_cliente\": col(\"in.id_cliente\"),\n",
    "            \"id_sucursal\": col(\"in.id_sucursal\"),\n",
    "            \"id_ruta\": col(\"in.id_ruta\"),\n",
    "            \"fecha_envio\": col(\"in.fecha_envio\"),\n",
    "            \"estado\": col(\"in.estado\"),\n",
    "            \"peso_kg\": col(\"in.peso_kg\"),\n",
    "            \"costo_envio\": col(\"in.costo_envio\"),\n",
    "            \"updated_at\": col(\"in.updated_at\")\n",
    "        }\n",
    "    )\n",
    "    .execute()\n",
    ")"
   ]
  },
  {
   "cell_type": "markdown",
   "metadata": {
    "application/vnd.databricks.v1+cell": {
     "cellMetadata": {},
     "inputWidgets": {},
     "nuid": "f6cf9a0d-6aca-4b9b-a99c-daf08e9b16d4",
     "showTitle": false,
     "tableResultSettingsMap": {},
     "title": ""
    }
   },
   "source": [
    "Ranking de clientes por número total de envíos."
   ]
  },
  {
   "cell_type": "code",
   "execution_count": 0,
   "metadata": {
    "application/vnd.databricks.v1+cell": {
     "cellMetadata": {
      "byteLimit": 2048000,
      "rowLimit": 10000
     },
     "inputWidgets": {},
     "nuid": "8981622f-4db4-46a3-a705-19779e4bf33d",
     "showTitle": false,
     "tableResultSettingsMap": {},
     "title": ""
    }
   },
   "outputs": [],
   "source": [
    "df_cliente_envio = (\n",
    "  silver_envios_incremento_dedup\n",
    "  .groupBy(\"id_cliente\")\n",
    "  .agg(count(\"*\").alias(\"total_envios\"))\n",
    ") "
   ]
  },
  {
   "cell_type": "code",
   "execution_count": 0,
   "metadata": {
    "application/vnd.databricks.v1+cell": {
     "cellMetadata": {
      "byteLimit": 2048000,
      "rowLimit": 10000
     },
     "inputWidgets": {},
     "nuid": "10ec32f4-9539-4422-92d2-717126cb595a",
     "showTitle": false,
     "tableResultSettingsMap": {},
     "title": ""
    }
   },
   "outputs": [],
   "source": [
    "window_rank = Window.orderBy(col(\"total_envios\").desc())\n",
    "df_ranking_envio = (\n",
    "    df_clientes_envios\n",
    "    .withColumn(\"ranking\", rank().over(window_rank))\n",
    "    .filter(col(\"ranking\") <= 5)\n",
    ")\n",
    "display(df_ranking_envio)"
   ]
  },
  {
   "cell_type": "markdown",
   "metadata": {
    "application/vnd.databricks.v1+cell": {
     "cellMetadata": {},
     "inputWidgets": {},
     "nuid": "8ee3cc76-8e70-4393-9510-385b872dabac",
     "showTitle": false,
     "tableResultSettingsMap": {},
     "title": ""
    }
   },
   "source": [
    "Peso acumulado de envíos por cliente"
   ]
  },
  {
   "cell_type": "code",
   "execution_count": 0,
   "metadata": {
    "application/vnd.databricks.v1+cell": {
     "cellMetadata": {
      "byteLimit": 2048000,
      "rowLimit": 10000
     },
     "inputWidgets": {},
     "nuid": "6aaa6126-3949-419f-a03d-75c295eb1164",
     "showTitle": false,
     "tableResultSettingsMap": {},
     "title": ""
    }
   },
   "outputs": [],
   "source": [
    "costo_promedio = (\n",
    "    silver_envios_incremento_dedup\n",
    "    .withColumn(\"mes\", trunc(col(\"fecha_envio\"), \"month\"))\n",
    "    .groupBy(\"id_sucursal\", \"mes\")\n",
    "    .agg(round(avg(\"costo_envio\"),2).alias(\"costo_promedio\"))\n",
    ")\n",
    "\n",
    "windows_lag = Window.partitionBy(\"id_sucursal\").orderBy(col(\"mes\"))\n",
    "\n",
    "\n",
    "df_variacion_costo_sucursal = (\n",
    "    costo_promedio\n",
    "    .withColumn(\"costo_mes_anterior\", lag(\"costo_promedio\").over(windows_lag))\n",
    "    .withColumn(\"variacion\", round(col(\"costo_promedio\") - col(\"costo_mes_anterior\"),2))\n",
    ")"
   ]
  },
  {
   "cell_type": "markdown",
   "metadata": {
    "application/vnd.databricks.v1+cell": {
     "cellMetadata": {},
     "inputWidgets": {},
     "nuid": "32789f51-7681-4373-8583-73ffb26abc2c",
     "showTitle": false,
     "tableResultSettingsMap": {},
     "title": ""
    }
   },
   "source": [
    "Variación de costo promedio de envíos por sucursal entre meses consecutivos."
   ]
  },
  {
   "cell_type": "code",
   "execution_count": 0,
   "metadata": {
    "application/vnd.databricks.v1+cell": {
     "cellMetadata": {
      "byteLimit": 2048000,
      "rowLimit": 10000
     },
     "inputWidgets": {},
     "nuid": "7a5cf9fd-8c7d-4265-80c9-d431eb317aec",
     "showTitle": false,
     "tableResultSettingsMap": {},
     "title": ""
    }
   },
   "outputs": [],
   "source": [
    "df_peso_acumulado_envio = (\n",
    "  silver_envios_incremento_dedup\n",
    "  .groupBy(\"id_cliente\")\n",
    "  .agg(round(sum(\"peso_kg\"),2).alias(\"peso_acumulado\"))\n",
    "  .orderBy(col(\"peso_acumulado\").desc())\n",
    ") "
   ]
  },
  {
   "cell_type": "code",
   "execution_count": 0,
   "metadata": {
    "application/vnd.databricks.v1+cell": {
     "cellMetadata": {
      "byteLimit": 2048000,
      "rowLimit": 10000
     },
     "inputWidgets": {},
     "nuid": "b4ab98a1-8bf4-4dad-beb7-4db5baba1bb2",
     "showTitle": false,
     "tableResultSettingsMap": {},
     "title": ""
    }
   },
   "outputs": [],
   "source": [
    "silver_clientes.write.format(\"delta\").mode(\"overwrite\").saveAsTable(f\"{catalog_name}.{schema_silver}.clientes\")\n",
    "silver_envios_base.write.format(\"delta\").mode(\"overwrite\").saveAsTable(f\"{catalog_name}.{schema_silver}.envios_base\")\n",
    "silver_envios_incremento.write.format(\"delta\").mode(\"overwrite\").saveAsTable(f\"{catalog_name}.{schema_silver}.envios_incremento\")\n",
    "silver_envios_incremento_dedup.write.format(\"delta\").mode(\"overwrite\").option(\"mergeSchema\", \"true\").saveAsTable(f\"{catalog_name}.{schema_silver}.envios_incremento_dedup\")\n",
    "silver_rutas.write.format(\"delta\").mode(\"overwrite\").saveAsTable(f\"{catalog_name}.{schema_silver}.rutas\")\n",
    "silver_sucursales.write.format(\"delta\").mode(\"overwrite\").saveAsTable(f\"{catalog_name}.{schema_silver}.sucursales\")\n",
    "\n",
    "df_ranking_envio.write.format(\"delta\").mode(\"overwrite\").saveAsTable(f\"{catalog_name}.{schema_silver}.ranking_envio\")\n",
    "df_variacion_costo_sucursal.write.format(\"delta\").mode(\"overwrite\").saveAsTable(f\"{catalog_name}.{schema_silver}.variacion_costo_sucursal\")\n",
    "df_peso_acumulado_envio.write.format(\"delta\").mode(\"overwrite\").saveAsTable(f\"{catalog_name}.{schema_silver}.peso_acumulado_envio\")\n"
   ]
  },
  {
   "cell_type": "markdown",
   "metadata": {
    "application/vnd.databricks.v1+cell": {
     "cellMetadata": {},
     "inputWidgets": {},
     "nuid": "231ccf84-8bbb-4b64-b990-109ab24f1346",
     "showTitle": false,
     "tableResultSettingsMap": {},
     "title": ""
    }
   },
   "source": [
    "\n",
    "## Gold"
   ]
  },
  {
   "cell_type": "markdown",
   "metadata": {
    "application/vnd.databricks.v1+cell": {
     "cellMetadata": {},
     "inputWidgets": {},
     "nuid": "175cf761-e315-4a1a-b250-bd96ea207641",
     "showTitle": false,
     "tableResultSettingsMap": {},
     "title": ""
    }
   },
   "source": [
    "Diseño Dimensional"
   ]
  },
  {
   "cell_type": "code",
   "execution_count": 0,
   "metadata": {
    "application/vnd.databricks.v1+cell": {
     "cellMetadata": {
      "byteLimit": 2048000,
      "rowLimit": 10000
     },
     "inputWidgets": {},
     "nuid": "6aa9064b-f501-48a6-a5b8-0d554bde231d",
     "showTitle": false,
     "tableResultSettingsMap": {},
     "title": ""
    }
   },
   "outputs": [],
   "source": [
    "dim_cliente = (\n",
    "    spark.table(f\"{catalog_name}.{schema_silver}.clientes\")\n",
    "    #.dropDuplicates([\"id_clientes\"])\n",
    ")\n",
    "display(dim_cliente)"
   ]
  },
  {
   "cell_type": "code",
   "execution_count": 0,
   "metadata": {
    "application/vnd.databricks.v1+cell": {
     "cellMetadata": {
      "byteLimit": 2048000,
      "rowLimit": 10000
     },
     "inputWidgets": {},
     "nuid": "aed37541-ec74-4e95-9ba6-93eae54d217c",
     "showTitle": false,
     "tableResultSettingsMap": {},
     "title": ""
    }
   },
   "outputs": [],
   "source": [
    "dim_sucursal = (\n",
    "    spark.table(f\"{catalog_name}.{schema_silver}.sucursales\")\n",
    "    #.dropDuplicates([\"id_sucursales\"])\n",
    ")\n",
    "display(dim_sucursal)"
   ]
  },
  {
   "cell_type": "code",
   "execution_count": 0,
   "metadata": {
    "application/vnd.databricks.v1+cell": {
     "cellMetadata": {
      "byteLimit": 2048000,
      "rowLimit": 10000
     },
     "collapsed": true,
     "inputWidgets": {},
     "nuid": "6a6156f4-bb9e-4521-a1c1-2f02af6fe482",
     "showTitle": false,
     "tableResultSettingsMap": {},
     "title": ""
    }
   },
   "outputs": [],
   "source": [
    "dim_ruta = (\n",
    "    spark.table(f\"{catalog_name}.{schema_silver}.rutas\")\n",
    "    #.dropDuplicates([\"id_rutas\"]) = (\n",
    ")\n",
    "display(dim_ruta)"
   ]
  },
  {
   "cell_type": "code",
   "execution_count": 0,
   "metadata": {
    "application/vnd.databricks.v1+cell": {
     "cellMetadata": {
      "byteLimit": 2048000,
      "rowLimit": 10000
     },
     "collapsed": true,
     "inputWidgets": {},
     "nuid": "395f02a6-fa86-4583-9332-6b78da8ea4da",
     "showTitle": false,
     "tableResultSettingsMap": {},
     "title": ""
    }
   },
   "outputs": [],
   "source": [
    "dim_tiempo = (\n",
    "    silver_envios_base.select(col(\"fecha_envio\").alias(\"fecha\"))\n",
    "    .dropna().distinct()\n",
    "    .withColumn(\"anio\", year(col(\"fecha\")))\n",
    "    .withColumn(\"mes\", month(col(\"fecha\")))\n",
    "    .withColumn(\"dia\", dayofmonth(col(\"fecha\")))\n",
    "    .withColumn(\"semestre\", concat_ws(\"-\", col(\"anio\"), when(col(\"mes\") <= 7, lit(\"01\")).otherwise(lit(\"02\"))))\n",
    "    .withColumn(\"id_tiempo\", (col(\"anio\") * 10000 + col(\"mes\") * 100 + col(\"dia\")).cast(\"int\"))\n",
    ")\n",
    "display(dim_tiempo)"
   ]
  },
  {
   "cell_type": "code",
   "execution_count": 0,
   "metadata": {
    "application/vnd.databricks.v1+cell": {
     "cellMetadata": {
      "byteLimit": 2048000,
      "rowLimit": 10000
     },
     "collapsed": true,
     "inputWidgets": {},
     "nuid": "bcc5abd9-2e13-4924-88f2-ca740a7e9199",
     "showTitle": false,
     "tableResultSettingsMap": {},
     "title": ""
    }
   },
   "outputs": [],
   "source": [
    "dim_region = (\n",
    "    silver_envios_base.join(dim_sucursal, \"id_sucursal\")\n",
    "    .groupBy(\"region\")\n",
    "    .agg(\n",
    "        count(\"id_sucursal\").alias(\"num_sucursales\"),\n",
    "        count(\"id_envio\").alias(\"volumen_envios\")\n",
    "    )\n",
    ")\n",
    "display(dim_region)"
   ]
  },
  {
   "cell_type": "code",
   "execution_count": 0,
   "metadata": {
    "application/vnd.databricks.v1+cell": {
     "cellMetadata": {
      "byteLimit": 2048000,
      "rowLimit": 10000
     },
     "inputWidgets": {},
     "nuid": "014ce1ee-9eee-43d4-ba6d-ee74f7b780f2",
     "showTitle": false,
     "tableResultSettingsMap": {},
     "title": ""
    }
   },
   "outputs": [],
   "source": [
    "fact_envio = (\n",
    "    silver_envios_base.alias(\"e\")\n",
    "    .join(dim_cliente.alias(\"c\"), \"id_cliente\")\n",
    "    .join(dim_sucursal.alias(\"s\"), \"id_sucursal\")\n",
    "    .join(dim_ruta.alias(\"r\"), \"id_ruta\")\n",
    "    .join(dim_tiempo.alias(\"t\"), col(\"e.fecha_envio\") == col(\"t.fecha\"))\n",
    "    .select(\n",
    "        col(\"e.id_envio\"),\n",
    "        col(\"c.id_cliente\"),\n",
    "        col(\"s.id_sucursal\"),\n",
    "        col(\"r.id_ruta\"),\n",
    "        col(\"t.id_tiempo\"),\n",
    "        col(\"e.peso_kg\"),\n",
    "        col(\"e.costo_envio\"),\n",
    "        col(\"e.estado\"),\n",
    "        col(\"e.fecha_envio\")\n",
    "    )\n",
    ")\n",
    "display(fact_envio)"
   ]
  },
  {
   "cell_type": "code",
   "execution_count": 0,
   "metadata": {
    "application/vnd.databricks.v1+cell": {
     "cellMetadata": {
      "byteLimit": 2048000,
      "rowLimit": 10000
     },
     "inputWidgets": {},
     "nuid": "5cde7429-8647-4adb-b8c6-09d1e0c437ed",
     "showTitle": false,
     "tableResultSettingsMap": {},
     "title": ""
    }
   },
   "outputs": [],
   "source": [
    "schema = StructType([\n",
    "    StructField(\"audit_id\", StringType(), False),\n",
    "    StructField(\"lote_id\", StringType(), False),\n",
    "    StructField(\"source_path\", StringType(), False),\n",
    "    StructField(\"records_read\", IntegerType(), False),\n",
    "    StructField(\"records_deduplicated\", IntegerType(), False),\n",
    "    StructField(\"records_inserted\", IntegerType(), False),\n",
    "    StructField(\"records_updated\", IntegerType(), False),\n",
    "    StructField(\"target_table\", StringType(), False),\n",
    "    StructField(\"timestamp\", TimestampType(), False)\n",
    "])\n",
    "\n",
    "audit_ingestion = spark.createDataFrame(\n",
    "    [\n",
    "        (\n",
    "            str(uuid.uuid4()),\n",
    "            \"lote_001\",\n",
    "            \"/path/to/source\",\n",
    "            1000,\n",
    "            900,\n",
    "            800,\n",
    "            100,\n",
    "            f\"{catalog_name}.{schema_silver}.envios_base\",\n",
    "            datetime.datetime.now()\n",
    "        )\n",
    "    ],\n",
    "    schema=schema\n",
    ")\n",
    "display(audit_ingestion)"
   ]
  },
  {
   "cell_type": "code",
   "execution_count": 0,
   "metadata": {
    "application/vnd.databricks.v1+cell": {
     "cellMetadata": {
      "byteLimit": 2048000,
      "rowLimit": 10000
     },
     "inputWidgets": {},
     "nuid": "8c961d82-ed26-46cb-ac06-bb602accc3b9",
     "showTitle": false,
     "tableResultSettingsMap": {},
     "title": ""
    }
   },
   "outputs": [],
   "source": [
    "dim_cliente.write.format(\"delta\").mode(\"overwrite\").saveAsTable(f\"{catalog_name}.{schema_gold}.dim_cliente\")\n",
    "dim_sucursal.write.format(\"delta\").mode(\"overwrite\").saveAsTable(f\"{catalog_name}.{schema_gold}.dim_sucursal\")\n",
    "dim_tiempo.write.format(\"delta\").mode(\"overwrite\").saveAsTable(f\"{catalog_name}.{schema_gold}.dim_tiempo\")\n",
    "dim_region.write.format(\"delta\").mode(\"overwrite\").saveAsTable(f\"{catalog_name}.{schema_gold}.dim_region\")\n",
    "fact_envio.write.format(\"delta\").mode(\"overwrite\").saveAsTable(f\"{catalog_name}.{schema_gold}.fact_envio\")\n",
    "audit_ingestion.write.format(\"delta\").mode(\"append\").saveAsTable(f\"{catalog_name}.{schema_gold}.audit_ingestion\")"
   ]
  },
  {
   "cell_type": "markdown",
   "metadata": {
    "application/vnd.databricks.v1+cell": {
     "cellMetadata": {},
     "inputWidgets": {},
     "nuid": "d7d32655-0eff-4e22-a2d5-634d91f3ec61",
     "showTitle": false,
     "tableResultSettingsMap": {},
     "title": ""
    }
   },
   "source": [
    "![](/Volumes/tallerevaluado03/default/input/evidencia_Taller03.jpg)"
   ]
  },
  {
   "cell_type": "code",
   "execution_count": 0,
   "metadata": {
    "application/vnd.databricks.v1+cell": {
     "cellMetadata": {
      "byteLimit": 2048000,
      "implicitDf": true,
      "rowLimit": 10000
     },
     "inputWidgets": {},
     "nuid": "f57809db-4ac4-46e1-b69a-50be10025387",
     "showTitle": false,
     "tableResultSettingsMap": {},
     "title": ""
    }
   },
   "outputs": [],
   "source": [
    "%sql\n",
    "-- Top 5 clientes con más envíos.\n",
    "SELECT \n",
    "c.id_cliente,\n",
    "CONCAT(c.nombre, ' ', c.apellido) AS cliente,\n",
    "COUNT(f.id_envio) AS total_envios\n",
    "FROM tallerevaluado03.gold.fact_envio f\n",
    "LEFT JOIN tallerevaluado03.gold.dim_cliente c \n",
    "  ON f.id_cliente = c.id_cliente\n",
    "GROUP BY c.id_cliente, c.nombre, c.apellido\n",
    "ORDER BY total_envios DESC\n",
    "LIMIT 5; "
   ]
  },
  {
   "cell_type": "code",
   "execution_count": 0,
   "metadata": {
    "application/vnd.databricks.v1+cell": {
     "cellMetadata": {
      "byteLimit": 2048000,
      "implicitDf": true,
      "rowLimit": 10000
     },
     "inputWidgets": {},
     "nuid": "42603acc-afad-4f6d-90ff-d8560b5e36bc",
     "showTitle": false,
     "tableResultSettingsMap": {},
     "title": ""
    }
   },
   "outputs": [],
   "source": [
    "%sql\n",
    "--Ranking de sucursales con mayor volumen de envíos.\n",
    "SELECT\n",
    "s.id_sucursal,\n",
    "s.ciudad,\n",
    "s.region,\n",
    "COUNT(f.id_envio) AS total_envios\n",
    "FROM tallerevaluado03.gold.fact_envio f\n",
    "LEFT JOIN tallerevaluado03.gold.dim_sucursal s\n",
    "  ON f.id_sucursal = s.id_sucursal\n",
    "GROUP BY s.id_sucursal, s.ciudad, s.region\n",
    "ORDER BY total_envios DESC; "
   ]
  }
 ],
 "metadata": {
  "application/vnd.databricks.v1+notebook": {
   "computePreferences": {
    "hardware": {
     "accelerator": null,
     "gpuPoolId": null,
     "memory": "HIGH"
    }
   },
   "dashboards": [],
   "environmentMetadata": {
    "base_environment": "",
    "environment_version": "3"
   },
   "inputWidgetPreferences": null,
   "language": "python",
   "notebookMetadata": {
    "mostRecentlyExecutedCommandWithImplicitDF": {
     "commandId": 5560379690494256,
     "dataframes": [
      "_sqldf"
     ]
    },
    "pythonIndentUnit": 4
   },
   "notebookName": "TallerEvaluado03_HugoHoyos",
   "widgets": {}
  },
  "language_info": {
   "name": "python"
  }
 },
 "nbformat": 4,
 "nbformat_minor": 0
}
