{
 "cells": [
  {
   "cell_type": "markdown",
   "metadata": {
    "application/vnd.databricks.v1+cell": {
     "cellMetadata": {
      "byteLimit": 2048000,
      "rowLimit": 10000
     },
     "inputWidgets": {},
     "nuid": "b0ea03de-e7f5-411c-a1b3-ddc98a435090",
     "showTitle": false,
     "tableResultSettingsMap": {},
     "title": ""
    }
   },
   "source": [
    "### Objetivo del laboratorio\n",
    "Ingerir un lote base y un lote incremental con duplicados/actualizaciones, deduplicar y consolidar una tabla Silver consistente.\n",
    "\n",
    "**Capas:**\n",
    "- **Bronze**: lee los 1 CSV (ventas_base) y los escribe como Delta raw.\n",
    "\n",
    "- **Silver**: limpieza + deduplicación + upsert con MERGE\n",
    "\n",
    "Info: \n",
    "`id_venta, id_linea` BK(Business Key) "
   ]
  },
  {
   "cell_type": "code",
   "execution_count": 0,
   "metadata": {
    "application/vnd.databricks.v1+cell": {
     "cellMetadata": {
      "byteLimit": 2048000,
      "rowLimit": 10000
     },
     "inputWidgets": {},
     "nuid": "9df461fb-ab14-4090-90a0-03dfe02b68aa",
     "showTitle": false,
     "tableResultSettingsMap": {},
     "title": ""
    }
   },
   "outputs": [],
   "source": [
    "file = dbutils.widgets.text(\"file\", \"\")\n",
    "file = dbutils.widgets.get(\"file\")"
   ]
  },
  {
   "cell_type": "code",
   "execution_count": 0,
   "metadata": {
    "application/vnd.databricks.v1+cell": {
     "cellMetadata": {
      "byteLimit": 2048000,
      "rowLimit": 10000
     },
     "inputWidgets": {},
     "nuid": "bc2a8795-ff5c-4be5-89bf-5700ab8533b2",
     "showTitle": false,
     "tableResultSettingsMap": {},
     "title": ""
    }
   },
   "outputs": [],
   "source": [
    "# Creamos catalogo y schema\n",
    "catalog_name = \"sesion_08\"\n",
    "schema_bronze = \"bronze\"\n",
    "schema_silver = \"silver\"\n",
    "schema_gold   = \"gold\""
   ]
  },
  {
   "cell_type": "code",
   "execution_count": 0,
   "metadata": {
    "application/vnd.databricks.v1+cell": {
     "cellMetadata": {
      "byteLimit": 2048000,
      "rowLimit": 10000
     },
     "inputWidgets": {},
     "nuid": "26f8bf4d-2b6f-49f1-bc73-a9a9f6280bed",
     "showTitle": false,
     "tableResultSettingsMap": {},
     "title": ""
    }
   },
   "outputs": [],
   "source": [
    "spark.sql(f\"\"\"\n",
    "CREATE OR REPLACE TABLE {catalog_name}.{schema_bronze}.ventas(\n",
    "  id_venta string,\n",
    "  id_linea string,\n",
    "  id_tienda string,\n",
    "  id_cliente string,\n",
    "  id_producto string,\n",
    "  fecha_venta string,\n",
    "  cantidad string,\n",
    "  precio_unitario string,\n",
    "  updated_at string,\n",
    "  ingest_at timestamp\n",
    ")\n",
    "\"\"\"\n",
    ")"
   ]
  },
  {
   "cell_type": "code",
   "execution_count": 0,
   "metadata": {
    "application/vnd.databricks.v1+cell": {
     "cellMetadata": {
      "byteLimit": 2048000,
      "implicitDf": true,
      "rowLimit": 10000
     },
     "inputWidgets": {},
     "nuid": "dcc5371e-0303-4214-80cb-35a3e2db2315",
     "showTitle": false,
     "tableResultSettingsMap": {},
     "title": ""
    }
   },
   "outputs": [],
   "source": [
    "spark.sql(f\"\"\"\n",
    "CREATE OR REPLACE TABLE {catalog_name}.{schema_silver}.ventas(\n",
    "  id_venta string,\n",
    "  id_linea integer,\n",
    "  id_tienda integer,\n",
    "  id_cliente integer,\n",
    "  id_producto integer,\n",
    "  fecha_venta date,\n",
    "  cantidad integer,\n",
    "  precio_unitario decimal(18,2),\n",
    "  updated_at timestamp\n",
    ")\n",
    "\"\"\"\n",
    ")"
   ]
  },
  {
   "cell_type": "markdown",
   "metadata": {
    "application/vnd.databricks.v1+cell": {
     "cellMetadata": {
      "byteLimit": 2048000,
      "rowLimit": 10000
     },
     "inputWidgets": {},
     "nuid": "866b6856-7e7d-499e-be1c-28dcdca12fa7",
     "showTitle": false,
     "tableResultSettingsMap": {},
     "title": ""
    }
   },
   "source": [
    "### Bronze"
   ]
  },
  {
   "cell_type": "code",
   "execution_count": 0,
   "metadata": {
    "application/vnd.databricks.v1+cell": {
     "cellMetadata": {
      "byteLimit": 2048000,
      "rowLimit": 10000
     },
     "inputWidgets": {},
     "nuid": "a7eb0e8f-40b7-445f-a959-90d74d725f0c",
     "showTitle": true,
     "tableResultSettingsMap": {},
     "title": "librerias"
    }
   },
   "outputs": [],
   "source": [
    "from pyspark.sql.functions import col, to_date, to_timestamp, row_number, current_timestamp, current_date, sha2, concat_ws, lit, expr\n",
    "from pyspark.sql.window import Window\n",
    "from pyspark.sql.utils import AnalysisException\n",
    "from delta.tables import DeltaTable\n",
    "import uuid"
   ]
  },
  {
   "cell_type": "code",
   "execution_count": 0,
   "metadata": {
    "application/vnd.databricks.v1+cell": {
     "cellMetadata": {
      "byteLimit": 2048000,
      "rowLimit": 10000
     },
     "inputWidgets": {},
     "nuid": "b4299245-ef8b-4b0d-9223-7a01750399f4",
     "showTitle": false,
     "tableResultSettingsMap": {},
     "title": ""
    }
   },
   "outputs": [],
   "source": [
    "# Definimos rutas de origen\n",
    "path_base = \"/Volumes/sesion_08/default/source\"\n",
    "\n",
    "path_ventas  = f\"{path_base}/{file}.csv\""
   ]
  },
  {
   "cell_type": "code",
   "execution_count": 0,
   "metadata": {
    "application/vnd.databricks.v1+cell": {
     "cellMetadata": {
      "byteLimit": 2048000,
      "rowLimit": 10000
     },
     "inputWidgets": {},
     "nuid": "02ba16f8-a7ca-4c80-86c1-0840b0fa062c",
     "showTitle": false,
     "tableResultSettingsMap": {},
     "title": ""
    }
   },
   "outputs": [],
   "source": [
    "# Lectura\n",
    "ventas = (\n",
    "    spark.read.option(\"header\", True).csv(path_ventas).withColumn(\"ingest_at\", current_timestamp())\n",
    ")"
   ]
  },
  {
   "cell_type": "code",
   "execution_count": 0,
   "metadata": {
    "application/vnd.databricks.v1+cell": {
     "cellMetadata": {
      "byteLimit": 2048000,
      "rowLimit": 10000
     },
     "inputWidgets": {},
     "nuid": "cd4f455f-7d38-46b2-8eb6-6e5854e20445",
     "showTitle": false,
     "tableResultSettingsMap": {},
     "title": ""
    }
   },
   "outputs": [],
   "source": [
    "ventas.createOrReplaceTempView(\"ventas_bronze\")\n",
    "\n",
    "spark.sql(f\"\"\"\n",
    "INSERT INTO {catalog_name}.{schema_bronze}.ventas\n",
    "SELECT * FROM ventas_bronze          \n",
    "\"\"\")"
   ]
  },
  {
   "cell_type": "code",
   "execution_count": 0,
   "metadata": {
    "application/vnd.databricks.v1+cell": {
     "cellMetadata": {
      "byteLimit": 2048000,
      "rowLimit": 10000
     },
     "collapsed": true,
     "inputWidgets": {},
     "nuid": "8eb37e20-8cef-4d34-ae8e-b1ca9f0b3d5d",
     "showTitle": false,
     "tableResultSettingsMap": {},
     "title": ""
    }
   },
   "outputs": [],
   "source": [
    "spark.table(f\"{catalog_name}.{schema_bronze}.ventas\").display()"
   ]
  },
  {
   "cell_type": "code",
   "execution_count": 0,
   "metadata": {
    "application/vnd.databricks.v1+cell": {
     "cellMetadata": {
      "byteLimit": 2048000,
      "rowLimit": 10000
     },
     "inputWidgets": {},
     "nuid": "748e7f15-a2e7-4d70-b94a-a7071940ee99",
     "showTitle": false,
     "tableResultSettingsMap": {},
     "title": ""
    }
   },
   "outputs": [],
   "source": [
    "silver_ventas = (\n",
    "    ventas\n",
    "    .withColumn(\"id_linea\", col(\"id_linea\").cast(\"int\"))\n",
    "    .withColumn(\"id_tienda\", col(\"id_tienda\").cast(\"int\"))\n",
    "    .withColumn(\"id_cliente\", col(\"id_cliente\").cast(\"int\"))\n",
    "    .withColumn(\"id_producto\", col(\"id_producto\").cast(\"int\"))\n",
    "    .withColumn(\"fecha_venta\", to_date(col(\"fecha_venta\")))\n",
    "    .withColumn(\"cantidad\", col(\"cantidad\").cast(\"int\"))\n",
    "    .withColumn(\"precio_unitario\", col(\"precio_unitario\").cast(\"decimal(18,2)\"))\n",
    "    .withColumn(\"updated_at\", to_timestamp(col(\"updated_at\")))\n",
    "    .drop(\"ingest_at\")\n",
    ")"
   ]
  },
  {
   "cell_type": "code",
   "execution_count": 0,
   "metadata": {
    "application/vnd.databricks.v1+cell": {
     "cellMetadata": {
      "byteLimit": 2048000,
      "rowLimit": 10000
     },
     "inputWidgets": {},
     "nuid": "8d4713e9-1ac4-4889-aa4d-918df4560f4e",
     "showTitle": false,
     "tableResultSettingsMap": {},
     "title": ""
    }
   },
   "outputs": [],
   "source": [
    "windows_dedup = Window.partitionBy(\"id_venta\", \"id_linea\").orderBy(col(\"updated_at\").desc())\n",
    "\n",
    "silver_ventas_dedup = (\n",
    "    silver_ventas\n",
    "    .withColumn(\"dedup\", row_number().over(windows_dedup))\n",
    "    .filter(col(\"dedup\") == 1)\n",
    "    .drop(\"depup\")\n",
    ")"
   ]
  },
  {
   "cell_type": "code",
   "execution_count": 0,
   "metadata": {
    "application/vnd.databricks.v1+cell": {
     "cellMetadata": {
      "byteLimit": 2048000,
      "rowLimit": 10000
     },
     "inputWidgets": {},
     "nuid": "b231300b-d9be-4a8e-b333-5fa4a22f1033",
     "showTitle": false,
     "tableResultSettingsMap": {},
     "title": ""
    }
   },
   "outputs": [],
   "source": [
    "target = DeltaTable.forName(spark, f\"{catalog_name}.{schema_silver}.ventas\")\n",
    "\n",
    "merge = (\n",
    "    target.alias(\"m\")\n",
    "    .merge(\n",
    "        silver_ventas_dedup.alias(\"in\"),\n",
    "        (col(\"m.id_venta\") == col(\"in.id_venta\")) &\n",
    "        (col(\"m.id_linea\") == col(\"in.id_linea\"))\n",
    "    )\n",
    "    .whenMatchedUpdate(\n",
    "        condition= \"in.updated_at > m.updated_at\",\n",
    "        set = {\n",
    "            \"id_tienda\": col(\"in.id_tienda\"),\n",
    "            \"id_cliente\": col(\"in.id_cliente\"),\n",
    "            \"id_producto\": col(\"in.id_producto\"),\n",
    "            \"fecha_venta\": col(\"in.fecha_venta\"),\n",
    "            \"cantidad\": col(\"in.cantidad\"),\n",
    "            \"precio_unitario\": col(\"in.precio_unitario\"),\n",
    "            \"updated_at\": col(\"in.updated_at\")\n",
    "        }\n",
    "    )\n",
    "    .whenNotMatchedInsert(\n",
    "        values = {\n",
    "            \"id_venta\": col(\"in.id_venta\"),\n",
    "            \"id_linea\": col(\"in.id_linea\"),\n",
    "            \"id_tienda\": col(\"in.id_tienda\"),\n",
    "            \"id_cliente\": col(\"in.id_cliente\"),\n",
    "            \"id_producto\": col(\"in.id_producto\"),\n",
    "            \"fecha_venta\": col(\"in.fecha_venta\"),\n",
    "            \"cantidad\": col(\"in.cantidad\"),\n",
    "            \"precio_unitario\": col(\"in.precio_unitario\"),\n",
    "            \"updated_at\": col(\"in.updated_at\")\n",
    "        }\n",
    "    )\n",
    "    .execute()\n",
    ")"
   ]
  },
  {
   "cell_type": "code",
   "execution_count": 0,
   "metadata": {
    "application/vnd.databricks.v1+cell": {
     "cellMetadata": {
      "byteLimit": 2048000,
      "rowLimit": 10000
     },
     "collapsed": true,
     "inputWidgets": {},
     "nuid": "92a96ec5-32eb-4170-86b0-265a4d3a3c16",
     "showTitle": false,
     "tableResultSettingsMap": {},
     "title": ""
    }
   },
   "outputs": [],
   "source": [
    "spark.table(f\"{catalog_name}.{schema_silver}.ventas\").display()"
   ]
  },
  {
   "cell_type": "code",
   "execution_count": 0,
   "metadata": {
    "application/vnd.databricks.v1+cell": {
     "cellMetadata": {
      "byteLimit": 2048000,
      "rowLimit": 10000
     },
     "collapsed": true,
     "inputWidgets": {},
     "nuid": "176db9c0-6e65-4085-8d2c-8273439f4663",
     "showTitle": false,
     "tableResultSettingsMap": {
      "0": {
       "dataGridStateBlob": "{\"version\":1,\"tableState\":{\"columnPinning\":{\"left\":[\"#row_number#\"],\"right\":[]},\"columnSizing\":{},\"columnVisibility\":{}},\"settings\":{\"columns\":{}},\"syncTimestamp\":1756433473230}",
       "filterBlob": null,
       "queryPlanFiltersBlob": null,
       "tableResultIndex": 0
      }
     },
     "title": ""
    }
   },
   "outputs": [],
   "source": [
    "spark.table(f\"{catalog_name}.{schema_silver}.ventas\").display()"
   ]
  }
 ],
 "metadata": {
  "application/vnd.databricks.v1+notebook": {
   "computePreferences": {
    "hardware": {
     "accelerator": null,
     "gpuPoolId": null,
     "memory": null
    }
   },
   "dashboards": [],
   "environmentMetadata": {
    "base_environment": "",
    "environment_version": "3"
   },
   "inputWidgetPreferences": null,
   "language": "python",
   "notebookMetadata": {
    "mostRecentlyExecutedCommandWithImplicitDF": {
     "commandId": 7219036064192372,
     "dataframes": [
      "_sqldf"
     ]
    },
    "pythonIndentUnit": 4
   },
   "notebookName": "Sesion 08.1 - Procesamiento incremental tipo 1",
   "widgets": {
    "file": {
     "currentValue": "ventas_incremento",
     "nuid": "ed292c0a-014c-4cc9-bd41-043161177c1b",
     "typedWidgetInfo": {
      "autoCreated": false,
      "defaultValue": "",
      "label": null,
      "name": "file",
      "options": {
       "widgetDisplayType": "Text",
       "validationRegex": null
      },
      "parameterDataType": "String"
     },
     "widgetInfo": {
      "widgetType": "text",
      "defaultValue": "",
      "label": null,
      "name": "file",
      "options": {
       "widgetType": "text",
       "autoCreated": null,
       "validationRegex": null
      }
     }
    }
   }
  },
  "language_info": {
   "name": "python"
  }
 },
 "nbformat": 4,
 "nbformat_minor": 0
}
