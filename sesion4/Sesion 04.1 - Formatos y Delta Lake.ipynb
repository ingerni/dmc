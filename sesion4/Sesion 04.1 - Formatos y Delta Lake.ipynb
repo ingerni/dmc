{
 "cells": [
  {
   "cell_type": "markdown",
   "metadata": {
    "application/vnd.databricks.v1+cell": {
     "cellMetadata": {},
     "inputWidgets": {},
     "nuid": "f5f136b7-e2dc-403e-abb5-e5a4be616913",
     "showTitle": false,
     "tableResultSettingsMap": {},
     "title": ""
    }
   },
   "source": [
    "### Objetivos del laboratorio\n",
    "- Comparar rendimiento y características entre un dataset en Parquet y el mismo dataset convertido a Delta Lake.\n",
    "- Aplicar particionamiento para optimizar consultas.\n",
    "- Usar Time Travel para consultar versiones anteriores de la tabla después de modificaciones."
   ]
  },
  {
   "cell_type": "markdown",
   "metadata": {
    "application/vnd.databricks.v1+cell": {
     "cellMetadata": {},
     "inputWidgets": {},
     "nuid": "1922e989-d10c-4526-8db3-ed2428b4b197",
     "showTitle": false,
     "tableResultSettingsMap": {},
     "title": ""
    }
   },
   "source": [
    "### 1. Lectura inicial del dataset en formato CSV\n",
    "\n",
    "/Volumes/sesion4/default/source/csv/"
   ]
  },
  {
   "cell_type": "code",
   "execution_count": 0,
   "metadata": {
    "application/vnd.databricks.v1+cell": {
     "cellMetadata": {
      "byteLimit": 2048000,
      "rowLimit": 10000
     },
     "inputWidgets": {},
     "nuid": "615e959c-4018-4f5b-a2b3-876f54aed028",
     "showTitle": false,
     "tableResultSettingsMap": {},
     "title": ""
    }
   },
   "outputs": [],
   "source": [
    "from pyspark.sql.types import StructType, StringType, DoubleType, DateType\n",
    "\n",
    "polizas_schema = (\n",
    "    StructType()\n",
    "    .add(\"id_poliza\", StringType())\n",
    "    .add(\"fecha_emision\", DateType())\n",
    "    .add(\"tipo_seguro\", StringType())\n",
    "    .add(\"prima_anual\", DoubleType())\n",
    "    .add(\"estado_poliza\", StringType())\n",
    "    .add(\"region\", StringType())\n",
    "    .add(\"nombre_cliente\", StringType())\n",
    ")"
   ]
  },
  {
   "cell_type": "code",
   "execution_count": 0,
   "metadata": {
    "application/vnd.databricks.v1+cell": {
     "cellMetadata": {
      "byteLimit": 2048000,
      "rowLimit": 10000
     },
     "inputWidgets": {},
     "nuid": "47e25726-c6c9-433d-852a-2a9e061f9195",
     "showTitle": false,
     "tableResultSettingsMap": {},
     "title": ""
    }
   },
   "outputs": [],
   "source": [
    "df_polizas_csv = (\n",
    "    spark.read\n",
    "    .format(\"csv\")\n",
    "    .option(\"header\", True)\n",
    "    .schema(polizas_schema)\n",
    "    .load(\"/Volumes/sesion4/default/source/csv/\")\n",
    ")\n",
    "\n",
    "df_polizas_csv.count()"
   ]
  },
  {
   "cell_type": "markdown",
   "metadata": {
    "application/vnd.databricks.v1+cell": {
     "cellMetadata": {},
     "inputWidgets": {},
     "nuid": "245da012-418c-4695-81d6-fbb2b9683c5d",
     "showTitle": false,
     "tableResultSettingsMap": {},
     "title": ""
    }
   },
   "source": [
    "### 2. Escribir a formato parquet"
   ]
  },
  {
   "cell_type": "code",
   "execution_count": 0,
   "metadata": {
    "application/vnd.databricks.v1+cell": {
     "cellMetadata": {
      "byteLimit": 2048000,
      "rowLimit": 10000
     },
     "inputWidgets": {},
     "nuid": "16f385a7-11ca-41bc-b80b-d4c2bfe85c30",
     "showTitle": false,
     "tableResultSettingsMap": {},
     "title": ""
    }
   },
   "outputs": [],
   "source": [
    "df_polizas_csv.write.format(\"parquet\").mode(\"overwrite\").save(\"/Volumes/sesion4/default/source/parquet\")"
   ]
  },
  {
   "cell_type": "markdown",
   "metadata": {
    "application/vnd.databricks.v1+cell": {
     "cellMetadata": {},
     "inputWidgets": {},
     "nuid": "fc03a62f-be83-4170-a39e-24e24f1d5541",
     "showTitle": false,
     "tableResultSettingsMap": {},
     "title": ""
    }
   },
   "source": [
    "### 3. Leer formato parquet"
   ]
  },
  {
   "cell_type": "code",
   "execution_count": 0,
   "metadata": {
    "application/vnd.databricks.v1+cell": {
     "cellMetadata": {
      "byteLimit": 2048000,
      "rowLimit": 10000
     },
     "inputWidgets": {},
     "nuid": "639b5de2-894b-439b-bdd1-8e8f6e720311",
     "showTitle": false,
     "tableResultSettingsMap": {},
     "title": ""
    }
   },
   "outputs": [],
   "source": [
    "df_polizas_parquet = spark.read.format(\"parquet\").load(\"/Volumes/sesion4/default/source/parquet\")\n",
    "\n",
    "df_polizas_parquet.count()"
   ]
  },
  {
   "cell_type": "markdown",
   "metadata": {
    "application/vnd.databricks.v1+cell": {
     "cellMetadata": {},
     "inputWidgets": {},
     "nuid": "994de64c-81fd-4328-bf58-82e85a81c95e",
     "showTitle": false,
     "tableResultSettingsMap": {},
     "title": ""
    }
   },
   "source": [
    "### 4. Escribir formato delta con particion"
   ]
  },
  {
   "cell_type": "code",
   "execution_count": 0,
   "metadata": {
    "application/vnd.databricks.v1+cell": {
     "cellMetadata": {
      "byteLimit": 2048000,
      "rowLimit": 10000
     },
     "inputWidgets": {},
     "nuid": "d9901eb8-8d16-49de-828e-8d9dd25adc45",
     "showTitle": false,
     "tableResultSettingsMap": {},
     "title": ""
    }
   },
   "outputs": [],
   "source": [
    "df_polizas_parquet.write.format(\"delta\").mode(\"overwrite\").partitionBy(\"region\").saveAsTable(\"sesion4.default.polizas_con_particion\")"
   ]
  },
  {
   "cell_type": "markdown",
   "metadata": {
    "application/vnd.databricks.v1+cell": {
     "cellMetadata": {},
     "inputWidgets": {},
     "nuid": "af76d64e-cd90-4dbc-b248-f5b8a8abcc9b",
     "showTitle": false,
     "tableResultSettingsMap": {},
     "title": ""
    }
   },
   "source": [
    "### 5. Escribir formato delta sin particion"
   ]
  },
  {
   "cell_type": "code",
   "execution_count": 0,
   "metadata": {
    "application/vnd.databricks.v1+cell": {
     "cellMetadata": {
      "byteLimit": 2048000,
      "rowLimit": 10000
     },
     "inputWidgets": {},
     "nuid": "46e6a707-7cd6-4271-926a-e736684be6f9",
     "showTitle": false,
     "tableResultSettingsMap": {},
     "title": ""
    }
   },
   "outputs": [],
   "source": [
    "df_polizas_parquet.write.format(\"delta\").mode(\"overwrite\").saveAsTable(\"sesion4.default.polizas_sin_particion\")"
   ]
  },
  {
   "cell_type": "code",
   "execution_count": 0,
   "metadata": {
    "application/vnd.databricks.v1+cell": {
     "cellMetadata": {
      "byteLimit": 2048000,
      "implicitDf": true,
      "rowLimit": 10000
     },
     "inputWidgets": {},
     "nuid": "a388bc6a-37a5-40b9-bcb4-9572da3d7e42",
     "showTitle": false,
     "tableResultSettingsMap": {},
     "title": ""
    }
   },
   "outputs": [],
   "source": [
    "%sql\n",
    "select region, count(1)\n",
    "from sesion4.default.polizas_sin_particion\n",
    "group by all"
   ]
  },
  {
   "cell_type": "code",
   "execution_count": 0,
   "metadata": {
    "application/vnd.databricks.v1+cell": {
     "cellMetadata": {
      "byteLimit": 2048000,
      "implicitDf": true,
      "rowLimit": 10000
     },
     "inputWidgets": {},
     "nuid": "492e26d4-4d41-4e06-b0a0-68691c61a10f",
     "showTitle": false,
     "tableResultSettingsMap": {},
     "title": ""
    }
   },
   "outputs": [],
   "source": [
    "%sql\n",
    "select *\n",
    "from sesion4.default.polizas_sin_particion\n",
    "WHERE region = 'Norte'"
   ]
  },
  {
   "cell_type": "code",
   "execution_count": 0,
   "metadata": {
    "application/vnd.databricks.v1+cell": {
     "cellMetadata": {
      "byteLimit": 2048000,
      "implicitDf": true,
      "rowLimit": 10000
     },
     "collapsed": true,
     "inputWidgets": {},
     "nuid": "bdf1d967-89c0-44ba-8c3e-f58dec550938",
     "showTitle": false,
     "tableResultSettingsMap": {},
     "title": ""
    }
   },
   "outputs": [],
   "source": [
    "%sql\n",
    "select *\n",
    "from sesion4.default.polizas_con_particion\n",
    "WHERE region = 'Norte'"
   ]
  },
  {
   "cell_type": "code",
   "execution_count": 0,
   "metadata": {
    "application/vnd.databricks.v1+cell": {
     "cellMetadata": {
      "byteLimit": 2048000,
      "implicitDf": true,
      "rowLimit": 10000
     },
     "collapsed": true,
     "inputWidgets": {},
     "nuid": "6252da30-cd62-4c9d-9db7-7713149fc0f5",
     "showTitle": false,
     "tableResultSettingsMap": {},
     "title": ""
    }
   },
   "outputs": [],
   "source": [
    "%sql\n",
    "DESCRIBE DETAIL sesion4.default.polizas_sin_particion"
   ]
  },
  {
   "cell_type": "markdown",
   "metadata": {
    "application/vnd.databricks.v1+cell": {
     "cellMetadata": {},
     "inputWidgets": {},
     "nuid": "32635291-971a-447e-9850-6a57d8959f9c",
     "showTitle": false,
     "tableResultSettingsMap": {},
     "title": ""
    }
   },
   "source": [
    "### 6. Time Travel"
   ]
  },
  {
   "cell_type": "code",
   "execution_count": 0,
   "metadata": {
    "application/vnd.databricks.v1+cell": {
     "cellMetadata": {
      "byteLimit": 2048000,
      "implicitDf": true,
      "rowLimit": 10000
     },
     "inputWidgets": {},
     "nuid": "79164326-1ebd-4b90-aecb-0d79687443c5",
     "showTitle": false,
     "tableResultSettingsMap": {},
     "title": ""
    }
   },
   "outputs": [],
   "source": [
    "%sql\n",
    "SELECT estado_poliza, count(1)\n",
    "FROM sesion4.default.polizas_con_particion\n",
    "WHERE tipo_seguro = 'Auto'\n",
    "GROUP BY all\n"
   ]
  },
  {
   "cell_type": "code",
   "execution_count": 0,
   "metadata": {
    "application/vnd.databricks.v1+cell": {
     "cellMetadata": {
      "byteLimit": 2048000,
      "implicitDf": true,
      "rowLimit": 10000
     },
     "inputWidgets": {},
     "nuid": "0ee19719-1f0c-44d4-88a0-e65f1625cf21",
     "showTitle": false,
     "tableResultSettingsMap": {},
     "title": ""
    }
   },
   "outputs": [],
   "source": [
    "%sql\n",
    "UPDATE sesion4.default.polizas_con_particion\n",
    "SET estado_poliza = 'Cancelada'\n",
    "WHERE tipo_seguro = 'Auto'"
   ]
  },
  {
   "cell_type": "code",
   "execution_count": 0,
   "metadata": {
    "application/vnd.databricks.v1+cell": {
     "cellMetadata": {
      "byteLimit": 2048000,
      "implicitDf": true,
      "rowLimit": 10000
     },
     "inputWidgets": {},
     "nuid": "eaf4f38e-b9d3-4a08-989b-8e6dc310d476",
     "showTitle": false,
     "tableResultSettingsMap": {},
     "title": ""
    }
   },
   "outputs": [],
   "source": [
    "%sql\n",
    "SELECT estado_poliza, count(1)\n",
    "FROM sesion4.default.polizas_con_particion\n",
    "WHERE tipo_seguro = 'Auto'\n",
    "GROUP BY all\n"
   ]
  },
  {
   "cell_type": "code",
   "execution_count": 0,
   "metadata": {
    "application/vnd.databricks.v1+cell": {
     "cellMetadata": {
      "byteLimit": 2048000,
      "implicitDf": true,
      "rowLimit": 10000
     },
     "inputWidgets": {},
     "nuid": "ae2e146d-7944-422a-b4ac-816b4d287b82",
     "showTitle": false,
     "tableResultSettingsMap": {},
     "title": ""
    }
   },
   "outputs": [],
   "source": [
    "%sql\n",
    "DESCRIBE HISTORY sesion4.default.polizas_con_particion"
   ]
  },
  {
   "cell_type": "code",
   "execution_count": 0,
   "metadata": {
    "application/vnd.databricks.v1+cell": {
     "cellMetadata": {
      "byteLimit": 2048000,
      "implicitDf": true,
      "rowLimit": 10000
     },
     "inputWidgets": {},
     "nuid": "c5378c5a-3f56-4178-86b0-a3ff16f1ab05",
     "showTitle": false,
     "tableResultSettingsMap": {},
     "title": ""
    }
   },
   "outputs": [],
   "source": [
    "%sql\n",
    "RESTORE TABLE sesion4.default.polizas_con_particion VERSION AS OF 0"
   ]
  },
  {
   "cell_type": "code",
   "execution_count": 0,
   "metadata": {
    "application/vnd.databricks.v1+cell": {
     "cellMetadata": {
      "byteLimit": 2048000,
      "implicitDf": true,
      "rowLimit": 10000
     },
     "inputWidgets": {},
     "nuid": "10be2741-07f6-496d-870d-c98fb88f8b2b",
     "showTitle": false,
     "tableResultSettingsMap": {},
     "title": ""
    }
   },
   "outputs": [],
   "source": [
    "%sql\n",
    "SELECT estado_poliza, count(1)\n",
    "FROM sesion4.default.polizas_con_particion\n",
    "WHERE tipo_seguro = 'Auto'\n",
    "GROUP BY all\n"
   ]
  },
  {
   "cell_type": "markdown",
   "metadata": {
    "application/vnd.databricks.v1+cell": {
     "cellMetadata": {},
     "inputWidgets": {},
     "nuid": "4eb192eb-519a-43af-b70c-37688aed77df",
     "showTitle": false,
     "tableResultSettingsMap": {},
     "title": ""
    }
   },
   "source": [
    "### Cuestionario"
   ]
  },
  {
   "cell_type": "markdown",
   "metadata": {
    "application/vnd.databricks.v1+cell": {
     "cellMetadata": {},
     "inputWidgets": {},
     "nuid": "2558bd92-a1a5-4cab-aeb4-aa3e4c787097",
     "showTitle": false,
     "tableResultSettingsMap": {},
     "title": ""
    }
   },
   "source": [
    "1. ¿Qué formato es columnar por defecto?\n",
    "- CSV\n",
    "- JSON\n",
    "- Parquet\n",
    "- TXT\n",
    "\n",
    "2. ¿Cuál NO es una ventaja de Delta Lake?\n",
    "- ACID\n",
    "- Time travel\n",
    "- Z-Ordering\n",
    "- Mayor tamaño de archivo por diseño\n",
    "\n",
    "3. DESCRIBE HISTORY sirve para…\n",
    "- Ver el lineage en Fabric\n",
    "- Ver versiones/operaciones Delta\n",
    "- Comprimir la tabla\n",
    "- Quitar archivos huérfanos\n",
    "\n",
    "4. Para consultar una versión pasada sin restaurar:\n",
    "- SELECT … FROM tabla VERSION AS OF 3\n",
    "- RESTORE TABLE tabla TO VERSION AS OF 3\n",
    "- OPTIMIZE ZORDER BY (3)\n",
    "- VACUUM\n",
    "\n",
    "5. ¿Cuál es verdadera sobre Delta + esquema?\n",
    "- No permite cambiar esquema \n",
    "- Permite evolución controlada\n",
    "- Requiere siempre MERGE \n",
    "- Solo funciona en JSON\n",
    "\n",
    "6. ¿Qué hace el transaction log?\n",
    "- Guarda solo el esquema \n",
    "- Orquesta jobs \n",
    "- Registra commits/estado de archivos \n",
    "- Desactiva ACID\n",
    "\n",
    "7. Convertir Parquet a Delta sin reescritura lógica es…\n",
    "- CREATE TABLE … USING DELTA AS SELECT …\n",
    "- CONVERT TO DELTA delta.\n",
    "- CONVERT TO DELTA parquet.ruta\n",
    "- RESTORE TABLE\n",
    "\n",
    "8. ¿Qué comando muestra metadatos/estadísticas de una tabla Delta?\n",
    "- DESCRIBE DETAIL \n",
    "- SHOW PARTITIONS \n",
    "- MSCK REPAIR \n",
    "- SHOW CREATE TABLE"
   ]
  }
 ],
 "metadata": {
  "application/vnd.databricks.v1+notebook": {
   "computePreferences": {
    "hardware": {
     "accelerator": null,
     "gpuPoolId": null,
     "memory": "HIGH"
    }
   },
   "dashboards": [],
   "environmentMetadata": {
    "base_environment": "",
    "environment_version": "2"
   },
   "inputWidgetPreferences": null,
   "language": "python",
   "notebookMetadata": {
    "mostRecentlyExecutedCommandWithImplicitDF": {
     "commandId": 6786813601607610,
     "dataframes": [
      "_sqldf"
     ]
    },
    "pythonIndentUnit": 4
   },
   "notebookName": "Sesion 04.1 - Formatos y Delta Lake",
   "widgets": {}
  },
  "language_info": {
   "name": "python"
  }
 },
 "nbformat": 4,
 "nbformat_minor": 0
}
