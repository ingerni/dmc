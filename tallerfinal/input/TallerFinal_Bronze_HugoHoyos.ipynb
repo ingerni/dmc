{
 "cells": [
  {
   "cell_type": "code",
   "execution_count": 0,
   "metadata": {
    "application/vnd.databricks.v1+cell": {
     "cellMetadata": {
      "byteLimit": 2048000,
      "rowLimit": 10000
     },
     "collapsed": true,
     "inputWidgets": {},
     "nuid": "39266876-222f-4761-a87c-de4d7631590c",
     "showTitle": false,
     "tableResultSettingsMap": {},
     "title": ""
    }
   },
   "outputs": [],
   "source": [
    "## ELIMINAR CATALOGO\n",
    "\n",
    "from pyspark.sql import SparkSession\n",
    "\n",
    "# Crear/usar sesión de Spark\n",
    "spark = SparkSession.builder.getOrCreate()\n",
    "\n",
    "# Nombre del catálogo a eliminar\n",
    "catalog_name = \"tallerfinalhoyos\"\n",
    "\n",
    "# Ejecutar el comando SQL para eliminar el catálogo\n",
    "spark.sql(f\"DROP CATALOG IF EXISTS {catalog_name} CASCADE\") "
   ]
  },
  {
   "cell_type": "code",
   "execution_count": 0,
   "metadata": {
    "application/vnd.databricks.v1+cell": {
     "cellMetadata": {
      "byteLimit": 2048000,
      "rowLimit": 10000
     },
     "inputWidgets": {},
     "nuid": "9f7917e8-7cb3-4d9e-ae3c-02c9068a4a10",
     "showTitle": true,
     "tableResultSettingsMap": {},
     "title": "Se definen el catalogo y los esquemas"
    }
   },
   "outputs": [],
   "source": [
    "catalog_name = \"retail_dev\"\n",
    "\n",
    "schema_bronze = \"bronze\"\n",
    "schema_silver = \"silver\"\n",
    "schema_gold = \"gold\"\n",
    "schema_audit = \"auditoria\""
   ]
  },
  {
   "cell_type": "code",
   "execution_count": 0,
   "metadata": {
    "application/vnd.databricks.v1+cell": {
     "cellMetadata": {
      "byteLimit": 2048000,
      "rowLimit": 10000
     },
     "inputWidgets": {},
     "nuid": "9b6bbef2-024c-45b0-b235-e2819508e9eb",
     "showTitle": true,
     "tableResultSettingsMap": {},
     "title": "Se crean el catalogo y los esquemas solicitados"
    }
   },
   "outputs": [],
   "source": [
    "spark.sql(f\"CREATE CATALOG IF NOT EXISTS {catalog_name}\")\n",
    "\n",
    "spark.sql(f\"CREATE SCHEMA IF NOT EXISTS {catalog_name}.{schema_bronze}\")\n",
    "spark.sql(f\"CREATE SCHEMA IF NOT EXISTS {catalog_name}.{schema_silver}\")\n",
    "spark.sql(f\"CREATE SCHEMA IF NOT EXISTS {catalog_name}.{schema_gold}\")\n",
    "spark.sql(f\"CREATE SCHEMA IF NOT EXISTS {catalog_name}.{schema_audit}\")\n",
    "\n",
    "spark.sql(f\"CREATE VOLUME IF NOT EXISTS {catalog_name}.default.input\")"
   ]
  },
  {
   "cell_type": "code",
   "execution_count": 0,
   "metadata": {
    "application/vnd.databricks.v1+cell": {
     "cellMetadata": {
      "byteLimit": 2048000,
      "rowLimit": 10000
     },
     "inputWidgets": {},
     "nuid": "55365e94-1cdd-4087-8293-021d5ba74e30",
     "showTitle": true,
     "tableResultSettingsMap": {},
     "title": "Se ingesta la información y se guardan en tablas Delta"
    }
   },
   "outputs": [],
   "source": [
    "path_base = \"/Volumes/retail_dev/default/input\"\n",
    "\n",
    "path_clientes = f\"{path_base}/clientes.csv\"\n",
    "path_tiendas = f\"{path_base}/tiendas.csv\"\n",
    "path_productos= f\"{path_base}/productos.csv\"\n",
    "path_ventas = f\"{path_base}/ventas_base.csv\"\n",
    "#path_devoluciones = f\"{path_base}/devoluciones.csv\""
   ]
  },
  {
   "cell_type": "code",
   "execution_count": 0,
   "metadata": {
    "application/vnd.databricks.v1+cell": {
     "cellMetadata": {
      "byteLimit": 2048000,
      "rowLimit": 10000
     },
     "inputWidgets": {},
     "nuid": "4fee10a7-39fd-439a-a3fd-8b7c273d0444",
     "showTitle": true,
     "tableResultSettingsMap": {},
     "title": "Todas las columnas como STRING"
    }
   },
   "outputs": [],
   "source": [
    "clientes_raw = spark.read.option(\"header\", True).option(\"inferSchema\", False).csv(path_clientes)\n",
    "tiendas_raw = spark.read.option(\"header\", True).option(\"inferSchema\", False).csv(path_tiendas)\n",
    "productos_raw = spark.read.option(\"header\", True).option(\"inferSchema\", False).csv(path_productos)\n",
    "ventas_raw = spark.read.option(\"header\", True).option(\"inferSchema\", False).csv(path_ventas)\n",
    "#devoluciones_raw = spark.read.option(\"header\", True).option(\"inferSchema\", False).csv(path_devoluciones)"
   ]
  },
  {
   "cell_type": "code",
   "execution_count": 0,
   "metadata": {
    "application/vnd.databricks.v1+cell": {
     "cellMetadata": {
      "byteLimit": 2048000,
      "rowLimit": 10000
     },
     "inputWidgets": {},
     "nuid": "301ab911-fffa-4de3-88e9-cfa702786b5b",
     "showTitle": false,
     "tableResultSettingsMap": {},
     "title": ""
    }
   },
   "outputs": [],
   "source": [
    "clientes_raw.write.format(\"delta\").mode(\"overwrite\").saveAsTable(f\"{catalog_name}.{schema_bronze}.clientes_raw\")\n",
    "tiendas_raw.write.format(\"delta\").mode(\"overwrite\").saveAsTable(f\"{catalog_name}.{schema_bronze}.tiendas_raw\")\n",
    "productos_raw.write.format(\"delta\").mode(\"overwrite\").saveAsTable(f\"{catalog_name}.{schema_bronze}.productos_raw\")\n",
    "ventas_raw.write.format(\"delta\").mode(\"overwrite\").saveAsTable(f\"{catalog_name}.{schema_bronze}.ventas_raw\")\n",
    "#devoluciones_raw.write.format(\"delta\").mode(\"overwrite\").saveAsTable(f\"{catalog_name}.{schema_bronze}.devoluciones_raw\")"
   ]
  },
  {
   "cell_type": "code",
   "execution_count": 0,
   "metadata": {
    "application/vnd.databricks.v1+cell": {
     "cellMetadata": {
      "byteLimit": 2048000,
      "implicitDf": true,
      "rowLimit": 10000
     },
     "collapsed": true,
     "inputWidgets": {},
     "nuid": "f6de827f-c845-4cae-99c0-08f923bab68d",
     "showTitle": false,
     "tableResultSettingsMap": {},
     "title": ""
    }
   },
   "outputs": [],
   "source": [
    "%sql\n",
    "SELECT * FROM retail_dev.bronze.clientes_raw"
   ]
  },
  {
   "cell_type": "code",
   "execution_count": 0,
   "metadata": {
    "application/vnd.databricks.v1+cell": {
     "cellMetadata": {
      "byteLimit": 2048000,
      "implicitDf": true,
      "rowLimit": 10000
     },
     "collapsed": true,
     "inputWidgets": {},
     "nuid": "eb38b3bc-7acb-4486-a6d5-ec7c770b10a5",
     "showTitle": false,
     "tableResultSettingsMap": {},
     "title": ""
    }
   },
   "outputs": [],
   "source": [
    "%sql\n",
    "SELECT * FROM retail_dev.bronze.tiendas_raw "
   ]
  },
  {
   "cell_type": "code",
   "execution_count": 0,
   "metadata": {
    "application/vnd.databricks.v1+cell": {
     "cellMetadata": {
      "byteLimit": 2048000,
      "implicitDf": true,
      "rowLimit": 10000
     },
     "collapsed": true,
     "inputWidgets": {},
     "nuid": "e0a8fd6f-8178-4d4f-8634-6e17499c4f6a",
     "showTitle": false,
     "tableResultSettingsMap": {},
     "title": ""
    }
   },
   "outputs": [],
   "source": [
    "%sql\n",
    "SELECT * FROM retail_dev.bronze.productos_raw "
   ]
  },
  {
   "cell_type": "code",
   "execution_count": 0,
   "metadata": {
    "application/vnd.databricks.v1+cell": {
     "cellMetadata": {
      "byteLimit": 2048000,
      "implicitDf": true,
      "rowLimit": 10000
     },
     "collapsed": true,
     "inputWidgets": {},
     "nuid": "ed2900ff-66f7-4756-b0a3-dd769d8b5dc8",
     "showTitle": false,
     "tableResultSettingsMap": {},
     "title": ""
    }
   },
   "outputs": [],
   "source": [
    "%sql\n",
    "SELECT * FROM retail_dev.bronze.ventas_raw "
   ]
  }
 ],
 "metadata": {
  "application/vnd.databricks.v1+notebook": {
   "computePreferences": null,
   "dashboards": [],
   "environmentMetadata": {
    "base_environment": "",
    "environment_version": "3"
   },
   "inputWidgetPreferences": null,
   "language": "python",
   "notebookMetadata": {
    "mostRecentlyExecutedCommandWithImplicitDF": {
     "commandId": 7242139951185668,
     "dataframes": [
      "_sqldf"
     ]
    },
    "pythonIndentUnit": 4
   },
   "notebookName": "TallerFinal_Bronze_HugoHoyos",
   "widgets": {}
  },
  "language_info": {
   "name": "python"
  }
 },
 "nbformat": 4,
 "nbformat_minor": 0
}
