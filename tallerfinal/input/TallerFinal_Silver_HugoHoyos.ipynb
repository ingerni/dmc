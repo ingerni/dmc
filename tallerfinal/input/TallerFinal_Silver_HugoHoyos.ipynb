{
 "cells": [
  {
   "cell_type": "code",
   "execution_count": 0,
   "metadata": {
    "application/vnd.databricks.v1+cell": {
     "cellMetadata": {},
     "inputWidgets": {},
     "nuid": "88a68a0b-dfc4-41f1-803f-b8050c7dc689",
     "showTitle": false,
     "tableResultSettingsMap": {},
     "title": ""
    }
   },
   "outputs": [],
   "source": [
    "from pyspark.sql.functions import col, trim, initcap, when, lit, year, month, dayofmonth, concat, concat_ws"
   ]
  },
  {
   "cell_type": "code",
   "execution_count": 0,
   "metadata": {
    "application/vnd.databricks.v1+cell": {
     "cellMetadata": {},
     "inputWidgets": {},
     "nuid": "65342261-546c-46d8-adcf-92df125be3f5",
     "showTitle": false,
     "tableResultSettingsMap": {},
     "title": ""
    }
   },
   "outputs": [],
   "source": [
    "catalog_name = \"retail_dev\"\n",
    "\n",
    "schema_bronze = \"bronze\"\n",
    "schema_silver = \"silver\""
   ]
  },
  {
   "cell_type": "code",
   "execution_count": 0,
   "metadata": {
    "application/vnd.databricks.v1+cell": {
     "cellMetadata": {},
     "inputWidgets": {},
     "nuid": "b863c3d1-917a-4002-a50c-d7a4c70fb0f7",
     "showTitle": false,
     "tableResultSettingsMap": {},
     "title": ""
    }
   },
   "outputs": [],
   "source": [
    "silver_clientes = (\n",
    "  spark.table(f\"{catalog_name}.{schema_bronze}.clientes\")\n",
    "  .withColumn(\"id_cliente\", col(\"id_cliente\").cast(\"int\"))\n",
    "  .withColumn(\"nombre\", initcap(trim(col(\"nombre\"))).cast(\"string\"))\n",
    "  .withColumn(\"apellido\", initcap(trim(col(\"apellido\"))).cast(\"string\"))\n",
    "  .withColumn(\"email\", trim(col(\"email\")).cast(\"string\"))\n",
    "  .withColumn(\"segmento\", trim(col(\"segmento\")).cast(\"string\"))\n",
    "  .withColumn(\"fecha_registro\", to_date(col(\"fecha_registro\")))\n",
    "  .dropna(subset=[\"id_cliente\"])\n",
    "  .dropDuplicates([\"id_cliente\"])\n",
    ")"
   ]
  },
  {
   "cell_type": "code",
   "execution_count": 0,
   "metadata": {
    "application/vnd.databricks.v1+cell": {
     "cellMetadata": {},
     "inputWidgets": {},
     "nuid": "677c0c76-e1f5-435a-8f2c-dc6d8d7eafc0",
     "showTitle": false,
     "tableResultSettingsMap": {},
     "title": ""
    }
   },
   "outputs": [],
   "source": [
    "silver_clientes.write.format(\"delta\").mode(\"overwrite\").saveAsTable(f\"{catalog_name}.{schema_silver}.clientes\")"
   ]
  }
 ],
 "metadata": {
  "application/vnd.databricks.v1+notebook": {
   "computePreferences": null,
   "dashboards": [],
   "environmentMetadata": {
    "base_environment": "",
    "environment_version": "3"
   },
   "inputWidgetPreferences": null,
   "language": "python",
   "notebookMetadata": {
    "pythonIndentUnit": 4
   },
   "notebookName": "TallerFinal_Silver_HugoHoyos",
   "widgets": {}
  },
  "language_info": {
   "name": "python"
  }
 },
 "nbformat": 4,
 "nbformat_minor": 0
}
