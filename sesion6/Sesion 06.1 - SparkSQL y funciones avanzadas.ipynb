{
 "cells": [
  {
   "cell_type": "markdown",
   "metadata": {
    "application/vnd.databricks.v1+cell": {
     "cellMetadata": {},
     "inputWidgets": {},
     "nuid": "264b88b9-e96a-4be0-94d6-688df903859c",
     "showTitle": false,
     "tableResultSettingsMap": {},
     "title": ""
    }
   },
   "source": [
    "### Objetivo del laboratorio\n",
    "Aplicar funciones de ventana para analizar rendimiento académico, ranking de estudiantes y evolución de notas en una universidad ficticia."
   ]
  },
  {
   "cell_type": "markdown",
   "metadata": {
    "application/vnd.databricks.v1+cell": {
     "cellMetadata": {},
     "inputWidgets": {},
     "nuid": "3d2379f2-85c8-4c04-839f-4f6dc7392987",
     "showTitle": false,
     "tableResultSettingsMap": {},
     "title": ""
    }
   },
   "source": [
    "**Preparación**\n",
    "\n",
    "- Cargar `estudiantes.csv, cursos.csv, profesores.csv, matriculas.csv.`\n",
    "\n",
    "- Crear DataFrame `matriculas_enriched` con joins para enriquecer con nombre de estudiante, curso y facultad."
   ]
  },
  {
   "cell_type": "markdown",
   "metadata": {
    "application/vnd.databricks.v1+cell": {
     "cellMetadata": {},
     "inputWidgets": {},
     "nuid": "550778b4-86f8-45e8-aafd-23ed5678469e",
     "showTitle": false,
     "tableResultSettingsMap": {},
     "title": ""
    }
   },
   "source": [
    "**Caso 1 – Ranking de estudiantes por carrera**\n",
    "\n",
    "Identificar a los 3 mejores estudiantes en cada carrera por promedio de nota.\n",
    "\n",
    "- `AVG(nota_final)` por estudiante y carrera.\n",
    "\n",
    "- `RANK() OVER (PARTITION BY carrera ORDER BY AVG(nota_final) DESC).`\n",
    "\n",
    "- Guardar tabla Delta `ranking_estudiantes_carrera.`"
   ]
  },
  {
   "cell_type": "code",
   "execution_count": 0,
   "metadata": {
    "application/vnd.databricks.v1+cell": {
     "cellMetadata": {
      "byteLimit": 2048000,
      "rowLimit": 10000
     },
     "inputWidgets": {},
     "nuid": "8fb8e2c4-1dee-491c-9bfe-3cabc6369e83",
     "showTitle": false,
     "tableResultSettingsMap": {},
     "title": ""
    }
   },
   "outputs": [],
   "source": [
    "from pyspark.sql.functions import col"
   ]
  },
  {
   "cell_type": "code",
   "execution_count": 0,
   "metadata": {
    "application/vnd.databricks.v1+cell": {
     "cellMetadata": {
      "byteLimit": 2048000,
      "rowLimit": 10000
     },
     "inputWidgets": {},
     "nuid": "b4c9305a-2352-460d-97ab-426700dcb5f5",
     "showTitle": false,
     "tableResultSettingsMap": {},
     "title": ""
    }
   },
   "outputs": [],
   "source": [
    "catalago_name = \"sesion6\"\n",
    "schema_name = \"universidad\"\n",
    "\n",
    "spark.sql(f\"CREATE CATALOG IF NOT EXISTS {catalago_name}\")\n",
    "spark.sql(f\"CREATE SCHEMA IF NOT EXISTS {catalago_name}.{schema_name}\")"
   ]
  },
  {
   "cell_type": "code",
   "execution_count": 0,
   "metadata": {
    "application/vnd.databricks.v1+cell": {
     "cellMetadata": {},
     "inputWidgets": {},
     "nuid": "2a072bbd-3438-4845-a20c-3ed25943d51c",
     "showTitle": false,
     "tableResultSettingsMap": {},
     "title": ""
    }
   },
   "outputs": [],
   "source": [
    "path_base = \"/Volumes/sesiones/default/sesion6\"\n",
    "\n",
    "path_estudiantes = f\"{path_base}estudiantes.csv\"\n",
    "path_cursos = f\"{path_base}cursos.csv\"\n",
    "path_matriculas = f\"{path_base}matriculas.csv\"\n",
    "path_profesores = f\"{path_base}profesores.csv\"\n"
   ]
  },
  {
   "cell_type": "code",
   "execution_count": 0,
   "metadata": {
    "application/vnd.databricks.v1+cell": {
     "cellMetadata": {},
     "inputWidgets": {},
     "nuid": "edfecd2b-030e-4857-a1d4-663f9a7adfad",
     "showTitle": false,
     "tableResultSettingsMap": {},
     "title": ""
    }
   },
   "outputs": [],
   "source": [
    "df_estudiantes = spark.read.options(header=True).option(\"inferSchema\", \"true\").csv(path_estudiantes)\n",
    "df_cursos = spark.read.options(header=True).option(\"inferSchema\", \"true\").csv(path_cursos)\n",
    "df_matriculas = spark.read.options(header=True).option(\"inferSchema\", \"true\").csv(path_matriculas)\n",
    "df_profesores = spark.read.options(header=True).option(\"inferSchema\", \"true\").csv(path_profesores)"
   ]
  },
  {
   "cell_type": "code",
   "execution_count": 0,
   "metadata": {
    "application/vnd.databricks.v1+cell": {
     "cellMetadata": {},
     "inputWidgets": {},
     "nuid": "6f728a89-69b8-4d6e-b1ee-b27a65deaba5",
     "showTitle": false,
     "tableResultSettingsMap": {},
     "title": ""
    }
   },
   "outputs": [],
   "source": [
    "df_matriculas_clean = (\n",
    "    df_matriculas\n",
    "    .dropna(subset=[\"id_estudiante, id_curso, nota_final\"])\n",
    "    .filter(col(\"nota_final\") >= 0)\n",
    "   \n",
    ")"
   ]
  },
  {
   "cell_type": "code",
   "execution_count": 0,
   "metadata": {
    "application/vnd.databricks.v1+cell": {
     "cellMetadata": {},
     "inputWidgets": {},
     "nuid": "886a0297-9755-428f-9bf1-249dd5f18909",
     "showTitle": false,
     "tableResultSettingsMap": {},
     "title": ""
    }
   },
   "outputs": [],
   "source": [
    "df_matriculas_entiched = (\n",
    "    df_matriculas_clean.alias(\"mc\")\n",
    "    .join(\n",
    "        df_estudiantes.alias (\"e\"),\n",
    "        col(\"mc.id_estudiante\") == col(\"e.id_estudiante\"),\n",
    "        \"left\"\n",
    "    )\n",
    "    .join(\n",
    "        df_cursos.alias(\"c\"),\n",
    "        col(\"mc.id_curso\") == col(\"c.id_curso\"),\n",
    "        \"left\"\n",
    "    \n",
    "        )\n",
    ")"
   ]
  },
  {
   "cell_type": "markdown",
   "metadata": {
    "application/vnd.databricks.v1+cell": {
     "cellMetadata": {},
     "inputWidgets": {},
     "nuid": "c2f432a1-15a4-4859-b093-e0c79a275726",
     "showTitle": false,
     "tableResultSettingsMap": {},
     "title": ""
    }
   },
   "source": [
    "**Caso 2 – Evolución de notas de cada estudiante**\n",
    "\n",
    "Ver cómo varían las notas de cada alumno a lo largo de los semestres.\n",
    "\n",
    "- Calcular promedio de notas por semestre.\n",
    "\n",
    "- Usar `LAG()` para obtener nota promedio del semestre anterior.\n",
    "\n",
    "- Columna `variacion = nota_promedio - nota_semestre_anterior.`\n",
    "\n",
    "- Guardar tabla Delta `variacion_notas_estudiante.`"
   ]
  },
  {
   "cell_type": "markdown",
   "metadata": {
    "application/vnd.databricks.v1+cell": {
     "cellMetadata": {},
     "inputWidgets": {},
     "nuid": "8c33c0ca-6909-4af9-90e2-064f042008e7",
     "showTitle": false,
     "tableResultSettingsMap": {},
     "title": ""
    }
   },
   "source": [
    "**Caso 3 – Acumulado de créditos aprobados**\n",
    "\n",
    "Finanzas académicas quiere saber cuántos créditos ha acumulado cada estudiante.\n",
    "\n",
    "- Considerar cursos con nota_final >= 11 como aprobados.\n",
    "\n",
    "- Usar `SUM(creditos) OVER (PARTITION BY id_estudiante ORDER BY semestre).`\n",
    "\n",
    "- Crear columna `estado`:\n",
    "\n",
    "  - Menos de 30 créditos → “Inicial”\n",
    "\n",
    "  - 30–90 créditos → “Intermedio”\n",
    "\n",
    "  - Más de 90 créditos → “Avanzado”\n",
    "\n",
    "- Guardar tabla Delta `creditos_acumulados.`"
   ]
  },
  {
   "cell_type": "markdown",
   "metadata": {
    "application/vnd.databricks.v1+cell": {
     "cellMetadata": {},
     "inputWidgets": {},
     "nuid": "390e8055-b6e1-4d25-a6d1-4476c0d76245",
     "showTitle": false,
     "tableResultSettingsMap": {},
     "title": ""
    }
   },
   "source": [
    "**Validaciones**\n",
    "\n",
    "¿Quién es el mejor estudiante de Ingeniería?\n",
    "\n",
    "¿Qué estudiante tuvo la mayor mejora de un semestre a otro?\n",
    "\n",
    "¿Cuántos estudiantes ya están en estado “Avanzado”?"
   ]
  }
 ],
 "metadata": {
  "application/vnd.databricks.v1+notebook": {
   "computePreferences": {
    "hardware": {
     "accelerator": null,
     "gpuPoolId": null,
     "memory": null
    }
   },
   "dashboards": [],
   "environmentMetadata": {
    "base_environment": "",
    "environment_version": "2"
   },
   "inputWidgetPreferences": null,
   "language": "python",
   "notebookMetadata": {
    "pythonIndentUnit": 4
   },
   "notebookName": "Sesion 06.1 - SparkSQL y funciones avanzadas",
   "widgets": {}
  },
  "language_info": {
   "name": "python"
  }
 },
 "nbformat": 4,
 "nbformat_minor": 0
}
