{
 "cells": [
  {
   "cell_type": "markdown",
   "metadata": {
    "application/vnd.databricks.v1+cell": {
     "cellMetadata": {},
     "inputWidgets": {},
     "nuid": "264b88b9-e96a-4be0-94d6-688df903859c",
     "showTitle": false,
     "tableResultSettingsMap": {},
     "title": ""
    }
   },
   "source": [
    "### Objetivo del laboratorio\n",
    "Aplicar funciones de ventana para analizar rendimiento académico, ranking de estudiantes y evolución de notas en una universidad ficticia."
   ]
  },
  {
   "cell_type": "markdown",
   "metadata": {
    "application/vnd.databricks.v1+cell": {
     "cellMetadata": {},
     "inputWidgets": {},
     "nuid": "3d2379f2-85c8-4c04-839f-4f6dc7392987",
     "showTitle": false,
     "tableResultSettingsMap": {},
     "title": ""
    }
   },
   "source": [
    "**Preparación**\n",
    "\n",
    "- Cargar `estudiantes.csv, cursos.csv, profesores.csv, matriculas.csv.`\n",
    "\n",
    "- Crear DataFrame `matriculas_enriched` con joins para enriquecer con nombre de estudiante, curso y facultad."
   ]
  },
  {
   "cell_type": "markdown",
   "metadata": {
    "application/vnd.databricks.v1+cell": {
     "cellMetadata": {},
     "inputWidgets": {},
     "nuid": "550778b4-86f8-45e8-aafd-23ed5678469e",
     "showTitle": false,
     "tableResultSettingsMap": {},
     "title": ""
    }
   },
   "source": [
    "**Caso 1 – Ranking de estudiantes por carrera**\n",
    "\n",
    "Identificar a los 3 mejores estudiantes en cada carrera por promedio de nota.\n",
    "\n",
    "- `AVG(nota_final)` por estudiante y carrera.\n",
    "\n",
    "- `RANK() OVER (PARTITION BY carrera ORDER BY AVG(nota_final) DESC).`\n",
    "\n",
    "- Guardar tabla Delta `ranking_estudiantes_carrera.`"
   ]
  },
  {
   "cell_type": "code",
   "execution_count": 0,
   "metadata": {
    "application/vnd.databricks.v1+cell": {
     "cellMetadata": {
      "byteLimit": 2048000,
      "rowLimit": 10000
     },
     "inputWidgets": {},
     "nuid": "acec190c-6faf-4ecc-810c-0bc81bee805e",
     "showTitle": false,
     "tableResultSettingsMap": {},
     "title": ""
    }
   },
   "outputs": [],
   "source": [
    "from pyspark.sql.functions import col, avg, round, rank, expr, lag, lit, when, sum\n",
    "from pyspark.sql.window import Window"
   ]
  },
  {
   "cell_type": "code",
   "execution_count": 0,
   "metadata": {
    "application/vnd.databricks.v1+cell": {
     "cellMetadata": {
      "byteLimit": 2048000,
      "rowLimit": 10000
     },
     "inputWidgets": {},
     "nuid": "47adda29-b991-4104-8d9c-0204300c400e",
     "showTitle": false,
     "tableResultSettingsMap": {},
     "title": ""
    }
   },
   "outputs": [],
   "source": [
    "catalog_name = \"sesion_06\"\n",
    "schema_name = \"universidad\"\n",
    "\n",
    "spark.sql(f\"CREATE CATALOG IF NOT EXISTS {catalog_name}\")\n",
    "\n",
    "spark.sql(f\"CREATE SCHEMA IF NOT EXISTS {catalog_name}.{schema_name}\")"
   ]
  },
  {
   "cell_type": "code",
   "execution_count": 0,
   "metadata": {
    "application/vnd.databricks.v1+cell": {
     "cellMetadata": {
      "byteLimit": 2048000,
      "rowLimit": 10000
     },
     "inputWidgets": {},
     "nuid": "f54e05df-35aa-4896-a5f9-3712a1c51808",
     "showTitle": false,
     "tableResultSettingsMap": {},
     "title": ""
    }
   },
   "outputs": [],
   "source": [
    "path_base = \"/Volumes/sesion_06/universidad/input/\"\n",
    "\n",
    "path_estudiantes = f\"{path_base}estudiantes.csv\"\n",
    "path_cursos = f\"{path_base}cursos.csv\"\n",
    "path_profesores = f\"{path_base}profesores.csv\"\n",
    "path_matriculas = f\"{path_base}matriculas.csv\""
   ]
  },
  {
   "cell_type": "code",
   "execution_count": 0,
   "metadata": {
    "application/vnd.databricks.v1+cell": {
     "cellMetadata": {
      "byteLimit": 2048000,
      "rowLimit": 10000
     },
     "inputWidgets": {},
     "nuid": "c61f9c01-8353-4ab2-b12b-79b6bae1a830",
     "showTitle": false,
     "tableResultSettingsMap": {},
     "title": ""
    }
   },
   "outputs": [],
   "source": [
    "df_estudiantes = spark.read.option(\"header\", True).option(\"inferSchema\", True).csv(path_estudiantes)\n",
    "df_cursos = spark.read.option(\"header\", True).option(\"inferSchema\", True).csv(path_cursos)\n",
    "df_profesores = spark.read.option(\"header\", True).option(\"inferSchema\", True).csv(path_profesores)\n",
    "df_matriculas = spark.read.option(\"header\", True).option(\"inferSchema\", True).csv(path_matriculas)"
   ]
  },
  {
   "cell_type": "code",
   "execution_count": 0,
   "metadata": {
    "application/vnd.databricks.v1+cell": {
     "cellMetadata": {
      "byteLimit": 2048000,
      "rowLimit": 10000
     },
     "inputWidgets": {},
     "nuid": "63982746-5611-482d-afe2-7e607810929b",
     "showTitle": false,
     "tableResultSettingsMap": {},
     "title": ""
    }
   },
   "outputs": [],
   "source": [
    "df_matriculas_clean = (\n",
    "    df_matriculas\n",
    "    .dropna(subset=[\"id_estudiante\", \"id_curso\", \"nota_final\"])\n",
    "    .filter(col(\"nota_final\") >= 0)\n",
    ")"
   ]
  },
  {
   "cell_type": "code",
   "execution_count": 0,
   "metadata": {
    "application/vnd.databricks.v1+cell": {
     "cellMetadata": {
      "byteLimit": 2048000,
      "rowLimit": 10000
     },
     "inputWidgets": {},
     "nuid": "69367dac-905c-4d85-994d-2fe3d733f6f3",
     "showTitle": false,
     "tableResultSettingsMap": {},
     "title": ""
    }
   },
   "outputs": [],
   "source": [
    "df_matriculas_enriched = (\n",
    "    df_matriculas_clean.alias(\"mc\")\n",
    "    .join(\n",
    "        df_estudiantes.alias(\"e\"),\n",
    "        col(\"mc.id_estudiante\") == col(\"e.id_estudiante\"),\n",
    "        \"left\"\n",
    "    )\n",
    "    .join(\n",
    "        df_cursos.alias(\"c\"),\n",
    "        col(\"mc.id_curso\") == col(\"c.id_curso\"),\n",
    "        \"left\"\n",
    "    )\n",
    "    .drop(\n",
    "        col(\"e.id_estudiante\"),\n",
    "        col(\"c.id_curso\")\n",
    "    )\n",
    ")"
   ]
  },
  {
   "cell_type": "code",
   "execution_count": 0,
   "metadata": {
    "application/vnd.databricks.v1+cell": {
     "cellMetadata": {
      "byteLimit": 2048000,
      "rowLimit": 10000
     },
     "collapsed": true,
     "inputWidgets": {},
     "nuid": "e6ba6176-2c01-4401-bc93-3acc5fe910fc",
     "showTitle": false,
     "tableResultSettingsMap": {},
     "title": ""
    }
   },
   "outputs": [],
   "source": [
    "display(df_matriculas_enriched)"
   ]
  },
  {
   "cell_type": "code",
   "execution_count": 0,
   "metadata": {
    "application/vnd.databricks.v1+cell": {
     "cellMetadata": {
      "byteLimit": 2048000,
      "rowLimit": 10000
     },
     "inputWidgets": {},
     "nuid": "9deb591d-befd-45d2-8ffe-170199fa0158",
     "showTitle": false,
     "tableResultSettingsMap": {},
     "title": ""
    }
   },
   "outputs": [],
   "source": [
    "df_avg_estudiante_carrera = (\n",
    "  df_matriculas_enriched\n",
    "  .groupBy(\"id_estudiante\", \"carrera\")\n",
    "  .agg(round(avg(col(\"nota_final\")), 2).alias(\"promedio\"))\n",
    ")"
   ]
  },
  {
   "cell_type": "code",
   "execution_count": 0,
   "metadata": {
    "application/vnd.databricks.v1+cell": {
     "cellMetadata": {
      "byteLimit": 2048000,
      "rowLimit": 10000
     },
     "inputWidgets": {},
     "nuid": "d2927447-c8d4-41a0-a8a8-4fbe078fc96e",
     "showTitle": false,
     "tableResultSettingsMap": {},
     "title": ""
    }
   },
   "outputs": [],
   "source": [
    "windows_rank = Window.partitionBy(\"carrera\").orderBy(col(\"promedio\").desc())\n",
    "\n",
    "df_ranking_estudiantes_carrera = (\n",
    "    df_avg_estudiante_carrera\n",
    "    .withColumn(\"ranking\", rank().over(windows_rank))\n",
    "    .filter(col(\"ranking\") <= 3)\n",
    ")"
   ]
  },
  {
   "cell_type": "code",
   "execution_count": 0,
   "metadata": {
    "application/vnd.databricks.v1+cell": {
     "cellMetadata": {
      "byteLimit": 2048000,
      "rowLimit": 10000
     },
     "inputWidgets": {},
     "nuid": "09cc52f7-2090-4b30-8fc3-4c254e1d7922",
     "showTitle": false,
     "tableResultSettingsMap": {},
     "title": ""
    }
   },
   "outputs": [],
   "source": [
    "df_ranking_estudiantes_carrera.write.format(\"delta\").mode(\"overwrite\").saveAsTable(f\"{catalog_name}.{schema_name}.ranking_estudiantes_carrera\")"
   ]
  },
  {
   "cell_type": "code",
   "execution_count": 0,
   "metadata": {
    "application/vnd.databricks.v1+cell": {
     "cellMetadata": {
      "byteLimit": 2048000,
      "implicitDf": true,
      "rowLimit": 10000
     },
     "inputWidgets": {},
     "nuid": "7467d937-519b-4b70-949b-7b8bc37411c6",
     "showTitle": false,
     "tableResultSettingsMap": {},
     "title": ""
    }
   },
   "outputs": [],
   "source": [
    "%sql\n",
    "select * from sesion_06.universidad.ranking_estudiantes_carrera"
   ]
  },
  {
   "cell_type": "markdown",
   "metadata": {
    "application/vnd.databricks.v1+cell": {
     "cellMetadata": {},
     "inputWidgets": {},
     "nuid": "c2f432a1-15a4-4859-b093-e0c79a275726",
     "showTitle": false,
     "tableResultSettingsMap": {},
     "title": ""
    }
   },
   "source": [
    "**Caso 2 – Evolución de notas de cada estudiante**\n",
    "\n",
    "Ver cómo varían las notas de cada alumno a lo largo de los semestres.\n",
    "\n",
    "- Calcular promedio de notas por semestre.\n",
    "\n",
    "- Usar `LAG()` para obtener nota promedio del semestre anterior.\n",
    "\n",
    "- Columna `variacion = nota_promedio - nota_semestre_anterior.`\n",
    "\n",
    "- Guardar tabla Delta `variacion_notas_estudiante.`"
   ]
  },
  {
   "cell_type": "code",
   "execution_count": 0,
   "metadata": {
    "application/vnd.databricks.v1+cell": {
     "cellMetadata": {
      "byteLimit": 2048000,
      "rowLimit": 10000
     },
     "inputWidgets": {},
     "nuid": "7ccfeebd-3033-4ea2-94e8-ab656549834d",
     "showTitle": false,
     "tableResultSettingsMap": {},
     "title": ""
    }
   },
   "outputs": [],
   "source": [
    "expr_ord = expr(\"int(split(semestre, '-')[0]) * 10 + int(split(semestre, '-')[1])\")\n",
    "\n",
    "df_avg_estudiante_semestre = (\n",
    "  df_matriculas_enriched\n",
    "  .groupBy(\"id_estudiante\", \"semestre\")\n",
    "  .agg(round(avg(col(\"nota_final\")), 2).alias(\"promedio\"))\n",
    "  .withColumn(\n",
    "      \"semestre_orden\",\n",
    "      expr_ord\n",
    "  )\n",
    ")"
   ]
  },
  {
   "cell_type": "code",
   "execution_count": 0,
   "metadata": {
    "application/vnd.databricks.v1+cell": {
     "cellMetadata": {
      "byteLimit": 2048000,
      "rowLimit": 10000
     },
     "inputWidgets": {},
     "nuid": "518f68af-a1b3-4b1b-b6b9-44903de94e99",
     "showTitle": false,
     "tableResultSettingsMap": {},
     "title": ""
    }
   },
   "outputs": [],
   "source": [
    "windows_lag = Window.partitionBy(\"id_estudiante\").orderBy(col(\"semestre_orden\"))\n",
    "\n",
    "df_variacion_notas_estudiante = (\n",
    "    df_avg_estudiante_semestre\n",
    "    .withColumn(\"nota_anterior\", lag(\"promedio\").over(windows_lag))\n",
    "    .withColumn(\"variacion\", col(\"promedio\") - col(\"nota_anterior\"))\n",
    ")"
   ]
  },
  {
   "cell_type": "code",
   "execution_count": 0,
   "metadata": {
    "application/vnd.databricks.v1+cell": {
     "cellMetadata": {
      "byteLimit": 2048000,
      "rowLimit": 10000
     },
     "inputWidgets": {},
     "nuid": "f288bffc-ffeb-4dbb-95e0-9ba85c0a571d",
     "showTitle": false,
     "tableResultSettingsMap": {},
     "title": ""
    }
   },
   "outputs": [],
   "source": [
    "df_variacion_notas_estudiante.write.format(\"delta\").mode(\"overwrite\").saveAsTable(f\"{catalog_name}.{schema_name}.variacion_notas_estudiante\")"
   ]
  },
  {
   "cell_type": "code",
   "execution_count": 0,
   "metadata": {
    "application/vnd.databricks.v1+cell": {
     "cellMetadata": {
      "byteLimit": 2048000,
      "implicitDf": true,
      "rowLimit": 10000
     },
     "inputWidgets": {},
     "nuid": "cea0e95b-815f-4e96-b2ff-a26758b7073d",
     "showTitle": false,
     "tableResultSettingsMap": {},
     "title": ""
    }
   },
   "outputs": [],
   "source": [
    "%sql\n",
    "\n",
    "select * from sesion_06.universidad.variacion_notas_estudiante"
   ]
  },
  {
   "cell_type": "markdown",
   "metadata": {
    "application/vnd.databricks.v1+cell": {
     "cellMetadata": {},
     "inputWidgets": {},
     "nuid": "8c33c0ca-6909-4af9-90e2-064f042008e7",
     "showTitle": false,
     "tableResultSettingsMap": {},
     "title": ""
    }
   },
   "source": [
    "**Caso 3 – Acumulado de créditos aprobados**\n",
    "\n",
    "Finanzas académicas quiere saber cuántos créditos ha acumulado cada estudiante.\n",
    "\n",
    "- Considerar cursos con nota_final >= 11 como aprobados.\n",
    "\n",
    "- Usar `SUM(creditos) OVER (PARTITION BY id_estudiante ORDER BY semestre).`\n",
    "\n",
    "- Crear columna `estado`:\n",
    "\n",
    "  - Menos de 30 créditos → “Inicial”\n",
    "\n",
    "  - 30–90 créditos → “Intermedio”\n",
    "\n",
    "  - Más de 90 créditos → “Avanzado”\n",
    "\n",
    "- Guardar tabla Delta `creditos_acumulados.`"
   ]
  },
  {
   "cell_type": "code",
   "execution_count": 0,
   "metadata": {
    "application/vnd.databricks.v1+cell": {
     "cellMetadata": {
      "byteLimit": 2048000,
      "rowLimit": 10000
     },
     "inputWidgets": {},
     "nuid": "da0dc7e5-3516-4c3f-b05a-2137b04be938",
     "showTitle": false,
     "tableResultSettingsMap": {},
     "title": ""
    }
   },
   "outputs": [],
   "source": [
    "df_aprobados = (\n",
    "    df_matriculas_enriched.alias(\"me\")\n",
    "    .join(\n",
    "        df_cursos.alias(\"c\"),\n",
    "        col(\"me.id_curso\") == col(\"c.id_curso\"),\n",
    "        \"left\"\n",
    "    )\n",
    "    .filter(col(\"me.nota_final\") >= 11)\n",
    "    .select(\n",
    "        col(\"me.id_estudiante\"),\n",
    "        col(\"me.semestre\"),\n",
    "        col(\"c.creditos\")\n",
    "    )\n",
    "    .withColumn(\n",
    "        \"semestre_orden\",\n",
    "        expr_ord\n",
    "    ) \n",
    ")"
   ]
  },
  {
   "cell_type": "code",
   "execution_count": 0,
   "metadata": {
    "application/vnd.databricks.v1+cell": {
     "cellMetadata": {
      "byteLimit": 2048000,
      "rowLimit": 10000
     },
     "inputWidgets": {},
     "nuid": "1f229680-430e-4ada-9f47-8e71f5f066a5",
     "showTitle": false,
     "tableResultSettingsMap": {},
     "title": ""
    }
   },
   "outputs": [],
   "source": [
    "windows_acum = Window.partitionBy(\"id_estudiante\").orderBy(col(\"semestre_orden\"))\n",
    "\n",
    "df_creditos_acumulados = (\n",
    "    df_aprobados\n",
    "    .withColumn(\"creditos_acumulados\", sum(\"creditos\").over(windows_acum))\n",
    "    .withColumn(\n",
    "        \"estado\",\n",
    "        when(col(\"creditos_acumulados\") < 30, lit(\"Inicial\"))\n",
    "        .when(\n",
    "            (col(\"creditos_acumulados\") >= 30) &\n",
    "            (col(\"creditos_acumulados\") < 90), \n",
    "            lit(\"Intermedio\")\n",
    "        )\n",
    "        .otherwise(lit(\"Avanzado\"))\n",
    "    )       \n",
    ")\n"
   ]
  },
  {
   "cell_type": "code",
   "execution_count": 0,
   "metadata": {
    "application/vnd.databricks.v1+cell": {
     "cellMetadata": {
      "byteLimit": 2048000,
      "rowLimit": 10000
     },
     "inputWidgets": {},
     "nuid": "dc82dc81-8c5f-45ad-9520-6f439ebeb74e",
     "showTitle": false,
     "tableResultSettingsMap": {},
     "title": ""
    }
   },
   "outputs": [],
   "source": [
    "df_creditos_acumulados.write.format(\"delta\").mode(\"overwrite\").saveAsTable(f\"{catalog_name}.{schema_name}.creditos_acumulados\")"
   ]
  },
  {
   "cell_type": "code",
   "execution_count": 0,
   "metadata": {
    "application/vnd.databricks.v1+cell": {
     "cellMetadata": {
      "byteLimit": 2048000,
      "implicitDf": true,
      "rowLimit": 10000
     },
     "inputWidgets": {},
     "nuid": "b163a1e9-91ae-4b90-a304-d96b5657b8a5",
     "showTitle": false,
     "tableResultSettingsMap": {},
     "title": ""
    }
   },
   "outputs": [],
   "source": [
    "%sql\n",
    "\n",
    "select * from sesion_06.universidad.creditos_acumulados"
   ]
  },
  {
   "cell_type": "markdown",
   "metadata": {
    "application/vnd.databricks.v1+cell": {
     "cellMetadata": {},
     "inputWidgets": {},
     "nuid": "390e8055-b6e1-4d25-a6d1-4476c0d76245",
     "showTitle": false,
     "tableResultSettingsMap": {},
     "title": ""
    }
   },
   "source": [
    "**Validaciones**\n",
    "\n",
    "¿Quién es el mejor estudiante de Ingeniería?\n",
    "\n",
    "¿Qué estudiante tuvo la mayor mejora de un semestre a otro?\n",
    "\n",
    "¿Cuántos estudiantes ya están en estado “Avanzado”?"
   ]
  }
 ],
 "metadata": {
  "application/vnd.databricks.v1+notebook": {
   "computePreferences": {
    "hardware": {
     "accelerator": null,
     "gpuPoolId": null,
     "memory": null
    }
   },
   "dashboards": [],
   "environmentMetadata": {
    "base_environment": "",
    "environment_version": "2"
   },
   "inputWidgetPreferences": null,
   "language": "python",
   "notebookMetadata": {
    "mostRecentlyExecutedCommandWithImplicitDF": {
     "commandId": 7581389913509347,
     "dataframes": [
      "_sqldf"
     ]
    },
    "pythonIndentUnit": 4
   },
   "notebookName": "Sesion 06.1 - SparkSQL y funciones avanzadas (1)",
   "widgets": {}
  },
  "language_info": {
   "name": "python"
  }
 },
 "nbformat": 4,
 "nbformat_minor": 0
}
